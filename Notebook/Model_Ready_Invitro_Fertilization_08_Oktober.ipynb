{
 "cells": [
  {
   "cell_type": "markdown",
   "metadata": {
    "id": "6mt1fc5vIDS2"
   },
   "source": [
    "# Import Library"
   ]
  },
  {
   "cell_type": "code",
   "execution_count": 1,
   "metadata": {
    "colab": {
     "base_uri": "https://localhost:8080/"
    },
    "id": "vUIj2O-zzoST",
    "outputId": "7693e66b-7ff9-419d-9177-5bd8f2d595eb"
   },
   "outputs": [],
   "source": [
    "#from google.colab import drive\n",
    "#drive.mount('/content/drive')"
   ]
  },
  {
   "cell_type": "code",
   "execution_count": 2,
   "metadata": {
    "id": "LcbPKKenzr9T"
   },
   "outputs": [],
   "source": [
    "import matplotlib.pyplot as plt\n",
    "import numpy as np\n",
    "import pandas as pd\n",
    "import seaborn as sns\n",
    "\n",
    "from sklearn.linear_model import LogisticRegression #Logistic Regression\n",
    "from sklearn.neighbors import KNeighborsClassifier #KNN Neighbors\n",
    "from sklearn.tree import DecisionTreeClassifier #DecisionTree\n",
    "from sklearn.ensemble import RandomForestClassifier #RandomForest\n",
    "from sklearn.svm import SVC #SupportVectorMachine\n",
    "import xgboost as xgb #Xgboost classifier\n",
    "\n",
    "from sklearn.model_selection import RandomizedSearchCV #finding best param\n",
    "from sklearn.model_selection import GridSearchCV #finding best param\n",
    "from sklearn.model_selection import RepeatedStratifiedKFold #For crossvalidation folds\n",
    "\n",
    "from sklearn.metrics import roc_auc_score\n",
    "from sklearn.metrics import plot_confusion_matrix, f1_score, accuracy_score\n",
    "from sklearn.metrics import classification_report\n",
    "from sklearn.metrics import plot_roc_curve\n",
    "\n",
    "from sklearn.preprocessing import StandardScaler #if needed\n",
    "from sklearn.pipeline import Pipeline #if needed"
   ]
  },
  {
   "cell_type": "code",
   "execution_count": 3,
   "metadata": {
    "colab": {
     "base_uri": "https://localhost:8080/"
    },
    "id": "RvRRsxyNk4I8",
    "outputId": "199f251c-40d2-42ce-dc37-bbc614cb26cc"
   },
   "outputs": [
    {
     "name": "stdout",
     "output_type": "stream",
     "text": [
      "Collecting shap\n",
      "  Using cached shap-0.41.0-cp38-cp38-win_amd64.whl (435 kB)\n",
      "Requirement already satisfied: scipy in e:\\anaconda3\\lib\\site-packages (from shap) (1.5.2)\n",
      "Collecting slicer==0.0.7\n",
      "  Using cached slicer-0.0.7-py3-none-any.whl (14 kB)\n",
      "Requirement already satisfied: numba in e:\\anaconda3\\lib\\site-packages (from shap) (0.51.2)\n",
      "Requirement already satisfied: tqdm>4.25.0 in e:\\anaconda3\\lib\\site-packages (from shap) (4.50.2)\n",
      "Requirement already satisfied: cloudpickle in e:\\anaconda3\\lib\\site-packages (from shap) (1.6.0)\n",
      "Collecting packaging>20.9\n",
      "  Using cached packaging-21.3-py3-none-any.whl (40 kB)\n",
      "Requirement already satisfied: numpy in e:\\anaconda3\\lib\\site-packages (from shap) (1.23.3)\n",
      "Requirement already satisfied: scikit-learn in e:\\anaconda3\\lib\\site-packages (from shap) (0.23.2)\n",
      "Requirement already satisfied: pandas in e:\\anaconda3\\lib\\site-packages (from shap) (1.1.3)\n",
      "Requirement already satisfied: llvmlite<0.35,>=0.34.0.dev0 in e:\\anaconda3\\lib\\site-packages (from numba->shap) (0.34.0)\n",
      "Requirement already satisfied: setuptools in e:\\anaconda3\\lib\\site-packages (from numba->shap) (65.4.1)\n",
      "Requirement already satisfied: pyparsing!=3.0.5,>=2.0.2 in e:\\anaconda3\\lib\\site-packages (from packaging>20.9->shap) (2.4.7)\n",
      "Requirement already satisfied: joblib>=0.11 in e:\\anaconda3\\lib\\site-packages (from scikit-learn->shap) (0.17.0)\n",
      "Requirement already satisfied: threadpoolctl>=2.0.0 in e:\\anaconda3\\lib\\site-packages (from scikit-learn->shap) (2.1.0)\n",
      "Requirement already satisfied: pytz>=2017.2 in e:\\anaconda3\\lib\\site-packages (from pandas->shap) (2020.1)\n",
      "Requirement already satisfied: python-dateutil>=2.7.3 in e:\\anaconda3\\lib\\site-packages (from pandas->shap) (2.8.1)\n",
      "Requirement already satisfied: six>=1.5 in e:\\anaconda3\\lib\\site-packages (from python-dateutil>=2.7.3->pandas->shap) (1.15.0)\n",
      "Installing collected packages: slicer, packaging, shap\n",
      "  Attempting uninstall: packaging\n",
      "    Found existing installation: packaging 20.4\n",
      "    Uninstalling packaging-20.4:\n",
      "      Successfully uninstalled packaging-20.4\n",
      "Successfully installed packaging-21.3 shap-0.41.0 slicer-0.0.7\n"
     ]
    }
   ],
   "source": [
    "!pip install shap\n",
    "import shap"
   ]
  },
  {
   "cell_type": "code",
   "execution_count": 4,
   "metadata": {
    "colab": {
     "base_uri": "https://localhost:8080/"
    },
    "id": "ZsIjbvXsmzJI",
    "outputId": "d1eec000-18b8-43ca-9c7b-83b7e65ff045"
   },
   "outputs": [
    {
     "name": "stdout",
     "output_type": "stream",
     "text": [
      "Collecting pyxlsb\n",
      "  Using cached pyxlsb-1.0.9-py2.py3-none-any.whl (23 kB)\n",
      "Installing collected packages: pyxlsb\n",
      "Successfully installed pyxlsb-1.0.9\n"
     ]
    }
   ],
   "source": [
    "!pip install pyxlsb"
   ]
  },
  {
   "cell_type": "markdown",
   "metadata": {
    "id": "qsHRh7igIO9G"
   },
   "source": [
    "#Import Datasets"
   ]
  },
  {
   "cell_type": "code",
   "execution_count": 5,
   "metadata": {
    "id": "1MvERhKezugq"
   },
   "outputs": [],
   "source": [
    "#df_train = pd.read_csv(\"/content/drive/My Drive/DATA SCIENCE/Project ML & Deployment/TrainTestIVF/train_IVF.csv\")\n",
    "#df_train = pd.read_csv(\"/content/drive/My Drive/DATA SCIENCE/Project ML & Deployment/TrainTestIVF/train_2010-2014.csv\")"
   ]
  },
  {
   "cell_type": "code",
   "execution_count": 6,
   "metadata": {},
   "outputs": [],
   "source": [
    "df_train = pd.read_csv(\"F:/DATA SCIENCE/Project ML & Deployment/Modelling/train_2010-2014.csv\")"
   ]
  },
  {
   "cell_type": "code",
   "execution_count": 7,
   "metadata": {
    "id": "1hwzoyol0ebC"
   },
   "outputs": [],
   "source": [
    "#df_test = pd.read_csv(\"/content/drive/My Drive/DATA SCIENCE/Project ML & Deployment/TrainTestIVF/test_IVF.csv\")\n",
    "#df_test = pd.read_csv(\"/content/drive/My Drive/DATA SCIENCE/Project ML & Deployment/TrainTestIVF/test_2010-2014.csv\")\n",
    "df_test = pd.read_csv(\"F:/DATA SCIENCE/Project ML & Deployment/Modelling/test_2010-2014.csv\")"
   ]
  },
  {
   "cell_type": "code",
   "execution_count": 8,
   "metadata": {
    "colab": {
     "base_uri": "https://localhost:8080/",
     "height": 560
    },
    "id": "cjMOg35r0uJk",
    "outputId": "ed92f033-bfac-4793-bb2f-4e673596cd5a"
   },
   "outputs": [
    {
     "data": {
      "text/html": [
       "<div>\n",
       "<style scoped>\n",
       "    .dataframe tbody tr th:only-of-type {\n",
       "        vertical-align: middle;\n",
       "    }\n",
       "\n",
       "    .dataframe tbody tr th {\n",
       "        vertical-align: top;\n",
       "    }\n",
       "\n",
       "    .dataframe thead th {\n",
       "        text-align: right;\n",
       "    }\n",
       "</style>\n",
       "<table border=\"1\" class=\"dataframe\">\n",
       "  <thead>\n",
       "    <tr style=\"text-align: right;\">\n",
       "      <th></th>\n",
       "      <th>Patient Age at Treatment</th>\n",
       "      <th>Total Number of Previous IVF cycles</th>\n",
       "      <th>Total Number of Previous DI cycles</th>\n",
       "      <th>Total number of IVF pregnancies</th>\n",
       "      <th>Total number of DI pregnancies</th>\n",
       "      <th>Main Reason for Producing Embroys Storing Eggs</th>\n",
       "      <th>Donated embryo</th>\n",
       "      <th>Patient acting as Surrogate</th>\n",
       "      <th>Type of treatment - IVF or DI</th>\n",
       "      <th>Specific treatment type</th>\n",
       "      <th>...</th>\n",
       "      <th>Eggs Mixed With Donor sperm</th>\n",
       "      <th>Total Embryos Created</th>\n",
       "      <th>Eggs Micro-injected</th>\n",
       "      <th>Total Embryos Thawed</th>\n",
       "      <th>Embryos Transfered</th>\n",
       "      <th>Embryos Transfered from Eggs Micro-injected</th>\n",
       "      <th>Embryos Stored For Use By Patient</th>\n",
       "      <th>Type of Infertility</th>\n",
       "      <th>Cause of Infertility</th>\n",
       "      <th>success or not</th>\n",
       "    </tr>\n",
       "  </thead>\n",
       "  <tbody>\n",
       "    <tr>\n",
       "      <th>0</th>\n",
       "      <td>2</td>\n",
       "      <td>0</td>\n",
       "      <td>0</td>\n",
       "      <td>0</td>\n",
       "      <td>0</td>\n",
       "      <td>0.0</td>\n",
       "      <td>0.0</td>\n",
       "      <td>0.0</td>\n",
       "      <td>1</td>\n",
       "      <td>2.0</td>\n",
       "      <td>...</td>\n",
       "      <td>0</td>\n",
       "      <td>1</td>\n",
       "      <td>0</td>\n",
       "      <td>0</td>\n",
       "      <td>2.0</td>\n",
       "      <td>0.0</td>\n",
       "      <td>0</td>\n",
       "      <td>0</td>\n",
       "      <td>4</td>\n",
       "      <td>0</td>\n",
       "    </tr>\n",
       "    <tr>\n",
       "      <th>1</th>\n",
       "      <td>1</td>\n",
       "      <td>0</td>\n",
       "      <td>0</td>\n",
       "      <td>0</td>\n",
       "      <td>0</td>\n",
       "      <td>0.0</td>\n",
       "      <td>0.0</td>\n",
       "      <td>0.0</td>\n",
       "      <td>1</td>\n",
       "      <td>1.0</td>\n",
       "      <td>...</td>\n",
       "      <td>0</td>\n",
       "      <td>2</td>\n",
       "      <td>1</td>\n",
       "      <td>0</td>\n",
       "      <td>2.0</td>\n",
       "      <td>2.0</td>\n",
       "      <td>0</td>\n",
       "      <td>0</td>\n",
       "      <td>3</td>\n",
       "      <td>0</td>\n",
       "    </tr>\n",
       "    <tr>\n",
       "      <th>2</th>\n",
       "      <td>1</td>\n",
       "      <td>2</td>\n",
       "      <td>0</td>\n",
       "      <td>0</td>\n",
       "      <td>0</td>\n",
       "      <td>0.0</td>\n",
       "      <td>0.0</td>\n",
       "      <td>0.0</td>\n",
       "      <td>1</td>\n",
       "      <td>1.0</td>\n",
       "      <td>...</td>\n",
       "      <td>0</td>\n",
       "      <td>1</td>\n",
       "      <td>1</td>\n",
       "      <td>0</td>\n",
       "      <td>2.0</td>\n",
       "      <td>2.0</td>\n",
       "      <td>0</td>\n",
       "      <td>0</td>\n",
       "      <td>2</td>\n",
       "      <td>1</td>\n",
       "    </tr>\n",
       "    <tr>\n",
       "      <th>3</th>\n",
       "      <td>1</td>\n",
       "      <td>2</td>\n",
       "      <td>0</td>\n",
       "      <td>0</td>\n",
       "      <td>0</td>\n",
       "      <td>0.0</td>\n",
       "      <td>0.0</td>\n",
       "      <td>0.0</td>\n",
       "      <td>1</td>\n",
       "      <td>1.0</td>\n",
       "      <td>...</td>\n",
       "      <td>0</td>\n",
       "      <td>2</td>\n",
       "      <td>1</td>\n",
       "      <td>0</td>\n",
       "      <td>2.0</td>\n",
       "      <td>2.0</td>\n",
       "      <td>1</td>\n",
       "      <td>0</td>\n",
       "      <td>3</td>\n",
       "      <td>0</td>\n",
       "    </tr>\n",
       "    <tr>\n",
       "      <th>4</th>\n",
       "      <td>0</td>\n",
       "      <td>0</td>\n",
       "      <td>0</td>\n",
       "      <td>0</td>\n",
       "      <td>0</td>\n",
       "      <td>0.0</td>\n",
       "      <td>0.0</td>\n",
       "      <td>0.0</td>\n",
       "      <td>1</td>\n",
       "      <td>1.0</td>\n",
       "      <td>...</td>\n",
       "      <td>0</td>\n",
       "      <td>2</td>\n",
       "      <td>2</td>\n",
       "      <td>0</td>\n",
       "      <td>2.0</td>\n",
       "      <td>2.0</td>\n",
       "      <td>1</td>\n",
       "      <td>0</td>\n",
       "      <td>3</td>\n",
       "      <td>0</td>\n",
       "    </tr>\n",
       "    <tr>\n",
       "      <th>5</th>\n",
       "      <td>1</td>\n",
       "      <td>1</td>\n",
       "      <td>0</td>\n",
       "      <td>0</td>\n",
       "      <td>0</td>\n",
       "      <td>4.0</td>\n",
       "      <td>0.0</td>\n",
       "      <td>0.0</td>\n",
       "      <td>1</td>\n",
       "      <td>2.0</td>\n",
       "      <td>...</td>\n",
       "      <td>0</td>\n",
       "      <td>0</td>\n",
       "      <td>0</td>\n",
       "      <td>0</td>\n",
       "      <td>0.0</td>\n",
       "      <td>0.0</td>\n",
       "      <td>0</td>\n",
       "      <td>0</td>\n",
       "      <td>0</td>\n",
       "      <td>0</td>\n",
       "    </tr>\n",
       "    <tr>\n",
       "      <th>6</th>\n",
       "      <td>2</td>\n",
       "      <td>0</td>\n",
       "      <td>0</td>\n",
       "      <td>0</td>\n",
       "      <td>0</td>\n",
       "      <td>0.0</td>\n",
       "      <td>0.0</td>\n",
       "      <td>0.0</td>\n",
       "      <td>1</td>\n",
       "      <td>2.0</td>\n",
       "      <td>...</td>\n",
       "      <td>0</td>\n",
       "      <td>0</td>\n",
       "      <td>0</td>\n",
       "      <td>0</td>\n",
       "      <td>1.0</td>\n",
       "      <td>0.0</td>\n",
       "      <td>0</td>\n",
       "      <td>0</td>\n",
       "      <td>4</td>\n",
       "      <td>0</td>\n",
       "    </tr>\n",
       "    <tr>\n",
       "      <th>7</th>\n",
       "      <td>1</td>\n",
       "      <td>2</td>\n",
       "      <td>0</td>\n",
       "      <td>1</td>\n",
       "      <td>0</td>\n",
       "      <td>0.0</td>\n",
       "      <td>0.0</td>\n",
       "      <td>0.0</td>\n",
       "      <td>1</td>\n",
       "      <td>2.0</td>\n",
       "      <td>...</td>\n",
       "      <td>0</td>\n",
       "      <td>1</td>\n",
       "      <td>0</td>\n",
       "      <td>0</td>\n",
       "      <td>2.0</td>\n",
       "      <td>0.0</td>\n",
       "      <td>1</td>\n",
       "      <td>0</td>\n",
       "      <td>5</td>\n",
       "      <td>0</td>\n",
       "    </tr>\n",
       "    <tr>\n",
       "      <th>8</th>\n",
       "      <td>0</td>\n",
       "      <td>0</td>\n",
       "      <td>0</td>\n",
       "      <td>0</td>\n",
       "      <td>0</td>\n",
       "      <td>0.0</td>\n",
       "      <td>0.0</td>\n",
       "      <td>0.0</td>\n",
       "      <td>1</td>\n",
       "      <td>1.0</td>\n",
       "      <td>...</td>\n",
       "      <td>0</td>\n",
       "      <td>1</td>\n",
       "      <td>1</td>\n",
       "      <td>0</td>\n",
       "      <td>2.0</td>\n",
       "      <td>2.0</td>\n",
       "      <td>0</td>\n",
       "      <td>0</td>\n",
       "      <td>3</td>\n",
       "      <td>1</td>\n",
       "    </tr>\n",
       "    <tr>\n",
       "      <th>9</th>\n",
       "      <td>3</td>\n",
       "      <td>3</td>\n",
       "      <td>0</td>\n",
       "      <td>0</td>\n",
       "      <td>0</td>\n",
       "      <td>0.0</td>\n",
       "      <td>0.0</td>\n",
       "      <td>0.0</td>\n",
       "      <td>1</td>\n",
       "      <td>1.0</td>\n",
       "      <td>...</td>\n",
       "      <td>0</td>\n",
       "      <td>0</td>\n",
       "      <td>0</td>\n",
       "      <td>0</td>\n",
       "      <td>1.0</td>\n",
       "      <td>1.0</td>\n",
       "      <td>0</td>\n",
       "      <td>0</td>\n",
       "      <td>4</td>\n",
       "      <td>0</td>\n",
       "    </tr>\n",
       "  </tbody>\n",
       "</table>\n",
       "<p>10 rows × 30 columns</p>\n",
       "</div>"
      ],
      "text/plain": [
       "   Patient Age at Treatment  Total Number of Previous IVF cycles  \\\n",
       "0                         2                                    0   \n",
       "1                         1                                    0   \n",
       "2                         1                                    2   \n",
       "3                         1                                    2   \n",
       "4                         0                                    0   \n",
       "5                         1                                    1   \n",
       "6                         2                                    0   \n",
       "7                         1                                    2   \n",
       "8                         0                                    0   \n",
       "9                         3                                    3   \n",
       "\n",
       "   Total Number of Previous DI cycles  Total number of IVF pregnancies  \\\n",
       "0                                   0                                0   \n",
       "1                                   0                                0   \n",
       "2                                   0                                0   \n",
       "3                                   0                                0   \n",
       "4                                   0                                0   \n",
       "5                                   0                                0   \n",
       "6                                   0                                0   \n",
       "7                                   0                                1   \n",
       "8                                   0                                0   \n",
       "9                                   0                                0   \n",
       "\n",
       "   Total number of DI pregnancies  \\\n",
       "0                               0   \n",
       "1                               0   \n",
       "2                               0   \n",
       "3                               0   \n",
       "4                               0   \n",
       "5                               0   \n",
       "6                               0   \n",
       "7                               0   \n",
       "8                               0   \n",
       "9                               0   \n",
       "\n",
       "   Main Reason for Producing Embroys Storing Eggs  Donated embryo  \\\n",
       "0                                             0.0             0.0   \n",
       "1                                             0.0             0.0   \n",
       "2                                             0.0             0.0   \n",
       "3                                             0.0             0.0   \n",
       "4                                             0.0             0.0   \n",
       "5                                             4.0             0.0   \n",
       "6                                             0.0             0.0   \n",
       "7                                             0.0             0.0   \n",
       "8                                             0.0             0.0   \n",
       "9                                             0.0             0.0   \n",
       "\n",
       "   Patient acting as Surrogate  Type of treatment - IVF or DI  \\\n",
       "0                          0.0                              1   \n",
       "1                          0.0                              1   \n",
       "2                          0.0                              1   \n",
       "3                          0.0                              1   \n",
       "4                          0.0                              1   \n",
       "5                          0.0                              1   \n",
       "6                          0.0                              1   \n",
       "7                          0.0                              1   \n",
       "8                          0.0                              1   \n",
       "9                          0.0                              1   \n",
       "\n",
       "   Specific treatment type  ...  Eggs Mixed With Donor sperm  \\\n",
       "0                      2.0  ...                            0   \n",
       "1                      1.0  ...                            0   \n",
       "2                      1.0  ...                            0   \n",
       "3                      1.0  ...                            0   \n",
       "4                      1.0  ...                            0   \n",
       "5                      2.0  ...                            0   \n",
       "6                      2.0  ...                            0   \n",
       "7                      2.0  ...                            0   \n",
       "8                      1.0  ...                            0   \n",
       "9                      1.0  ...                            0   \n",
       "\n",
       "   Total Embryos Created  Eggs Micro-injected  Total Embryos Thawed  \\\n",
       "0                      1                    0                     0   \n",
       "1                      2                    1                     0   \n",
       "2                      1                    1                     0   \n",
       "3                      2                    1                     0   \n",
       "4                      2                    2                     0   \n",
       "5                      0                    0                     0   \n",
       "6                      0                    0                     0   \n",
       "7                      1                    0                     0   \n",
       "8                      1                    1                     0   \n",
       "9                      0                    0                     0   \n",
       "\n",
       "   Embryos Transfered  Embryos Transfered from Eggs Micro-injected  \\\n",
       "0                 2.0                                          0.0   \n",
       "1                 2.0                                          2.0   \n",
       "2                 2.0                                          2.0   \n",
       "3                 2.0                                          2.0   \n",
       "4                 2.0                                          2.0   \n",
       "5                 0.0                                          0.0   \n",
       "6                 1.0                                          0.0   \n",
       "7                 2.0                                          0.0   \n",
       "8                 2.0                                          2.0   \n",
       "9                 1.0                                          1.0   \n",
       "\n",
       "   Embryos Stored For Use By Patient  Type of Infertility  \\\n",
       "0                                  0                    0   \n",
       "1                                  0                    0   \n",
       "2                                  0                    0   \n",
       "3                                  1                    0   \n",
       "4                                  1                    0   \n",
       "5                                  0                    0   \n",
       "6                                  0                    0   \n",
       "7                                  1                    0   \n",
       "8                                  0                    0   \n",
       "9                                  0                    0   \n",
       "\n",
       "   Cause of Infertility  success or not  \n",
       "0                     4               0  \n",
       "1                     3               0  \n",
       "2                     2               1  \n",
       "3                     3               0  \n",
       "4                     3               0  \n",
       "5                     0               0  \n",
       "6                     4               0  \n",
       "7                     5               0  \n",
       "8                     3               1  \n",
       "9                     4               0  \n",
       "\n",
       "[10 rows x 30 columns]"
      ]
     },
     "execution_count": 8,
     "metadata": {},
     "output_type": "execute_result"
    }
   ],
   "source": [
    "df_train.head(10)"
   ]
  },
  {
   "cell_type": "code",
   "execution_count": 9,
   "metadata": {
    "colab": {
     "base_uri": "https://localhost:8080/"
    },
    "id": "n-rMO02y0v6x",
    "outputId": "2e63fa5c-6816-47a0-abd4-27ec0f349b57"
   },
   "outputs": [
    {
     "name": "stdout",
     "output_type": "stream",
     "text": [
      "<class 'pandas.core.frame.DataFrame'>\n",
      "RangeIndex: 269687 entries, 0 to 269686\n",
      "Data columns (total 30 columns):\n",
      " #   Column                                          Non-Null Count   Dtype  \n",
      "---  ------                                          --------------   -----  \n",
      " 0   Patient Age at Treatment                        269687 non-null  int64  \n",
      " 1   Total Number of Previous IVF cycles             269687 non-null  int64  \n",
      " 2   Total Number of Previous DI cycles              269687 non-null  int64  \n",
      " 3   Total number of IVF pregnancies                 269687 non-null  int64  \n",
      " 4   Total number of DI pregnancies                  269687 non-null  int64  \n",
      " 5   Main Reason for Producing Embroys Storing Eggs  269687 non-null  float64\n",
      " 6   Donated embryo                                  269687 non-null  float64\n",
      " 7   Patient acting as Surrogate                     269687 non-null  float64\n",
      " 8   Type of treatment - IVF or DI                   269687 non-null  int64  \n",
      " 9   Specific treatment type                         269687 non-null  float64\n",
      " 10  PGD                                             269687 non-null  float64\n",
      " 11  Elective Single Embryo Transfer                 269687 non-null  float64\n",
      " 12  Egg Source                                      269687 non-null  float64\n",
      " 13  Sperm From                                      269687 non-null  int64  \n",
      " 14  Fresh Cycle                                     269687 non-null  float64\n",
      " 15  Frozen Cycle                                    269687 non-null  float64\n",
      " 16  Eggs Thawed                                     269687 non-null  int64  \n",
      " 17  Fresh Eggs Collected                            269687 non-null  int64  \n",
      " 18  Fresh Eggs Stored                               269687 non-null  int64  \n",
      " 19  Eggs Mixed With Partner Sperm                   269687 non-null  int64  \n",
      " 20  Eggs Mixed With Donor sperm                     269687 non-null  int64  \n",
      " 21  Total Embryos Created                           269687 non-null  int64  \n",
      " 22  Eggs Micro-injected                             269687 non-null  int64  \n",
      " 23  Total Embryos Thawed                            269687 non-null  int64  \n",
      " 24  Embryos Transfered                              269687 non-null  float64\n",
      " 25  Embryos Transfered from Eggs Micro-injected     269687 non-null  float64\n",
      " 26  Embryos Stored For Use By Patient               269687 non-null  int64  \n",
      " 27  Type of Infertility                             269687 non-null  int64  \n",
      " 28  Cause of Infertility                            269687 non-null  int64  \n",
      " 29  success or not                                  269687 non-null  int64  \n",
      "dtypes: float64(11), int64(19)\n",
      "memory usage: 61.7 MB\n"
     ]
    }
   ],
   "source": [
    "df_train.info()"
   ]
  },
  {
   "cell_type": "code",
   "execution_count": 10,
   "metadata": {
    "colab": {
     "base_uri": "https://localhost:8080/",
     "height": 463
    },
    "id": "L0Azbtm70w-2",
    "outputId": "5178e74d-2b71-4fdc-83d5-fed37ffae8af"
   },
   "outputs": [
    {
     "data": {
      "text/html": [
       "<div>\n",
       "<style scoped>\n",
       "    .dataframe tbody tr th:only-of-type {\n",
       "        vertical-align: middle;\n",
       "    }\n",
       "\n",
       "    .dataframe tbody tr th {\n",
       "        vertical-align: top;\n",
       "    }\n",
       "\n",
       "    .dataframe thead th {\n",
       "        text-align: right;\n",
       "    }\n",
       "</style>\n",
       "<table border=\"1\" class=\"dataframe\">\n",
       "  <thead>\n",
       "    <tr style=\"text-align: right;\">\n",
       "      <th></th>\n",
       "      <th>Patient Age at Treatment</th>\n",
       "      <th>Total Number of Previous IVF cycles</th>\n",
       "      <th>Total Number of Previous DI cycles</th>\n",
       "      <th>Total number of IVF pregnancies</th>\n",
       "      <th>Total number of DI pregnancies</th>\n",
       "      <th>Main Reason for Producing Embroys Storing Eggs</th>\n",
       "      <th>Donated embryo</th>\n",
       "      <th>Patient acting as Surrogate</th>\n",
       "      <th>Type of treatment - IVF or DI</th>\n",
       "      <th>Specific treatment type</th>\n",
       "      <th>...</th>\n",
       "      <th>Eggs Mixed With Donor sperm</th>\n",
       "      <th>Total Embryos Created</th>\n",
       "      <th>Eggs Micro-injected</th>\n",
       "      <th>Total Embryos Thawed</th>\n",
       "      <th>Embryos Transfered</th>\n",
       "      <th>Embryos Transfered from Eggs Micro-injected</th>\n",
       "      <th>Embryos Stored For Use By Patient</th>\n",
       "      <th>Type of Infertility</th>\n",
       "      <th>Cause of Infertility</th>\n",
       "      <th>success or not</th>\n",
       "    </tr>\n",
       "  </thead>\n",
       "  <tbody>\n",
       "    <tr>\n",
       "      <th>count</th>\n",
       "      <td>269687.000000</td>\n",
       "      <td>269687.000000</td>\n",
       "      <td>269687.000000</td>\n",
       "      <td>269687.000000</td>\n",
       "      <td>269687.000000</td>\n",
       "      <td>269687.000000</td>\n",
       "      <td>269687.000000</td>\n",
       "      <td>269687.000000</td>\n",
       "      <td>269687.000000</td>\n",
       "      <td>269687.000000</td>\n",
       "      <td>...</td>\n",
       "      <td>269687.000000</td>\n",
       "      <td>269687.000000</td>\n",
       "      <td>269687.000000</td>\n",
       "      <td>269687.000000</td>\n",
       "      <td>269687.000000</td>\n",
       "      <td>269687.000000</td>\n",
       "      <td>269687.000000</td>\n",
       "      <td>269687.000000</td>\n",
       "      <td>269687.000000</td>\n",
       "      <td>269687.000000</td>\n",
       "    </tr>\n",
       "    <tr>\n",
       "      <th>mean</th>\n",
       "      <td>1.230630</td>\n",
       "      <td>1.178830</td>\n",
       "      <td>0.184080</td>\n",
       "      <td>0.172151</td>\n",
       "      <td>0.013920</td>\n",
       "      <td>0.099608</td>\n",
       "      <td>0.005959</td>\n",
       "      <td>0.002970</td>\n",
       "      <td>1.065242</td>\n",
       "      <td>1.835876</td>\n",
       "      <td>...</td>\n",
       "      <td>0.038953</td>\n",
       "      <td>0.989707</td>\n",
       "      <td>0.489760</td>\n",
       "      <td>0.250060</td>\n",
       "      <td>1.421259</td>\n",
       "      <td>0.633319</td>\n",
       "      <td>0.180635</td>\n",
       "      <td>0.057370</td>\n",
       "      <td>2.400420</td>\n",
       "      <td>0.332044</td>\n",
       "    </tr>\n",
       "    <tr>\n",
       "      <th>std</th>\n",
       "      <td>1.401383</td>\n",
       "      <td>1.505643</td>\n",
       "      <td>0.811785</td>\n",
       "      <td>0.432869</td>\n",
       "      <td>0.136512</td>\n",
       "      <td>0.509621</td>\n",
       "      <td>0.076963</td>\n",
       "      <td>0.054418</td>\n",
       "      <td>0.246953</td>\n",
       "      <td>0.883719</td>\n",
       "      <td>...</td>\n",
       "      <td>0.193482</td>\n",
       "      <td>0.995342</td>\n",
       "      <td>0.705002</td>\n",
       "      <td>0.776769</td>\n",
       "      <td>0.769703</td>\n",
       "      <td>0.878122</td>\n",
       "      <td>0.407902</td>\n",
       "      <td>0.290203</td>\n",
       "      <td>1.504835</td>\n",
       "      <td>0.470948</td>\n",
       "    </tr>\n",
       "    <tr>\n",
       "      <th>min</th>\n",
       "      <td>0.000000</td>\n",
       "      <td>0.000000</td>\n",
       "      <td>0.000000</td>\n",
       "      <td>0.000000</td>\n",
       "      <td>0.000000</td>\n",
       "      <td>0.000000</td>\n",
       "      <td>0.000000</td>\n",
       "      <td>0.000000</td>\n",
       "      <td>1.000000</td>\n",
       "      <td>1.000000</td>\n",
       "      <td>...</td>\n",
       "      <td>0.000000</td>\n",
       "      <td>0.000000</td>\n",
       "      <td>0.000000</td>\n",
       "      <td>0.000000</td>\n",
       "      <td>0.000000</td>\n",
       "      <td>0.000000</td>\n",
       "      <td>0.000000</td>\n",
       "      <td>0.000000</td>\n",
       "      <td>0.000000</td>\n",
       "      <td>0.000000</td>\n",
       "    </tr>\n",
       "    <tr>\n",
       "      <th>25%</th>\n",
       "      <td>0.000000</td>\n",
       "      <td>0.000000</td>\n",
       "      <td>0.000000</td>\n",
       "      <td>0.000000</td>\n",
       "      <td>0.000000</td>\n",
       "      <td>0.000000</td>\n",
       "      <td>0.000000</td>\n",
       "      <td>0.000000</td>\n",
       "      <td>1.000000</td>\n",
       "      <td>1.000000</td>\n",
       "      <td>...</td>\n",
       "      <td>0.000000</td>\n",
       "      <td>0.000000</td>\n",
       "      <td>0.000000</td>\n",
       "      <td>0.000000</td>\n",
       "      <td>1.000000</td>\n",
       "      <td>0.000000</td>\n",
       "      <td>0.000000</td>\n",
       "      <td>0.000000</td>\n",
       "      <td>1.000000</td>\n",
       "      <td>0.000000</td>\n",
       "    </tr>\n",
       "    <tr>\n",
       "      <th>50%</th>\n",
       "      <td>1.000000</td>\n",
       "      <td>1.000000</td>\n",
       "      <td>0.000000</td>\n",
       "      <td>0.000000</td>\n",
       "      <td>0.000000</td>\n",
       "      <td>0.000000</td>\n",
       "      <td>0.000000</td>\n",
       "      <td>0.000000</td>\n",
       "      <td>1.000000</td>\n",
       "      <td>2.000000</td>\n",
       "      <td>...</td>\n",
       "      <td>0.000000</td>\n",
       "      <td>1.000000</td>\n",
       "      <td>0.000000</td>\n",
       "      <td>0.000000</td>\n",
       "      <td>2.000000</td>\n",
       "      <td>0.000000</td>\n",
       "      <td>0.000000</td>\n",
       "      <td>0.000000</td>\n",
       "      <td>3.000000</td>\n",
       "      <td>0.000000</td>\n",
       "    </tr>\n",
       "    <tr>\n",
       "      <th>75%</th>\n",
       "      <td>2.000000</td>\n",
       "      <td>2.000000</td>\n",
       "      <td>0.000000</td>\n",
       "      <td>0.000000</td>\n",
       "      <td>0.000000</td>\n",
       "      <td>0.000000</td>\n",
       "      <td>0.000000</td>\n",
       "      <td>0.000000</td>\n",
       "      <td>1.000000</td>\n",
       "      <td>2.000000</td>\n",
       "      <td>...</td>\n",
       "      <td>0.000000</td>\n",
       "      <td>2.000000</td>\n",
       "      <td>1.000000</td>\n",
       "      <td>0.000000</td>\n",
       "      <td>2.000000</td>\n",
       "      <td>1.000000</td>\n",
       "      <td>0.000000</td>\n",
       "      <td>0.000000</td>\n",
       "      <td>4.000000</td>\n",
       "      <td>1.000000</td>\n",
       "    </tr>\n",
       "    <tr>\n",
       "      <th>max</th>\n",
       "      <td>6.000000</td>\n",
       "      <td>6.000000</td>\n",
       "      <td>6.000000</td>\n",
       "      <td>5.000000</td>\n",
       "      <td>5.000000</td>\n",
       "      <td>4.000000</td>\n",
       "      <td>1.000000</td>\n",
       "      <td>1.000000</td>\n",
       "      <td>2.000000</td>\n",
       "      <td>4.000000</td>\n",
       "      <td>...</td>\n",
       "      <td>1.000000</td>\n",
       "      <td>4.000000</td>\n",
       "      <td>4.000000</td>\n",
       "      <td>4.000000</td>\n",
       "      <td>3.000000</td>\n",
       "      <td>3.000000</td>\n",
       "      <td>3.000000</td>\n",
       "      <td>6.000000</td>\n",
       "      <td>6.000000</td>\n",
       "      <td>1.000000</td>\n",
       "    </tr>\n",
       "  </tbody>\n",
       "</table>\n",
       "<p>8 rows × 30 columns</p>\n",
       "</div>"
      ],
      "text/plain": [
       "       Patient Age at Treatment  Total Number of Previous IVF cycles  \\\n",
       "count             269687.000000                        269687.000000   \n",
       "mean                   1.230630                             1.178830   \n",
       "std                    1.401383                             1.505643   \n",
       "min                    0.000000                             0.000000   \n",
       "25%                    0.000000                             0.000000   \n",
       "50%                    1.000000                             1.000000   \n",
       "75%                    2.000000                             2.000000   \n",
       "max                    6.000000                             6.000000   \n",
       "\n",
       "       Total Number of Previous DI cycles  Total number of IVF pregnancies  \\\n",
       "count                       269687.000000                    269687.000000   \n",
       "mean                             0.184080                         0.172151   \n",
       "std                              0.811785                         0.432869   \n",
       "min                              0.000000                         0.000000   \n",
       "25%                              0.000000                         0.000000   \n",
       "50%                              0.000000                         0.000000   \n",
       "75%                              0.000000                         0.000000   \n",
       "max                              6.000000                         5.000000   \n",
       "\n",
       "       Total number of DI pregnancies  \\\n",
       "count                   269687.000000   \n",
       "mean                         0.013920   \n",
       "std                          0.136512   \n",
       "min                          0.000000   \n",
       "25%                          0.000000   \n",
       "50%                          0.000000   \n",
       "75%                          0.000000   \n",
       "max                          5.000000   \n",
       "\n",
       "       Main Reason for Producing Embroys Storing Eggs  Donated embryo  \\\n",
       "count                                   269687.000000   269687.000000   \n",
       "mean                                         0.099608        0.005959   \n",
       "std                                          0.509621        0.076963   \n",
       "min                                          0.000000        0.000000   \n",
       "25%                                          0.000000        0.000000   \n",
       "50%                                          0.000000        0.000000   \n",
       "75%                                          0.000000        0.000000   \n",
       "max                                          4.000000        1.000000   \n",
       "\n",
       "       Patient acting as Surrogate  Type of treatment - IVF or DI  \\\n",
       "count                269687.000000                  269687.000000   \n",
       "mean                      0.002970                       1.065242   \n",
       "std                       0.054418                       0.246953   \n",
       "min                       0.000000                       1.000000   \n",
       "25%                       0.000000                       1.000000   \n",
       "50%                       0.000000                       1.000000   \n",
       "75%                       0.000000                       1.000000   \n",
       "max                       1.000000                       2.000000   \n",
       "\n",
       "       Specific treatment type  ...  Eggs Mixed With Donor sperm  \\\n",
       "count            269687.000000  ...                269687.000000   \n",
       "mean                  1.835876  ...                     0.038953   \n",
       "std                   0.883719  ...                     0.193482   \n",
       "min                   1.000000  ...                     0.000000   \n",
       "25%                   1.000000  ...                     0.000000   \n",
       "50%                   2.000000  ...                     0.000000   \n",
       "75%                   2.000000  ...                     0.000000   \n",
       "max                   4.000000  ...                     1.000000   \n",
       "\n",
       "       Total Embryos Created  Eggs Micro-injected  Total Embryos Thawed  \\\n",
       "count          269687.000000        269687.000000         269687.000000   \n",
       "mean                0.989707             0.489760              0.250060   \n",
       "std                 0.995342             0.705002              0.776769   \n",
       "min                 0.000000             0.000000              0.000000   \n",
       "25%                 0.000000             0.000000              0.000000   \n",
       "50%                 1.000000             0.000000              0.000000   \n",
       "75%                 2.000000             1.000000              0.000000   \n",
       "max                 4.000000             4.000000              4.000000   \n",
       "\n",
       "       Embryos Transfered  Embryos Transfered from Eggs Micro-injected  \\\n",
       "count       269687.000000                                269687.000000   \n",
       "mean             1.421259                                     0.633319   \n",
       "std              0.769703                                     0.878122   \n",
       "min              0.000000                                     0.000000   \n",
       "25%              1.000000                                     0.000000   \n",
       "50%              2.000000                                     0.000000   \n",
       "75%              2.000000                                     1.000000   \n",
       "max              3.000000                                     3.000000   \n",
       "\n",
       "       Embryos Stored For Use By Patient  Type of Infertility  \\\n",
       "count                      269687.000000        269687.000000   \n",
       "mean                            0.180635             0.057370   \n",
       "std                             0.407902             0.290203   \n",
       "min                             0.000000             0.000000   \n",
       "25%                             0.000000             0.000000   \n",
       "50%                             0.000000             0.000000   \n",
       "75%                             0.000000             0.000000   \n",
       "max                             3.000000             6.000000   \n",
       "\n",
       "       Cause of Infertility  success or not  \n",
       "count         269687.000000   269687.000000  \n",
       "mean               2.400420        0.332044  \n",
       "std                1.504835        0.470948  \n",
       "min                0.000000        0.000000  \n",
       "25%                1.000000        0.000000  \n",
       "50%                3.000000        0.000000  \n",
       "75%                4.000000        1.000000  \n",
       "max                6.000000        1.000000  \n",
       "\n",
       "[8 rows x 30 columns]"
      ]
     },
     "execution_count": 10,
     "metadata": {},
     "output_type": "execute_result"
    }
   ],
   "source": [
    "df_train.describe()"
   ]
  },
  {
   "cell_type": "code",
   "execution_count": 11,
   "metadata": {
    "colab": {
     "base_uri": "https://localhost:8080/",
     "height": 560
    },
    "id": "BB_x9wgg0y0I",
    "outputId": "08a0db42-05d4-4427-9472-3521f89742e6"
   },
   "outputs": [
    {
     "data": {
      "text/html": [
       "<div>\n",
       "<style scoped>\n",
       "    .dataframe tbody tr th:only-of-type {\n",
       "        vertical-align: middle;\n",
       "    }\n",
       "\n",
       "    .dataframe tbody tr th {\n",
       "        vertical-align: top;\n",
       "    }\n",
       "\n",
       "    .dataframe thead th {\n",
       "        text-align: right;\n",
       "    }\n",
       "</style>\n",
       "<table border=\"1\" class=\"dataframe\">\n",
       "  <thead>\n",
       "    <tr style=\"text-align: right;\">\n",
       "      <th></th>\n",
       "      <th>Patient Age at Treatment</th>\n",
       "      <th>Total Number of Previous IVF cycles</th>\n",
       "      <th>Total Number of Previous DI cycles</th>\n",
       "      <th>Total number of IVF pregnancies</th>\n",
       "      <th>Total number of DI pregnancies</th>\n",
       "      <th>Main Reason for Producing Embroys Storing Eggs</th>\n",
       "      <th>Donated embryo</th>\n",
       "      <th>Patient acting as Surrogate</th>\n",
       "      <th>Type of treatment - IVF or DI</th>\n",
       "      <th>Specific treatment type</th>\n",
       "      <th>...</th>\n",
       "      <th>Eggs Mixed With Donor sperm</th>\n",
       "      <th>Total Embryos Created</th>\n",
       "      <th>Eggs Micro-injected</th>\n",
       "      <th>Total Embryos Thawed</th>\n",
       "      <th>Embryos Transfered</th>\n",
       "      <th>Embryos Transfered from Eggs Micro-injected</th>\n",
       "      <th>Embryos Stored For Use By Patient</th>\n",
       "      <th>Type of Infertility</th>\n",
       "      <th>Cause of Infertility</th>\n",
       "      <th>success or not</th>\n",
       "    </tr>\n",
       "  </thead>\n",
       "  <tbody>\n",
       "    <tr>\n",
       "      <th>0</th>\n",
       "      <td>0</td>\n",
       "      <td>0</td>\n",
       "      <td>0</td>\n",
       "      <td>0</td>\n",
       "      <td>0</td>\n",
       "      <td>0.0</td>\n",
       "      <td>0.0</td>\n",
       "      <td>0.0</td>\n",
       "      <td>1</td>\n",
       "      <td>1.0</td>\n",
       "      <td>...</td>\n",
       "      <td>0</td>\n",
       "      <td>3</td>\n",
       "      <td>2</td>\n",
       "      <td>0</td>\n",
       "      <td>0.0</td>\n",
       "      <td>0.0</td>\n",
       "      <td>2</td>\n",
       "      <td>0</td>\n",
       "      <td>3</td>\n",
       "      <td>0</td>\n",
       "    </tr>\n",
       "    <tr>\n",
       "      <th>1</th>\n",
       "      <td>1</td>\n",
       "      <td>0</td>\n",
       "      <td>0</td>\n",
       "      <td>0</td>\n",
       "      <td>0</td>\n",
       "      <td>0.0</td>\n",
       "      <td>0.0</td>\n",
       "      <td>0.0</td>\n",
       "      <td>1</td>\n",
       "      <td>1.0</td>\n",
       "      <td>...</td>\n",
       "      <td>0</td>\n",
       "      <td>2</td>\n",
       "      <td>1</td>\n",
       "      <td>0</td>\n",
       "      <td>2.0</td>\n",
       "      <td>2.0</td>\n",
       "      <td>0</td>\n",
       "      <td>0</td>\n",
       "      <td>3</td>\n",
       "      <td>1</td>\n",
       "    </tr>\n",
       "    <tr>\n",
       "      <th>2</th>\n",
       "      <td>0</td>\n",
       "      <td>0</td>\n",
       "      <td>0</td>\n",
       "      <td>0</td>\n",
       "      <td>0</td>\n",
       "      <td>0.0</td>\n",
       "      <td>0.0</td>\n",
       "      <td>0.0</td>\n",
       "      <td>1</td>\n",
       "      <td>2.0</td>\n",
       "      <td>...</td>\n",
       "      <td>0</td>\n",
       "      <td>0</td>\n",
       "      <td>0</td>\n",
       "      <td>0</td>\n",
       "      <td>0.0</td>\n",
       "      <td>0.0</td>\n",
       "      <td>0</td>\n",
       "      <td>0</td>\n",
       "      <td>1</td>\n",
       "      <td>0</td>\n",
       "    </tr>\n",
       "    <tr>\n",
       "      <th>3</th>\n",
       "      <td>4</td>\n",
       "      <td>3</td>\n",
       "      <td>0</td>\n",
       "      <td>1</td>\n",
       "      <td>0</td>\n",
       "      <td>0.0</td>\n",
       "      <td>0.0</td>\n",
       "      <td>0.0</td>\n",
       "      <td>1</td>\n",
       "      <td>1.0</td>\n",
       "      <td>...</td>\n",
       "      <td>0</td>\n",
       "      <td>1</td>\n",
       "      <td>1</td>\n",
       "      <td>0</td>\n",
       "      <td>2.0</td>\n",
       "      <td>2.0</td>\n",
       "      <td>0</td>\n",
       "      <td>0</td>\n",
       "      <td>4</td>\n",
       "      <td>1</td>\n",
       "    </tr>\n",
       "    <tr>\n",
       "      <th>4</th>\n",
       "      <td>1</td>\n",
       "      <td>6</td>\n",
       "      <td>0</td>\n",
       "      <td>1</td>\n",
       "      <td>0</td>\n",
       "      <td>0.0</td>\n",
       "      <td>0.0</td>\n",
       "      <td>0.0</td>\n",
       "      <td>1</td>\n",
       "      <td>3.0</td>\n",
       "      <td>...</td>\n",
       "      <td>0</td>\n",
       "      <td>0</td>\n",
       "      <td>0</td>\n",
       "      <td>0</td>\n",
       "      <td>1.0</td>\n",
       "      <td>0.0</td>\n",
       "      <td>0</td>\n",
       "      <td>0</td>\n",
       "      <td>3</td>\n",
       "      <td>0</td>\n",
       "    </tr>\n",
       "    <tr>\n",
       "      <th>5</th>\n",
       "      <td>0</td>\n",
       "      <td>1</td>\n",
       "      <td>0</td>\n",
       "      <td>0</td>\n",
       "      <td>0</td>\n",
       "      <td>0.0</td>\n",
       "      <td>0.0</td>\n",
       "      <td>0.0</td>\n",
       "      <td>1</td>\n",
       "      <td>1.0</td>\n",
       "      <td>...</td>\n",
       "      <td>0</td>\n",
       "      <td>3</td>\n",
       "      <td>3</td>\n",
       "      <td>0</td>\n",
       "      <td>2.0</td>\n",
       "      <td>2.0</td>\n",
       "      <td>1</td>\n",
       "      <td>0</td>\n",
       "      <td>2</td>\n",
       "      <td>1</td>\n",
       "    </tr>\n",
       "    <tr>\n",
       "      <th>6</th>\n",
       "      <td>0</td>\n",
       "      <td>2</td>\n",
       "      <td>0</td>\n",
       "      <td>0</td>\n",
       "      <td>0</td>\n",
       "      <td>0.0</td>\n",
       "      <td>0.0</td>\n",
       "      <td>0.0</td>\n",
       "      <td>1</td>\n",
       "      <td>3.0</td>\n",
       "      <td>...</td>\n",
       "      <td>0</td>\n",
       "      <td>0</td>\n",
       "      <td>0</td>\n",
       "      <td>4</td>\n",
       "      <td>2.0</td>\n",
       "      <td>0.0</td>\n",
       "      <td>0</td>\n",
       "      <td>0</td>\n",
       "      <td>2</td>\n",
       "      <td>0</td>\n",
       "    </tr>\n",
       "    <tr>\n",
       "      <th>7</th>\n",
       "      <td>1</td>\n",
       "      <td>1</td>\n",
       "      <td>2</td>\n",
       "      <td>0</td>\n",
       "      <td>0</td>\n",
       "      <td>0.0</td>\n",
       "      <td>0.0</td>\n",
       "      <td>0.0</td>\n",
       "      <td>2</td>\n",
       "      <td>4.0</td>\n",
       "      <td>...</td>\n",
       "      <td>0</td>\n",
       "      <td>0</td>\n",
       "      <td>0</td>\n",
       "      <td>0</td>\n",
       "      <td>2.0</td>\n",
       "      <td>0.0</td>\n",
       "      <td>0</td>\n",
       "      <td>0</td>\n",
       "      <td>0</td>\n",
       "      <td>0</td>\n",
       "    </tr>\n",
       "    <tr>\n",
       "      <th>8</th>\n",
       "      <td>2</td>\n",
       "      <td>0</td>\n",
       "      <td>0</td>\n",
       "      <td>0</td>\n",
       "      <td>0</td>\n",
       "      <td>0.0</td>\n",
       "      <td>0.0</td>\n",
       "      <td>0.0</td>\n",
       "      <td>1</td>\n",
       "      <td>2.0</td>\n",
       "      <td>...</td>\n",
       "      <td>0</td>\n",
       "      <td>1</td>\n",
       "      <td>0</td>\n",
       "      <td>0</td>\n",
       "      <td>1.0</td>\n",
       "      <td>0.0</td>\n",
       "      <td>0</td>\n",
       "      <td>0</td>\n",
       "      <td>4</td>\n",
       "      <td>0</td>\n",
       "    </tr>\n",
       "    <tr>\n",
       "      <th>9</th>\n",
       "      <td>1</td>\n",
       "      <td>1</td>\n",
       "      <td>0</td>\n",
       "      <td>0</td>\n",
       "      <td>0</td>\n",
       "      <td>0.0</td>\n",
       "      <td>0.0</td>\n",
       "      <td>0.0</td>\n",
       "      <td>1</td>\n",
       "      <td>1.0</td>\n",
       "      <td>...</td>\n",
       "      <td>0</td>\n",
       "      <td>2</td>\n",
       "      <td>1</td>\n",
       "      <td>0</td>\n",
       "      <td>2.0</td>\n",
       "      <td>2.0</td>\n",
       "      <td>1</td>\n",
       "      <td>0</td>\n",
       "      <td>4</td>\n",
       "      <td>0</td>\n",
       "    </tr>\n",
       "  </tbody>\n",
       "</table>\n",
       "<p>10 rows × 30 columns</p>\n",
       "</div>"
      ],
      "text/plain": [
       "   Patient Age at Treatment  Total Number of Previous IVF cycles  \\\n",
       "0                         0                                    0   \n",
       "1                         1                                    0   \n",
       "2                         0                                    0   \n",
       "3                         4                                    3   \n",
       "4                         1                                    6   \n",
       "5                         0                                    1   \n",
       "6                         0                                    2   \n",
       "7                         1                                    1   \n",
       "8                         2                                    0   \n",
       "9                         1                                    1   \n",
       "\n",
       "   Total Number of Previous DI cycles  Total number of IVF pregnancies  \\\n",
       "0                                   0                                0   \n",
       "1                                   0                                0   \n",
       "2                                   0                                0   \n",
       "3                                   0                                1   \n",
       "4                                   0                                1   \n",
       "5                                   0                                0   \n",
       "6                                   0                                0   \n",
       "7                                   2                                0   \n",
       "8                                   0                                0   \n",
       "9                                   0                                0   \n",
       "\n",
       "   Total number of DI pregnancies  \\\n",
       "0                               0   \n",
       "1                               0   \n",
       "2                               0   \n",
       "3                               0   \n",
       "4                               0   \n",
       "5                               0   \n",
       "6                               0   \n",
       "7                               0   \n",
       "8                               0   \n",
       "9                               0   \n",
       "\n",
       "   Main Reason for Producing Embroys Storing Eggs  Donated embryo  \\\n",
       "0                                             0.0             0.0   \n",
       "1                                             0.0             0.0   \n",
       "2                                             0.0             0.0   \n",
       "3                                             0.0             0.0   \n",
       "4                                             0.0             0.0   \n",
       "5                                             0.0             0.0   \n",
       "6                                             0.0             0.0   \n",
       "7                                             0.0             0.0   \n",
       "8                                             0.0             0.0   \n",
       "9                                             0.0             0.0   \n",
       "\n",
       "   Patient acting as Surrogate  Type of treatment - IVF or DI  \\\n",
       "0                          0.0                              1   \n",
       "1                          0.0                              1   \n",
       "2                          0.0                              1   \n",
       "3                          0.0                              1   \n",
       "4                          0.0                              1   \n",
       "5                          0.0                              1   \n",
       "6                          0.0                              1   \n",
       "7                          0.0                              2   \n",
       "8                          0.0                              1   \n",
       "9                          0.0                              1   \n",
       "\n",
       "   Specific treatment type  ...  Eggs Mixed With Donor sperm  \\\n",
       "0                      1.0  ...                            0   \n",
       "1                      1.0  ...                            0   \n",
       "2                      2.0  ...                            0   \n",
       "3                      1.0  ...                            0   \n",
       "4                      3.0  ...                            0   \n",
       "5                      1.0  ...                            0   \n",
       "6                      3.0  ...                            0   \n",
       "7                      4.0  ...                            0   \n",
       "8                      2.0  ...                            0   \n",
       "9                      1.0  ...                            0   \n",
       "\n",
       "   Total Embryos Created  Eggs Micro-injected  Total Embryos Thawed  \\\n",
       "0                      3                    2                     0   \n",
       "1                      2                    1                     0   \n",
       "2                      0                    0                     0   \n",
       "3                      1                    1                     0   \n",
       "4                      0                    0                     0   \n",
       "5                      3                    3                     0   \n",
       "6                      0                    0                     4   \n",
       "7                      0                    0                     0   \n",
       "8                      1                    0                     0   \n",
       "9                      2                    1                     0   \n",
       "\n",
       "   Embryos Transfered  Embryos Transfered from Eggs Micro-injected  \\\n",
       "0                 0.0                                          0.0   \n",
       "1                 2.0                                          2.0   \n",
       "2                 0.0                                          0.0   \n",
       "3                 2.0                                          2.0   \n",
       "4                 1.0                                          0.0   \n",
       "5                 2.0                                          2.0   \n",
       "6                 2.0                                          0.0   \n",
       "7                 2.0                                          0.0   \n",
       "8                 1.0                                          0.0   \n",
       "9                 2.0                                          2.0   \n",
       "\n",
       "   Embryos Stored For Use By Patient  Type of Infertility  \\\n",
       "0                                  2                    0   \n",
       "1                                  0                    0   \n",
       "2                                  0                    0   \n",
       "3                                  0                    0   \n",
       "4                                  0                    0   \n",
       "5                                  1                    0   \n",
       "6                                  0                    0   \n",
       "7                                  0                    0   \n",
       "8                                  0                    0   \n",
       "9                                  1                    0   \n",
       "\n",
       "   Cause of Infertility  success or not  \n",
       "0                     3               0  \n",
       "1                     3               1  \n",
       "2                     1               0  \n",
       "3                     4               1  \n",
       "4                     3               0  \n",
       "5                     2               1  \n",
       "6                     2               0  \n",
       "7                     0               0  \n",
       "8                     4               0  \n",
       "9                     4               0  \n",
       "\n",
       "[10 rows x 30 columns]"
      ]
     },
     "execution_count": 11,
     "metadata": {},
     "output_type": "execute_result"
    }
   ],
   "source": [
    "df_test.head(10)"
   ]
  },
  {
   "cell_type": "code",
   "execution_count": 12,
   "metadata": {
    "colab": {
     "base_uri": "https://localhost:8080/",
     "height": 480
    },
    "id": "mf7_0_zPy5xv",
    "outputId": "75d8c641-ab68-48e1-d431-1943a2135e11"
   },
   "outputs": [
    {
     "data": {
      "text/html": [
       "<div>\n",
       "<style scoped>\n",
       "    .dataframe tbody tr th:only-of-type {\n",
       "        vertical-align: middle;\n",
       "    }\n",
       "\n",
       "    .dataframe tbody tr th {\n",
       "        vertical-align: top;\n",
       "    }\n",
       "\n",
       "    .dataframe thead th {\n",
       "        text-align: right;\n",
       "    }\n",
       "</style>\n",
       "<table border=\"1\" class=\"dataframe\">\n",
       "  <thead>\n",
       "    <tr style=\"text-align: right;\">\n",
       "      <th></th>\n",
       "      <th>Patient Age at Treatment</th>\n",
       "      <th>Total Number of Previous IVF cycles</th>\n",
       "      <th>Total Number of Previous DI cycles</th>\n",
       "      <th>Total number of IVF pregnancies</th>\n",
       "      <th>Total number of DI pregnancies</th>\n",
       "      <th>Main Reason for Producing Embroys Storing Eggs</th>\n",
       "      <th>Donated embryo</th>\n",
       "      <th>Patient acting as Surrogate</th>\n",
       "      <th>Type of treatment - IVF or DI</th>\n",
       "      <th>Specific treatment type</th>\n",
       "      <th>...</th>\n",
       "      <th>Eggs Mixed With Donor sperm</th>\n",
       "      <th>Total Embryos Created</th>\n",
       "      <th>Eggs Micro-injected</th>\n",
       "      <th>Total Embryos Thawed</th>\n",
       "      <th>Embryos Transfered</th>\n",
       "      <th>Embryos Transfered from Eggs Micro-injected</th>\n",
       "      <th>Embryos Stored For Use By Patient</th>\n",
       "      <th>Type of Infertility</th>\n",
       "      <th>Cause of Infertility</th>\n",
       "      <th>success or not</th>\n",
       "    </tr>\n",
       "  </thead>\n",
       "  <tbody>\n",
       "    <tr>\n",
       "      <th>count</th>\n",
       "      <td>67422.000000</td>\n",
       "      <td>67422.000000</td>\n",
       "      <td>67422.000000</td>\n",
       "      <td>67422.000000</td>\n",
       "      <td>67422.00000</td>\n",
       "      <td>67422.000000</td>\n",
       "      <td>67422.000000</td>\n",
       "      <td>67422.000000</td>\n",
       "      <td>67422.000000</td>\n",
       "      <td>67422.000000</td>\n",
       "      <td>...</td>\n",
       "      <td>67422.000000</td>\n",
       "      <td>67422.000000</td>\n",
       "      <td>67422.000000</td>\n",
       "      <td>67422.000000</td>\n",
       "      <td>67422.000000</td>\n",
       "      <td>67422.000000</td>\n",
       "      <td>67422.000000</td>\n",
       "      <td>67422.000000</td>\n",
       "      <td>67422.000000</td>\n",
       "      <td>67422.000000</td>\n",
       "    </tr>\n",
       "    <tr>\n",
       "      <th>mean</th>\n",
       "      <td>1.224511</td>\n",
       "      <td>1.176886</td>\n",
       "      <td>0.173875</td>\n",
       "      <td>0.172866</td>\n",
       "      <td>0.01188</td>\n",
       "      <td>0.099700</td>\n",
       "      <td>0.005414</td>\n",
       "      <td>0.002655</td>\n",
       "      <td>1.063214</td>\n",
       "      <td>1.826570</td>\n",
       "      <td>...</td>\n",
       "      <td>0.037910</td>\n",
       "      <td>0.998784</td>\n",
       "      <td>0.490270</td>\n",
       "      <td>0.248035</td>\n",
       "      <td>1.425870</td>\n",
       "      <td>0.639005</td>\n",
       "      <td>0.182196</td>\n",
       "      <td>0.055531</td>\n",
       "      <td>2.396147</td>\n",
       "      <td>0.329373</td>\n",
       "    </tr>\n",
       "    <tr>\n",
       "      <th>std</th>\n",
       "      <td>1.396688</td>\n",
       "      <td>1.500629</td>\n",
       "      <td>0.784888</td>\n",
       "      <td>0.432650</td>\n",
       "      <td>0.12369</td>\n",
       "      <td>0.508509</td>\n",
       "      <td>0.073379</td>\n",
       "      <td>0.051458</td>\n",
       "      <td>0.243349</td>\n",
       "      <td>0.877403</td>\n",
       "      <td>...</td>\n",
       "      <td>0.190981</td>\n",
       "      <td>0.998225</td>\n",
       "      <td>0.702568</td>\n",
       "      <td>0.771859</td>\n",
       "      <td>0.767638</td>\n",
       "      <td>0.880741</td>\n",
       "      <td>0.409103</td>\n",
       "      <td>0.284057</td>\n",
       "      <td>1.502396</td>\n",
       "      <td>0.469989</td>\n",
       "    </tr>\n",
       "    <tr>\n",
       "      <th>min</th>\n",
       "      <td>0.000000</td>\n",
       "      <td>0.000000</td>\n",
       "      <td>0.000000</td>\n",
       "      <td>0.000000</td>\n",
       "      <td>0.00000</td>\n",
       "      <td>0.000000</td>\n",
       "      <td>0.000000</td>\n",
       "      <td>0.000000</td>\n",
       "      <td>1.000000</td>\n",
       "      <td>1.000000</td>\n",
       "      <td>...</td>\n",
       "      <td>0.000000</td>\n",
       "      <td>0.000000</td>\n",
       "      <td>0.000000</td>\n",
       "      <td>0.000000</td>\n",
       "      <td>0.000000</td>\n",
       "      <td>0.000000</td>\n",
       "      <td>0.000000</td>\n",
       "      <td>0.000000</td>\n",
       "      <td>0.000000</td>\n",
       "      <td>0.000000</td>\n",
       "    </tr>\n",
       "    <tr>\n",
       "      <th>25%</th>\n",
       "      <td>0.000000</td>\n",
       "      <td>0.000000</td>\n",
       "      <td>0.000000</td>\n",
       "      <td>0.000000</td>\n",
       "      <td>0.00000</td>\n",
       "      <td>0.000000</td>\n",
       "      <td>0.000000</td>\n",
       "      <td>0.000000</td>\n",
       "      <td>1.000000</td>\n",
       "      <td>1.000000</td>\n",
       "      <td>...</td>\n",
       "      <td>0.000000</td>\n",
       "      <td>0.000000</td>\n",
       "      <td>0.000000</td>\n",
       "      <td>0.000000</td>\n",
       "      <td>1.000000</td>\n",
       "      <td>0.000000</td>\n",
       "      <td>0.000000</td>\n",
       "      <td>0.000000</td>\n",
       "      <td>1.000000</td>\n",
       "      <td>0.000000</td>\n",
       "    </tr>\n",
       "    <tr>\n",
       "      <th>50%</th>\n",
       "      <td>1.000000</td>\n",
       "      <td>1.000000</td>\n",
       "      <td>0.000000</td>\n",
       "      <td>0.000000</td>\n",
       "      <td>0.00000</td>\n",
       "      <td>0.000000</td>\n",
       "      <td>0.000000</td>\n",
       "      <td>0.000000</td>\n",
       "      <td>1.000000</td>\n",
       "      <td>2.000000</td>\n",
       "      <td>...</td>\n",
       "      <td>0.000000</td>\n",
       "      <td>1.000000</td>\n",
       "      <td>0.000000</td>\n",
       "      <td>0.000000</td>\n",
       "      <td>2.000000</td>\n",
       "      <td>0.000000</td>\n",
       "      <td>0.000000</td>\n",
       "      <td>0.000000</td>\n",
       "      <td>3.000000</td>\n",
       "      <td>0.000000</td>\n",
       "    </tr>\n",
       "    <tr>\n",
       "      <th>75%</th>\n",
       "      <td>2.000000</td>\n",
       "      <td>2.000000</td>\n",
       "      <td>0.000000</td>\n",
       "      <td>0.000000</td>\n",
       "      <td>0.00000</td>\n",
       "      <td>0.000000</td>\n",
       "      <td>0.000000</td>\n",
       "      <td>0.000000</td>\n",
       "      <td>1.000000</td>\n",
       "      <td>2.000000</td>\n",
       "      <td>...</td>\n",
       "      <td>0.000000</td>\n",
       "      <td>2.000000</td>\n",
       "      <td>1.000000</td>\n",
       "      <td>0.000000</td>\n",
       "      <td>2.000000</td>\n",
       "      <td>1.000000</td>\n",
       "      <td>0.000000</td>\n",
       "      <td>0.000000</td>\n",
       "      <td>4.000000</td>\n",
       "      <td>1.000000</td>\n",
       "    </tr>\n",
       "    <tr>\n",
       "      <th>max</th>\n",
       "      <td>6.000000</td>\n",
       "      <td>6.000000</td>\n",
       "      <td>6.000000</td>\n",
       "      <td>4.000000</td>\n",
       "      <td>5.00000</td>\n",
       "      <td>4.000000</td>\n",
       "      <td>1.000000</td>\n",
       "      <td>1.000000</td>\n",
       "      <td>2.000000</td>\n",
       "      <td>4.000000</td>\n",
       "      <td>...</td>\n",
       "      <td>1.000000</td>\n",
       "      <td>4.000000</td>\n",
       "      <td>4.000000</td>\n",
       "      <td>4.000000</td>\n",
       "      <td>3.000000</td>\n",
       "      <td>3.000000</td>\n",
       "      <td>3.000000</td>\n",
       "      <td>6.000000</td>\n",
       "      <td>6.000000</td>\n",
       "      <td>1.000000</td>\n",
       "    </tr>\n",
       "  </tbody>\n",
       "</table>\n",
       "<p>8 rows × 30 columns</p>\n",
       "</div>"
      ],
      "text/plain": [
       "       Patient Age at Treatment  Total Number of Previous IVF cycles  \\\n",
       "count              67422.000000                         67422.000000   \n",
       "mean                   1.224511                             1.176886   \n",
       "std                    1.396688                             1.500629   \n",
       "min                    0.000000                             0.000000   \n",
       "25%                    0.000000                             0.000000   \n",
       "50%                    1.000000                             1.000000   \n",
       "75%                    2.000000                             2.000000   \n",
       "max                    6.000000                             6.000000   \n",
       "\n",
       "       Total Number of Previous DI cycles  Total number of IVF pregnancies  \\\n",
       "count                        67422.000000                     67422.000000   \n",
       "mean                             0.173875                         0.172866   \n",
       "std                              0.784888                         0.432650   \n",
       "min                              0.000000                         0.000000   \n",
       "25%                              0.000000                         0.000000   \n",
       "50%                              0.000000                         0.000000   \n",
       "75%                              0.000000                         0.000000   \n",
       "max                              6.000000                         4.000000   \n",
       "\n",
       "       Total number of DI pregnancies  \\\n",
       "count                     67422.00000   \n",
       "mean                          0.01188   \n",
       "std                           0.12369   \n",
       "min                           0.00000   \n",
       "25%                           0.00000   \n",
       "50%                           0.00000   \n",
       "75%                           0.00000   \n",
       "max                           5.00000   \n",
       "\n",
       "       Main Reason for Producing Embroys Storing Eggs  Donated embryo  \\\n",
       "count                                    67422.000000    67422.000000   \n",
       "mean                                         0.099700        0.005414   \n",
       "std                                          0.508509        0.073379   \n",
       "min                                          0.000000        0.000000   \n",
       "25%                                          0.000000        0.000000   \n",
       "50%                                          0.000000        0.000000   \n",
       "75%                                          0.000000        0.000000   \n",
       "max                                          4.000000        1.000000   \n",
       "\n",
       "       Patient acting as Surrogate  Type of treatment - IVF or DI  \\\n",
       "count                 67422.000000                   67422.000000   \n",
       "mean                      0.002655                       1.063214   \n",
       "std                       0.051458                       0.243349   \n",
       "min                       0.000000                       1.000000   \n",
       "25%                       0.000000                       1.000000   \n",
       "50%                       0.000000                       1.000000   \n",
       "75%                       0.000000                       1.000000   \n",
       "max                       1.000000                       2.000000   \n",
       "\n",
       "       Specific treatment type  ...  Eggs Mixed With Donor sperm  \\\n",
       "count             67422.000000  ...                 67422.000000   \n",
       "mean                  1.826570  ...                     0.037910   \n",
       "std                   0.877403  ...                     0.190981   \n",
       "min                   1.000000  ...                     0.000000   \n",
       "25%                   1.000000  ...                     0.000000   \n",
       "50%                   2.000000  ...                     0.000000   \n",
       "75%                   2.000000  ...                     0.000000   \n",
       "max                   4.000000  ...                     1.000000   \n",
       "\n",
       "       Total Embryos Created  Eggs Micro-injected  Total Embryos Thawed  \\\n",
       "count           67422.000000         67422.000000          67422.000000   \n",
       "mean                0.998784             0.490270              0.248035   \n",
       "std                 0.998225             0.702568              0.771859   \n",
       "min                 0.000000             0.000000              0.000000   \n",
       "25%                 0.000000             0.000000              0.000000   \n",
       "50%                 1.000000             0.000000              0.000000   \n",
       "75%                 2.000000             1.000000              0.000000   \n",
       "max                 4.000000             4.000000              4.000000   \n",
       "\n",
       "       Embryos Transfered  Embryos Transfered from Eggs Micro-injected  \\\n",
       "count        67422.000000                                 67422.000000   \n",
       "mean             1.425870                                     0.639005   \n",
       "std              0.767638                                     0.880741   \n",
       "min              0.000000                                     0.000000   \n",
       "25%              1.000000                                     0.000000   \n",
       "50%              2.000000                                     0.000000   \n",
       "75%              2.000000                                     1.000000   \n",
       "max              3.000000                                     3.000000   \n",
       "\n",
       "       Embryos Stored For Use By Patient  Type of Infertility  \\\n",
       "count                       67422.000000         67422.000000   \n",
       "mean                            0.182196             0.055531   \n",
       "std                             0.409103             0.284057   \n",
       "min                             0.000000             0.000000   \n",
       "25%                             0.000000             0.000000   \n",
       "50%                             0.000000             0.000000   \n",
       "75%                             0.000000             0.000000   \n",
       "max                             3.000000             6.000000   \n",
       "\n",
       "       Cause of Infertility  success or not  \n",
       "count          67422.000000    67422.000000  \n",
       "mean               2.396147        0.329373  \n",
       "std                1.502396        0.469989  \n",
       "min                0.000000        0.000000  \n",
       "25%                1.000000        0.000000  \n",
       "50%                3.000000        0.000000  \n",
       "75%                4.000000        1.000000  \n",
       "max                6.000000        1.000000  \n",
       "\n",
       "[8 rows x 30 columns]"
      ]
     },
     "execution_count": 12,
     "metadata": {},
     "output_type": "execute_result"
    }
   ],
   "source": [
    "df_test.describe()"
   ]
  },
  {
   "cell_type": "markdown",
   "metadata": {
    "id": "k3Vz-WpXQCmD"
   },
   "source": [
    "Define target features & train features\n",
    "-------"
   ]
  },
  {
   "cell_type": "markdown",
   "metadata": {
    "id": "M9VNM78NOc_S"
   },
   "source": [
    "Define Train features and target features from:\n",
    "1. Training dataset\n",
    "2. Testing dataset"
   ]
  },
  {
   "cell_type": "code",
   "execution_count": 13,
   "metadata": {
    "id": "JkLS2NL-BzAV"
   },
   "outputs": [],
   "source": [
    "#df_sample_train= df_train.sample(n=50000)\n",
    "#df_sample_test = df_test.sample(n=20000)\n",
    "#X_train = df_sample_train.drop(['success or not'], axis=1)\n",
    "#y_train = df_sample_train['success or not']\n",
    "#X_test = df_sample_test.drop(['success or not'], axis=1)\n",
    "#y_test = df_sample_test['success or not']"
   ]
  },
  {
   "cell_type": "code",
   "execution_count": 14,
   "metadata": {
    "id": "QemwcuMD57nY"
   },
   "outputs": [],
   "source": [
    "X_train = df_train.drop(['success or not'], axis=1)\n",
    "y_train = df_train['success or not']\n",
    "X_test = df_test.drop(['success or not'], axis=1)\n",
    "y_test = df_test['success or not']"
   ]
  },
  {
   "cell_type": "markdown",
   "metadata": {
    "id": "UM_DmEYZnA6l"
   },
   "source": [
    "# Validation Data"
   ]
  },
  {
   "cell_type": "code",
   "execution_count": 15,
   "metadata": {
    "id": "XvrlPeRdnCZg"
   },
   "outputs": [],
   "source": [
    "#df_valid = pd.read_excel('/content/drive/My Drive/DATA SCIENCE/Project ML & Deployment/ar-2015-2016-xlsb.xlsb', engine='pyxlsb')"
   ]
  },
  {
   "cell_type": "code",
   "execution_count": 16,
   "metadata": {},
   "outputs": [],
   "source": [
    "df_valid = pd.read_excel(\"F:/DATA SCIENCE/Project ML & Deployment/Modelling/ar-2015-2016-xlsb.xlsb\", engine='pyxlsb')"
   ]
  },
  {
   "cell_type": "code",
   "execution_count": 17,
   "metadata": {
    "id": "jyJoKCoIxFL7"
   },
   "outputs": [],
   "source": [
    "#df_valid_sample=df_valid.sample(n=10000)"
   ]
  },
  {
   "cell_type": "code",
   "execution_count": 18,
   "metadata": {
    "colab": {
     "base_uri": "https://localhost:8080/"
    },
    "id": "f4VzbgCsgHjt",
    "outputId": "6b6251c2-81eb-4416-ed41-6a77addfff2a"
   },
   "outputs": [
    {
     "name": "stdout",
     "output_type": "stream",
     "text": [
      "<class 'pandas.core.frame.DataFrame'>\n",
      "RangeIndex: 158519 entries, 0 to 158518\n",
      "Data columns (total 95 columns):\n",
      " #   Column                                                                    Non-Null Count   Dtype  \n",
      "---  ------                                                                    --------------   -----  \n",
      " 0   Patient Age at Treatment                                                  158519 non-null  object \n",
      " 1   Date patient started trying to become pregnant OR date of last pregnancy  617 non-null     float64\n",
      " 2   Total Number of Previous cycles, Both IVF and DI                          158519 non-null  object \n",
      " 3   Total Number of Previous treatments, Both IVF and DI at clinic            158519 non-null  object \n",
      " 4   Total Number of Previous IVF cycles                                       158519 non-null  object \n",
      " 5   Total Number of Previous DI cycles                                        158519 non-null  object \n",
      " 6   Total number of previous pregnancies, Both IVF and DI                     158519 non-null  object \n",
      " 7   Total number of IVF pregnancies                                           158519 non-null  object \n",
      " 8   Total number of DI pregnancies                                            158519 non-null  int64  \n",
      " 9   Total number of live births - conceived through IVF or DI                 158519 non-null  int64  \n",
      " 10  Total number of live births - conceived through IVF                       158519 non-null  int64  \n",
      " 11  Total number of live births - conceived through DI                        158519 non-null  int64  \n",
      " 12  Type of Infertility - Female Primary                                      158519 non-null  int64  \n",
      " 13  Type of Infertility - Female Secondary                                    158519 non-null  int64  \n",
      " 14  Type of Infertility - Male Primary                                        158519 non-null  int64  \n",
      " 15  Type of Infertility - Male Secondary                                      158519 non-null  int64  \n",
      " 16  Type of Infertility -Couple Primary                                       158519 non-null  int64  \n",
      " 17  Type of Infertility -Couple Secondary                                     158519 non-null  int64  \n",
      " 18  Cause  of Infertility - Tubal disease                                     158519 non-null  int64  \n",
      " 19  Cause of Infertility - Ovulatory Disorder                                 158519 non-null  int64  \n",
      " 20  Cause of Infertility - Male Factor                                        158519 non-null  int64  \n",
      " 21  Cause of Infertility - Patient Unexplained                                158519 non-null  int64  \n",
      " 22  Cause of Infertility - Endometriosis                                      158519 non-null  int64  \n",
      " 23  Cause of Infertility - Cervical factors                                   158519 non-null  int64  \n",
      " 24  Cause of Infertility - Female Factors                                     158519 non-null  int64  \n",
      " 25  Cause of Infertility - Partner Sperm Concentration                        158519 non-null  int64  \n",
      " 26  Cause of Infertility -  Partner Sperm Morphology                          158519 non-null  int64  \n",
      " 27  Causes of Infertility - Partner Sperm Motility                            158519 non-null  int64  \n",
      " 28  Cause of Infertility -  Partner Sperm Immunological factors               158519 non-null  int64  \n",
      " 29  Main Reason for Producing Embroys Storing Eggs                            148106 non-null  object \n",
      " 30  Stimulation used                                                          158519 non-null  int64  \n",
      " 31  Type of Ovulation Induction                                               101208 non-null  object \n",
      " 32  Egg Donor Age at Registration                                             7711 non-null    object \n",
      " 33  Sperm Donor Age at Registration                                           21068 non-null   object \n",
      " 34  Donated embryo                                                            148106 non-null  float64\n",
      " 35  Patient acting as Surrogate                                               148106 non-null  float64\n",
      " 36  Type of treatment - IVF or DI                                             158519 non-null  object \n",
      " 37  Specific treatment type                                                   158519 non-null  object \n",
      " 38  PGD                                                                       148106 non-null  float64\n",
      " 39  PGD treatment                                                             1405 non-null    float64\n",
      " 40  PGS                                                                       1929 non-null    float64\n",
      " 41  PGS Treatment                                                             1000 non-null    float64\n",
      " 42  Elective Single Embryo Transfer                                           148106 non-null  float64\n",
      " 43  Egg Source                                                                148106 non-null  object \n",
      " 44  Sperm From                                                                158519 non-null  object \n",
      " 45  Fresh Cycle                                                               148106 non-null  float64\n",
      " 46  Frozen Cycle                                                              148106 non-null  float64\n",
      " 47  Eggs Thawed                                                               148106 non-null  float64\n",
      " 48  Fresh Eggs Collected                                                      148106 non-null  object \n",
      " 49  Fresh Eggs Stored                                                         148106 non-null  float64\n",
      " 50  Total Eggs Mixed                                                          148106 non-null  object \n",
      " 51  Eggs Mixed With Partner Sperm                                             148106 non-null  object \n",
      " 52  Eggs Mixed With Donor sperm                                               148106 non-null  object \n",
      " 53  Total Embryos Created                                                     148106 non-null  object \n",
      " 54  Eggs Micro-injected                                                       148106 non-null  object \n",
      " 55  Embryos from Eggs Micro-injected                                          148106 non-null  float64\n",
      " 56  Total Embryos Thawed                                                      148106 non-null  float64\n",
      " 57  Embryos Transfered                                                        148106 non-null  float64\n",
      " 58  Embryos Transfered from Eggs Micro-injected                               148106 non-null  float64\n",
      " 59  Embryos Stored For Use By Patient                                         148106 non-null  float64\n",
      " 60  Embryos (from Eggs Micro-injected) Stored For Use By Patient              148106 non-null  float64\n",
      " 61  Date of Egg Collection                                                    104463 non-null  float64\n",
      " 62  Date of Egg Thawing                                                       1093 non-null    float64\n",
      " 63  Date of Egg Mixing                                                        97807 non-null   float64\n",
      " 64  Date of Embryo Thawing                                                    38901 non-null   float64\n",
      " 65  Date of Embryo Transfer                                                   116577 non-null  float64\n",
      " 66  Year of Treatment                                                         158519 non-null  int64  \n",
      " 67  Live Birth Occurrence                                                     38082 non-null   float64\n",
      " 68  Number of Live Births                                                     158519 non-null  int64  \n",
      " 69  Early Outcome                                                             126999 non-null  object \n",
      " 70  Number of foetal sacs with fetal pulsation                                158519 non-null  int64  \n",
      " 71  Heart One Weeks Gestation                                                 37342 non-null   object \n",
      " 72  Heart One Birth Outcome                                                   43311 non-null   object \n",
      " 73  Heart One Birth Weight                                                    37178 non-null   object \n",
      " 74  Heart OneSex                                                              37452 non-null   object \n",
      " 75  Heart One Delivery Date                                                   37403 non-null   float64\n",
      " 76  Heart One Birth Congenital Abnormalities                                  0 non-null       float64\n",
      " 77  Heart Two Weeks Gestation                                                 5003 non-null    object \n",
      " 78  Heart Two Birth Outcome                                                   5690 non-null    object \n",
      " 79  Heart Two Birth Weight                                                    4942 non-null    object \n",
      " 80  Heart Two Sex                                                             5009 non-null    object \n",
      " 81  Heart Two Delivery Date                                                   4995 non-null    float64\n",
      " 82  Heart Two Birth Congenital Abnormalities                                  0 non-null       float64\n",
      " 83  Heart Three Weeks Gestation                                               123 non-null     object \n",
      " 84  Heart Three Birth Outcome                                                 159 non-null     object \n",
      " 85  Heart Three Birth Weight                                                  118 non-null     object \n",
      " 86  Heart Three Sex                                                           123 non-null     object \n",
      " 87  Heart Three Delivery Date                                                 120 non-null     float64\n",
      " 88  Heart Three Birth Congenital Abnormalities                                0 non-null       float64\n",
      " 89  Heart Four Weeks Gestation                                                1 non-null       object \n",
      " 90  Heart Four Birth Outcome                                                  1 non-null       object \n",
      " 91  Heart Four Birth Weight                                                   1 non-null       object \n",
      " 92  Heart Four Sex                                                            1 non-null       object \n",
      " 93  Heart Four Delivery Date                                                  1 non-null       float64\n",
      " 94  Heart Four Birth Congenital Abnormalities                                 0 non-null       float64\n",
      "dtypes: float64(32), int64(25), object(38)\n",
      "memory usage: 114.9+ MB\n"
     ]
    }
   ],
   "source": [
    "df_valid.info()"
   ]
  },
  {
   "cell_type": "markdown",
   "metadata": {
    "id": "P3SSOj6zC-wb"
   },
   "source": [
    "# Feature Engineering "
   ]
  },
  {
   "cell_type": "markdown",
   "metadata": {
    "id": "pRD-DoRPDBOy"
   },
   "source": [
    "### For Validaton only"
   ]
  },
  {
   "cell_type": "code",
   "execution_count": 19,
   "metadata": {
    "id": "JBXT2fZ4IKWg"
   },
   "outputs": [],
   "source": [
    "def feature_engineering_target (df_selected):\n",
    "\n",
    "    #For target Value\n",
    "    df_selected_target = df_selected[['Total number of live births - conceived through IVF or DI','Total number of live births - conceived through IVF','Total number of live births - conceived through DI','Number of Live Births']].copy()\n",
    "    df_selected_target= pd.concat([df_selected_target,df_selected['Live Birth Occurrence']], axis=1)\n",
    "    #TREAT Total number of live births - conceived through IVF or DI\n",
    "    #Transform >=5 to certain number\n",
    "    df_selected_target['Total number of live births - conceived through IVF or DI'].replace('>=5', 6, inplace=True)\n",
    "    #Transform data into integer\n",
    "    df_selected_target['Total number of live births - conceived through IVF or DI']= df_selected_target['Total number of live births - conceived through IVF or DI'].astype(str).astype(float)\n",
    "    #Transform dataframe to 0 and 1, with 1 is stated as successful live birth, while 0 is no recorded livebirth\n",
    "    df_selected_target['Total number of live births - conceived through IVF or DI'] = np.where(df_selected_target['Total number of live births - conceived through IVF or DI']==0, 0, 1)\n",
    "    #No need to convert to int as it is already numeric\n",
    "    df_selected_target['Total number of live births - conceived through IVF'] = np.where(df_selected_target['Total number of live births - conceived through IVF']==0, 0, 1)\n",
    "    df_selected_target['Total number of live births - conceived through DI'] = np.where(df_selected_target['Total number of live births - conceived through DI']==0, 0, 1)\n",
    "    df_selected_target['Number of Live Births'] = np.where(df_selected_target['Number of Live Births']==0, 0, 1)\n",
    "    #COMBINE ALL COLUMNS, if there is any number 1 in a row, then it will be added as successful birth\n",
    "    # create a list of our conditions\n",
    "    conditions = [\n",
    "    (df_selected_target['Total number of live births - conceived through IVF'] == 1) | \n",
    "    (df_selected_target['Total number of live births - conceived through DI'] == 1) | \n",
    "    (df_selected_target['Total number of live births - conceived through DI'] == 1) |\n",
    "    (df_selected_target['Number of Live Births'] == 1) |\n",
    "    (df_selected_target['Live Birth Occurrence'] == 1)\n",
    "    ]\n",
    "    # create a list of the values we want to assign for each condition\n",
    "    values = [1]\n",
    "    # create a new column and use np.select to assign values to it using our lists as arguments\n",
    "    df_selected_target['success or not'] = np.select(conditions, values, default=0)\n",
    "    #Take only the success or not column\n",
    "    df_selected_target.drop(['Total number of live births - conceived through IVF or DI', 'Total number of live births - conceived through IVF',\n",
    "                         'Total number of live births - conceived through DI','Number of Live Births', 'Live Birth Occurrence'], axis=1, inplace= True)\n",
    "\n",
    "\n",
    "    return df_selected_target"
   ]
  },
  {
   "cell_type": "code",
   "execution_count": 20,
   "metadata": {
    "id": "Tb5lgXQcDD4i"
   },
   "outputs": [],
   "source": [
    "def feature_engineering_features (df_selected):\n",
    "\n",
    "    #For features value\n",
    "    cols_feature= ['Cause  of Infertility - Tubal disease',\n",
    "       'Cause of Infertility -  Partner Sperm Immunological factors',\n",
    "       'Cause of Infertility -  Partner Sperm Morphology',\n",
    "       'Cause of Infertility - Cervical factors',\n",
    "       'Cause of Infertility - Endometriosis',\n",
    "       'Cause of Infertility - Female Factors',\n",
    "       'Cause of Infertility - Male Factor',\n",
    "       'Cause of Infertility - Ovulatory Disorder',\n",
    "       'Cause of Infertility - Partner Sperm Concentration',\n",
    "       'Cause of Infertility - Patient Unexplained',\n",
    "       'Causes of Infertility - Partner Sperm Motility',\n",
    "       'Date of Embryo Transfer', 'Donated embryo', 'Early Outcome',\n",
    "       'Egg Source', 'Eggs Micro-injected', 'Eggs Mixed With Donor sperm',\n",
    "       'Eggs Mixed With Partner Sperm', 'Eggs Thawed',\n",
    "       'Elective Single Embryo Transfer',\n",
    "       'Embryos (from Eggs Micro-injected) Stored For Use By Patient',\n",
    "       'Embryos Stored For Use By Patient', 'Embryos Transfered',\n",
    "       'Embryos Transfered from Eggs Micro-injected',\n",
    "       'Embryos from Eggs Micro-injected', 'Fresh Cycle',\n",
    "       'Fresh Eggs Collected', 'Fresh Eggs Stored', 'Frozen Cycle',\n",
    "       'Main Reason for Producing Embroys Storing Eggs',\n",
    "       'Number of foetal sacs with fetal pulsation',\n",
    "       'PGD', 'Patient Age at Treatment', 'Patient acting as Surrogate',\n",
    "       'Specific treatment type', 'Sperm From', 'Stimulation used',\n",
    "       'Total Eggs Mixed', 'Total Embryos Created', 'Total Embryos Thawed',\n",
    "       'Total Number of Previous DI cycles',\n",
    "       'Total Number of Previous IVF cycles',\n",
    "       'Total Number of Previous cycles, Both IVF and DI',\n",
    "       'Total Number of Previous treatments, Both IVF and DI at clinic',\n",
    "       'Total number of DI pregnancies', 'Total number of IVF pregnancies',\n",
    "       'Total number of previous pregnancies, Both IVF and DI',\n",
    "       'Type of Infertility - Female Primary',\n",
    "       'Type of Infertility - Female Secondary',\n",
    "       'Type of Infertility - Male Primary',\n",
    "       'Type of Infertility - Male Secondary',\n",
    "       'Type of Infertility -Couple Primary',\n",
    "       'Type of Infertility -Couple Secondary',\n",
    "       'Type of treatment - IVF or DI', 'Year of Treatment']\n",
    "    df_selected_feature = df_selected[[c for c in df_selected.columns if c in cols_feature]]\n",
    "\n",
    "    #Treat Total number of IVF pregnancies\n",
    "    TNIVFmap = {'0':0,'1':1,'2':2,'3':3,'4':4,'5':5 ,'>=5':6}\n",
    "    df_selected_feature['Total number of IVF pregnancies'] = df_selected_feature['Total number of IVF pregnancies'].replace(TNIVFmap)\n",
    "\n",
    "    #TREAT PATIENT AGE AT TREATMENT\n",
    "    Patmap = {'18 - 34':0,'35-37':1,'38-39':2,'40-42':3,'43-44':4,'45-50':5 ,'999':6}\n",
    "    #Assume age input 999 is equal to >50\n",
    "    df_selected_feature['Patient Age at Treatment'] = df_selected_feature['Patient Age at Treatment'].map(Patmap)\n",
    "\n",
    "    #Treat Total Number of Previous IVF cycles\n",
    "    TNPICmap = {'0':0,'1':1,'2':2,'3':3,'4':4,'5':5 ,'>=5':6}\n",
    "    df_selected_feature['Total Number of Previous IVF cycles'] =df_selected_feature['Total Number of Previous IVF cycles'].map(TNPICmap)\n",
    "\n",
    "    #Treat Total Number of Previous DI cycles\n",
    "    TNPDCmap = {'0':0,'1':1,'2':2,'3':3,'4':4,'5':5 ,'>=5':6}\n",
    "    df_selected_feature['Total Number of Previous DI cycles'] =df_selected_feature['Total Number of Previous DI cycles'].map(TNPDCmap)\n",
    "\n",
    "    #Treat Main Reason for Producing Embroys Storing Eggs\n",
    "    #Combine the excessive data for modelling purposes, as the additional data is a combination of main feature\n",
    "    TMPESmap = {'Treatment Now ':0,'For Donation ':1,'Treatment Now ,For Donation ':2,'For Storing Embryos ':3,'For Storing Eggs ':4,\n",
    "            'For Donation ,For Storing Embryos ':1,'For Donation ,For Storing Eggs ':1,'Treatment Now ,For Storing Embryos ':0,\n",
    "           'Treatment Now ,For Donation ,For Storing Embryos ':0,'Treatment Now ,For Storing Eggs ':0,'For Storing Embryos ,For Storing Eggs ':3}\n",
    "    df_selected_feature['Main Reason for Producing Embroys Storing Eggs'] =df_selected_feature['Main Reason for Producing Embroys Storing Eggs'].map(TMPESmap)\n",
    "\n",
    "    #Treat Type of treatment - IVF or DI\n",
    "    TTIODmap = {'IVF':1,'DI':2}\n",
    "    df_selected_feature['Type of treatment - IVF or DI'] =df_selected_feature['Type of treatment - IVF or DI'].map(TTIODmap)\n",
    "\n",
    "    #Treat Specific treatment type\n",
    "    #Divide into ICSI, IVF, UNKNOWN, and IUI, and decide accordingly, as the additional data is a combination of main feature\n",
    "    TSTTmap = {'IUI':4, 'IVI':2, 'IUI:ICI':4, 'Generic DI':3, 'ICI':1, 'IVF':2, 'Unknown':3, 'ICSI':1,\n",
    "    'ICSI / AH':1, 'IVF / AH':2,'ICSI / BLASTOCYST ':1, 'IVF / BLASTOCYST':2,\n",
    "    'IVF / AH:ICSI / AH':3, 'ICSI:ICSI':1, 'IVF:ICSI':2, 'ICSI:IVF':1 ,'ICSI:Unknown': 1,\n",
    "    'IVF:IVF':2, 'IVF:Unknown':2, 'ICSI / BLASTOCYST:IVF / BLASTOCYST' :1,'ICSI / BLASTOCYST :ICSI':1, 'ICSI / AH:Unknown':1,\n",
    "    'ICSI / BLASTOCYST :IVF / BLASTOCYST' :1,'GIFT':3}\n",
    "    df_selected_feature['Specific treatment type'] = df_selected_feature['Specific treatment type'].map(TSTTmap)\n",
    "\n",
    "    # Treat Egg source \n",
    "    TESmap = {'Patient':0,'Donor':1}\n",
    "    df_selected_feature['Egg Source'] = df_selected_feature['Egg Source'].map(TESmap)\n",
    "\n",
    "    #Treat sperm from\n",
    "    TSFmap = {'Partner':0,'Donor':1,'not assigned':2,'Partner & Donor':3}\n",
    "    df_selected_feature['Sperm From'] = df_selected_feature['Sperm From'].map(TSFmap)\n",
    "\n",
    "###########\n",
    "    #Treat Fresh Eggs Collected\n",
    "    #First fill the nan value with 0 (assumption)\n",
    "    df_selected_feature['Fresh Eggs Collected'] = df_selected_feature['Fresh Eggs Collected'].fillna('0')\n",
    "    #Convert >50 into int first, assuming it is the final bin\n",
    "    df_selected_feature['Fresh Eggs Collected']= df_selected_feature['Fresh Eggs Collected'].replace('> 50','51')\n",
    "    df_selected_feature['Fresh Eggs Collected']= df_selected_feature['Fresh Eggs Collected'].astype(str).astype(float)\n",
    "    bins = [-1,1,10,20,50,51]\n",
    "    labels = ['0','1-10','10-20','20-50','>50']\n",
    "    df_selected_feature['Fresh Eggs Collected'] = pd.cut(df_selected_feature['Fresh Eggs Collected'], bins=bins, labels=labels)\n",
    "    #Remap the value as feature engineering\n",
    "    TFECmap = {'0':0, '10-20':1, '1-10':2, '20-50':3, '>50':4}\n",
    "    df_selected_feature['Fresh Eggs Collected'] = df_selected_feature['Fresh Eggs Collected'].replace(TFECmap)\n",
    "\n",
    "    #Treat Fresh Eggs Stored\n",
    "    #First fill the nan value with 0 (assumption)\n",
    "    df_selected_feature['Fresh Eggs Stored'] = df_selected_feature['Fresh Eggs Stored'].fillna('0')\n",
    "    #Convert >50 into int first, assuming it is the final bin\n",
    "    df_selected_feature['Fresh Eggs Stored']= df_selected_feature['Fresh Eggs Stored'].replace('> 50','51')\n",
    "    df_selected_feature['Fresh Eggs Stored']= df_selected_feature['Fresh Eggs Stored'].astype(float)\n",
    "    bins = [-1,1,50,51]\n",
    "    labels = ['0','1-50','>50']\n",
    "    df_selected_feature['Fresh Eggs Stored'] = pd.cut(df_selected_feature['Fresh Eggs Stored'], bins=bins, labels=labels)\n",
    "    #Remap the value as feature engineering\n",
    "    TFESmap = {'0':0, '1-50':1, '>50':2}\n",
    "    df_selected_feature['Fresh Eggs Stored'] = df_selected_feature['Fresh Eggs Stored'].replace(TFESmap)\n",
    "\n",
    "    #Treat Eggs Mixed With Partner Sperm\n",
    "    #First fill the nan value with 0 (assumption)\n",
    "    df_selected_feature['Eggs Mixed With Partner Sperm'] = df_selected_feature['Eggs Mixed With Partner Sperm'].fillna('0')\n",
    "    #Convert >50 into int first, assuming it is the final bin\n",
    "    df_selected_feature['Eggs Mixed With Partner Sperm']= df_selected_feature['Eggs Mixed With Partner Sperm'].replace('> 50','51')\n",
    "\n",
    "    df_selected_feature['Eggs Mixed With Partner Sperm']= df_selected_feature['Eggs Mixed With Partner Sperm'].astype(str).astype(float)\n",
    "\n",
    "    df_selected_feature['Eggs Mixed With Partner Sperm'].unique()\n",
    "    bins = [-1,1,10,20,50,51]\n",
    "    labels = ['0','1-10','10-20','20-50','>50']\n",
    "    df_selected_feature['Eggs Mixed With Partner Sperm'] = pd.cut(df_selected_feature['Eggs Mixed With Partner Sperm'], bins=bins, labels=labels)\n",
    "    #Remap the value as feature engineering\n",
    "    TEMPSmap = {'0':0, '1-10':1,'10-20':2,'20-50':3,'>50':4}\n",
    "    df_selected_feature['Eggs Mixed With Partner Sperm'] = df_selected_feature['Eggs Mixed With Partner Sperm'].map(TEMPSmap)\n",
    "\n",
    "    #Treat Total Embryos Created\n",
    "    #First fill the nan value with 0 (assumption)\n",
    "    df_selected_feature['Total Embryos Created'] = df_selected_feature['Total Embryos Created'].fillna('0')\n",
    "    #Convert >50 into int first, assuming it is the final bin\n",
    "    df_selected_feature['Total Embryos Created']= df_selected_feature['Total Embryos Created'].replace('> 50','51')\n",
    "\n",
    "    df_selected_feature['Total Embryos Created']= df_selected_feature['Total Embryos Created'].astype(str).astype(float)\n",
    "\n",
    "    df_selected_feature['Total Embryos Created'].unique()\n",
    "    bins = [-1,1,5,10,20,51]\n",
    "    labels = ['0','1-5','5-10','10-20','>20']\n",
    "    df_selected_feature['Total Embryos Created'] = pd.cut(df_selected_feature['Total Embryos Created'], bins=bins, labels=labels)\n",
    "    #Remap the value as feature engineering\n",
    "    TEMCDmap = {'0':0, '1-5':1,'5-10':2,'10-20':3,'>20':4}\n",
    "    df_selected_feature['Total Embryos Created'] = df_selected_feature['Total Embryos Created'].map(TEMCDmap)\n",
    "\n",
    "    #Treat Eggs Micro-injected\n",
    "    #First fill the nan value with 0 (assumption)\n",
    "    df_selected_feature['Eggs Micro-injected'] = df_selected_feature['Eggs Micro-injected'].fillna('0')\n",
    "    #Convert >50 into int first, assuming it is the final bin\n",
    "    df_selected_feature['Eggs Micro-injected']= df_selected_feature['Eggs Micro-injected'].replace('> 50','51')\n",
    "\n",
    "    df_selected_feature['Eggs Micro-injected']= df_selected_feature['Eggs Micro-injected'].astype(str).astype(float)\n",
    "\n",
    "    df_selected_feature['Eggs Micro-injected'].unique()\n",
    "    bins = [-1,1,10,20,50,51]\n",
    "    labels = ['0','1-10','10-20','20-50','>50']\n",
    "    df_selected_feature['Eggs Micro-injected'] = pd.cut(df_selected_feature['Eggs Micro-injected'], bins=bins, labels=labels)\n",
    "    #Remap the value as feature engineering\n",
    "    TEMImap = {'0':0, '1-10':1,'10-20':2,'20-50':3,'>50':4}\n",
    "    df_selected_feature['Eggs Micro-injected'] = df_selected_feature['Eggs Micro-injected'].map(TEMImap)\n",
    "\n",
    "    #Treat Embryos Stored For Use By Patient\n",
    "    #First fill the nan value with 0 (assumption)\n",
    "    df_selected_feature['Embryos Stored For Use By Patient'] = df_selected_feature['Embryos Stored For Use By Patient'].fillna('0')\n",
    "    #Convert >50 into int first, assuming it is the final bin\n",
    "    df_selected_feature['Embryos Stored For Use By Patient']= df_selected_feature['Embryos Stored For Use By Patient'].replace('> 50','51')\n",
    "\n",
    "    df_selected_feature['Embryos Stored For Use By Patient']= df_selected_feature['Embryos Stored For Use By Patient'].astype(str).astype(float)\n",
    "\n",
    "    df_selected_feature['Embryos Stored For Use By Patient'].unique()\n",
    "    bins = [-1,1,10,50,51]\n",
    "    labels = ['0','1-10','10-50','>50']\n",
    "    df_selected_feature['Embryos Stored For Use By Patient'] = pd.cut(df_selected_feature['Embryos Stored For Use By Patient'], bins=bins, labels=labels)\n",
    "    #Remap the value as feature engineering\n",
    "    TESBPmap = {'0':0, '1-10':1,'10-50':2, '>50':3}\n",
    "    df_selected_feature['Embryos Stored For Use By Patient'] = df_selected_feature['Embryos Stored For Use By Patient'].map(TESBPmap)\n",
    "   #######################\n",
    "\n",
    "\n",
    "    #Treat Early Outcome\n",
    "    #Divide into None, Intrauterine Fetal Pulsation Seen,Biochemical Pregnancy Only, Misscarriage, & Ectopic, and decide accordingly\n",
    "    TEOmap = {'Intrauterine Fetal Pulsation Seen ': 1, 'None ':0,\n",
    "     'Biochemical Pregnancy Only ': 2, 'Misscarriage ': 3 ,'None ,Misscarriage ':3 ,\n",
    "    'Ectopic ':4 , 'Biochemical Pregnancy Only ,Misscarriage ': 2,\n",
    "    'Misscarriage ,Intrauterine Fetal Pulsation Seen ' :3 ,'Molar ': 0,\n",
    "    'None ,Biochemical Pregnancy Only ' : 2,'Misscarriage ,Ectopic ':3 ,\n",
    "    'Hetrotopic ,Intrauterine Fetal Pulsation Seen ':1 ,\n",
    "    'None ,Intrauterine Fetal Pulsation Seen ' :1 ,'Hetrotopic ': 0,\n",
    "    'Ectopic ,Intrauterine Fetal Pulsation Seen ':4 ,\n",
    "    'Biochemical Pregnancy Only ,Intrauterine Fetal Pulsation Seen ':2 ,\n",
    "    'Molar ,Intrauterine Fetal Pulsation Seen ' :1 ,'None ,Molar ':0 ,\n",
    "    'None ,Ectopic ':4 ,\n",
    "    'Ectopic ,Hetrotopic ,Intrauterine Fetal Pulsation Seen ': 4,\n",
    "    'Biochemical Pregnancy Only ,Ectopic ':2 }\n",
    "    df_selected_feature['Early Outcome'] = df_selected_feature['Early Outcome'].map(TEOmap)\n",
    "    df_selected_feature['Early Outcome'] = df_selected_feature['Early Outcome'].fillna(0)\n",
    "\n",
    "    #Treat Egss Thawed\n",
    "    bins = [-1,1,37]\n",
    "    labels = ['0','>1']\n",
    "    df_selected_feature['Eggs Thawed'] = pd.cut(df_selected_feature['Eggs Thawed'], bins=bins, labels=labels)\n",
    "    #Remap the value as feature engineering\n",
    "    TETmap = {'0':0, '>1':1}\n",
    "    df_selected_feature['Eggs Thawed'] = df_selected_feature['Eggs Thawed'].map(TETmap)\n",
    "\n",
    "    #Treat Eggs Mixed With Donor Sperm\n",
    "    df_selected_feature['Eggs Mixed With Donor sperm']= df_selected_feature['Eggs Mixed With Donor sperm'].replace('> 50','51')\n",
    "    df_selected_feature['Eggs Mixed With Donor sperm']= df_selected_feature['Eggs Mixed With Donor sperm'].astype(float)\n",
    "    bins = [-1,1,100]\n",
    "    labels = ['0','>1']\n",
    "    df_selected_feature['Eggs Mixed With Donor sperm'] = pd.cut(df_selected_feature['Eggs Mixed With Donor sperm'], bins=bins, labels=labels)\n",
    "    #Remap the value as feature engineering\n",
    "    TEMDSmap = {'0':0, '>1':1}\n",
    "    df_selected_feature['Eggs Mixed With Donor sperm'] = df_selected_feature['Eggs Mixed With Donor sperm'].map(TEMDSmap)\n",
    "\n",
    "    #Treat Total Embryos Thawed\n",
    "    bins = [-1,1,2,3,4,32]\n",
    "    labels = ['0','1','2','3','>4']\n",
    "    df_selected_feature['Total Embryos Thawed'] = pd.cut(df_selected_feature['Total Embryos Thawed'], bins=bins, labels=labels)\n",
    "    #Remap the value as feature engineering\n",
    "    TEETmap = {'0':0, '1':1,'2':2,'3':3,'>4':4}\n",
    "    df_selected_feature['Total Embryos Thawed'] = df_selected_feature['Total Embryos Thawed'].map(TEETmap)\n",
    "\n",
    "    #Treat Date of Embryo Transfer & Year of Treatment\n",
    "    df_selected_feature.drop(['Date of Embryo Transfer','Year of Treatment'], axis=1,inplace=True)\n",
    "\n",
    "    #Treat Number of foetal sacs with fetal pulsation\n",
    "    #Remap to 0, 1, 2 and >2\n",
    "    TNFFPmap = {0:0, 1:1,2:2,3:3,4:3,8:3}\n",
    "    df_selected_feature['Number of foetal sacs with fetal pulsation'] = df_selected_feature['Number of foetal sacs with fetal pulsation'].map(TNFFPmap)\n",
    "\n",
    "    #Type of infertility\n",
    "    #COMBINE Type of Infertility\n",
    "    # by Transform according to\n",
    "    # Female Primary : 1, Female Secondary: 2 , Male Primary: 3, Male Secondary :4, Couple Primary:5, Couple Secondary:6, others :0\n",
    "    # And create new column while deleting the previous columns\n",
    "    col_type = ['Type of Infertility - Female Primary',\n",
    "               'Type of Infertility - Female Secondary',\n",
    "               'Type of Infertility - Male Primary',\n",
    "               'Type of Infertility - Male Secondary',\n",
    "               'Type of Infertility -Couple Primary',\n",
    "               'Type of Infertility -Couple Secondary',\n",
    "               ]\n",
    "    conditions_type = [\n",
    "    (df_selected_feature[col_type[0]] == 1) , \n",
    "    (df_selected_feature[col_type[1]] == 1) , \n",
    "    (df_selected_feature[col_type[2]] == 1) ,\n",
    "    (df_selected_feature[col_type[3]] == 1) ,\n",
    "    (df_selected_feature[col_type[4]] == 1) ,\n",
    "    (df_selected_feature[col_type[5]] == 1)\n",
    "    ]\n",
    "\n",
    "    # create a list of the values we want to assign for each condition\n",
    "    values_type = [1,2,3,4,5,6]\n",
    "\n",
    "    # create a new column and use np.select to assign values to it using our lists as arguments\n",
    "    df_selected_feature['Type of Infertility'] = np.select(conditions_type, values_type, default=0)\n",
    "\n",
    "    # delete previous column\n",
    "    df_selected_feature.drop(col_type, axis=1, inplace= True)\n",
    "\n",
    "    #Cause of Infertility\n",
    "    #COMBINE Cause of Infertility\n",
    "    # by Transform according to\n",
    "    # Tubal disease: 1, Ovulatory Disorder: 2 , Male Factor: 3, Patient Unexplained: 4, Endometriosis: 5, Cervical factors: 6, Female Factors: 7, \n",
    "    # Partner Sperm Concentration: 8, Partner Sperm Morphology: 9, Partner Sperm Motility: 10, Partner Sperm Immunological factors : 11, others :0\n",
    "    # And create new column while deleting the previous columns\n",
    "    col_cause =    ['Cause  of Infertility - Tubal disease',\n",
    "               'Cause of Infertility - Ovulatory Disorder',\n",
    "               'Cause of Infertility - Male Factor',\n",
    "               'Cause of Infertility - Patient Unexplained',\n",
    "               'Cause of Infertility - Endometriosis',\n",
    "               'Cause of Infertility - Cervical factors',\n",
    "               'Cause of Infertility - Female Factors',\n",
    "               'Cause of Infertility - Partner Sperm Concentration',\n",
    "               'Cause of Infertility -  Partner Sperm Morphology',\n",
    "               'Causes of Infertility - Partner Sperm Motility',\n",
    "               'Cause of Infertility -  Partner Sperm Immunological factors'\n",
    "               ]\n",
    "\n",
    "    conditions_cause = [\n",
    "    (df_selected_feature[col_cause[0]] == 1) , \n",
    "    (df_selected_feature[col_cause[1]] == 1) , \n",
    "    (df_selected_feature[col_cause[2]] == 1) ,\n",
    "    (df_selected_feature[col_cause[3]] == 1) ,\n",
    "    (df_selected_feature[col_cause[4]] == 1) ,\n",
    "    (df_selected_feature[col_cause[5]] == 1) ,\n",
    "    (df_selected_feature[col_cause[6]] == 1) ,\n",
    "    (df_selected_feature[col_cause[7]] == 1) ,\n",
    "    (df_selected_feature[col_cause[8]] == 1) , \n",
    "    (df_selected_feature[col_cause[9]] == 1) ,\n",
    "    (df_selected_feature[col_cause[10]] == 1),\n",
    "    ]\n",
    "\n",
    "    # create a list of the values we want to assign for each condition\n",
    "    values_cause = [1,2,3,4,5,6,7,8,9,10,11]\n",
    "\n",
    "    # create a new column and use np.select to assign values to it using our lists as arguments\n",
    "    df_selected_feature['Cause of Infertility'] = np.select(conditions_cause, values_cause, default=0)\n",
    "\n",
    "    # delete previous column\n",
    "    df_selected_feature.drop(col_cause, axis=1, inplace= True)\n",
    "\n",
    "    drop_features = ['Early Outcome','Number of foetal sacs with fetal pulsation',\n",
    "                     'Total number of previous pregnancies, Both IVF and DI',\n",
    "                 'Stimulation used',\n",
    "                 'Total Number of Previous treatments, Both IVF and DI at clinic',\n",
    "                 'Total Eggs Mixed',\n",
    "                 'Embryos (from Eggs Micro-injected) Stored For Use By Patient',\n",
    "                 'Embryos from Eggs Micro-injected',\n",
    "                 'Total Number of Previous cycles, Both IVF and DI',\n",
    "                ]\n",
    "    \n",
    "    #Drop features (Dataframe features)\n",
    "    df_selected_feature.drop(drop_features, axis=1, inplace= True)\n",
    "\n",
    "    for i in df_selected_feature.columns:\n",
    "        df_selected_feature[i].fillna(df_selected_feature[i].mode()[0], inplace = True)\n",
    "\n",
    "    #return df_selected_new\n",
    "    return df_selected_feature"
   ]
  },
  {
   "cell_type": "code",
   "execution_count": 21,
   "metadata": {
    "id": "h0TVZ2C_gqhd"
   },
   "outputs": [],
   "source": [
    "y_valid = feature_engineering_target(df_valid)"
   ]
  },
  {
   "cell_type": "code",
   "execution_count": 22,
   "metadata": {
    "colab": {
     "base_uri": "https://localhost:8080/"
    },
    "id": "h8AxRE0bKohf",
    "outputId": "52677186-4fd5-45a7-ec7b-bcb6fc731dd8"
   },
   "outputs": [
    {
     "name": "stderr",
     "output_type": "stream",
     "text": [
      "\n",
      "A value is trying to be set on a copy of a slice from a DataFrame.\n",
      "Try using .loc[row_indexer,col_indexer] = value instead\n",
      "\n",
      "See the caveats in the documentation: https://pandas.pydata.org/pandas-docs/stable/user_guide/indexing.html#returning-a-view-versus-a-copy\n",
      "\n",
      "A value is trying to be set on a copy of a slice from a DataFrame.\n",
      "Try using .loc[row_indexer,col_indexer] = value instead\n",
      "\n",
      "See the caveats in the documentation: https://pandas.pydata.org/pandas-docs/stable/user_guide/indexing.html#returning-a-view-versus-a-copy\n",
      "\n",
      "A value is trying to be set on a copy of a slice from a DataFrame.\n",
      "Try using .loc[row_indexer,col_indexer] = value instead\n",
      "\n",
      "See the caveats in the documentation: https://pandas.pydata.org/pandas-docs/stable/user_guide/indexing.html#returning-a-view-versus-a-copy\n",
      "\n",
      "A value is trying to be set on a copy of a slice from a DataFrame.\n",
      "Try using .loc[row_indexer,col_indexer] = value instead\n",
      "\n",
      "See the caveats in the documentation: https://pandas.pydata.org/pandas-docs/stable/user_guide/indexing.html#returning-a-view-versus-a-copy\n",
      "\n",
      "A value is trying to be set on a copy of a slice from a DataFrame.\n",
      "Try using .loc[row_indexer,col_indexer] = value instead\n",
      "\n",
      "See the caveats in the documentation: https://pandas.pydata.org/pandas-docs/stable/user_guide/indexing.html#returning-a-view-versus-a-copy\n",
      "\n",
      "A value is trying to be set on a copy of a slice from a DataFrame.\n",
      "Try using .loc[row_indexer,col_indexer] = value instead\n",
      "\n",
      "See the caveats in the documentation: https://pandas.pydata.org/pandas-docs/stable/user_guide/indexing.html#returning-a-view-versus-a-copy\n",
      "\n",
      "A value is trying to be set on a copy of a slice from a DataFrame.\n",
      "Try using .loc[row_indexer,col_indexer] = value instead\n",
      "\n",
      "See the caveats in the documentation: https://pandas.pydata.org/pandas-docs/stable/user_guide/indexing.html#returning-a-view-versus-a-copy\n",
      "\n",
      "A value is trying to be set on a copy of a slice from a DataFrame.\n",
      "Try using .loc[row_indexer,col_indexer] = value instead\n",
      "\n",
      "See the caveats in the documentation: https://pandas.pydata.org/pandas-docs/stable/user_guide/indexing.html#returning-a-view-versus-a-copy\n",
      "\n",
      "A value is trying to be set on a copy of a slice from a DataFrame.\n",
      "Try using .loc[row_indexer,col_indexer] = value instead\n",
      "\n",
      "See the caveats in the documentation: https://pandas.pydata.org/pandas-docs/stable/user_guide/indexing.html#returning-a-view-versus-a-copy\n",
      "\n",
      "A value is trying to be set on a copy of a slice from a DataFrame.\n",
      "Try using .loc[row_indexer,col_indexer] = value instead\n",
      "\n",
      "See the caveats in the documentation: https://pandas.pydata.org/pandas-docs/stable/user_guide/indexing.html#returning-a-view-versus-a-copy\n",
      "\n",
      "A value is trying to be set on a copy of a slice from a DataFrame.\n",
      "Try using .loc[row_indexer,col_indexer] = value instead\n",
      "\n",
      "See the caveats in the documentation: https://pandas.pydata.org/pandas-docs/stable/user_guide/indexing.html#returning-a-view-versus-a-copy\n",
      "\n",
      "A value is trying to be set on a copy of a slice from a DataFrame.\n",
      "Try using .loc[row_indexer,col_indexer] = value instead\n",
      "\n",
      "See the caveats in the documentation: https://pandas.pydata.org/pandas-docs/stable/user_guide/indexing.html#returning-a-view-versus-a-copy\n",
      "\n",
      "A value is trying to be set on a copy of a slice from a DataFrame.\n",
      "Try using .loc[row_indexer,col_indexer] = value instead\n",
      "\n",
      "See the caveats in the documentation: https://pandas.pydata.org/pandas-docs/stable/user_guide/indexing.html#returning-a-view-versus-a-copy\n",
      "\n",
      "A value is trying to be set on a copy of a slice from a DataFrame.\n",
      "Try using .loc[row_indexer,col_indexer] = value instead\n",
      "\n",
      "See the caveats in the documentation: https://pandas.pydata.org/pandas-docs/stable/user_guide/indexing.html#returning-a-view-versus-a-copy\n",
      "\n",
      "A value is trying to be set on a copy of a slice from a DataFrame.\n",
      "Try using .loc[row_indexer,col_indexer] = value instead\n",
      "\n",
      "See the caveats in the documentation: https://pandas.pydata.org/pandas-docs/stable/user_guide/indexing.html#returning-a-view-versus-a-copy\n",
      "\n",
      "A value is trying to be set on a copy of a slice from a DataFrame.\n",
      "Try using .loc[row_indexer,col_indexer] = value instead\n",
      "\n",
      "See the caveats in the documentation: https://pandas.pydata.org/pandas-docs/stable/user_guide/indexing.html#returning-a-view-versus-a-copy\n",
      "\n",
      "A value is trying to be set on a copy of a slice from a DataFrame.\n",
      "Try using .loc[row_indexer,col_indexer] = value instead\n",
      "\n",
      "See the caveats in the documentation: https://pandas.pydata.org/pandas-docs/stable/user_guide/indexing.html#returning-a-view-versus-a-copy\n",
      "\n",
      "A value is trying to be set on a copy of a slice from a DataFrame.\n",
      "Try using .loc[row_indexer,col_indexer] = value instead\n",
      "\n",
      "See the caveats in the documentation: https://pandas.pydata.org/pandas-docs/stable/user_guide/indexing.html#returning-a-view-versus-a-copy\n",
      "\n",
      "A value is trying to be set on a copy of a slice from a DataFrame.\n",
      "Try using .loc[row_indexer,col_indexer] = value instead\n",
      "\n",
      "See the caveats in the documentation: https://pandas.pydata.org/pandas-docs/stable/user_guide/indexing.html#returning-a-view-versus-a-copy\n",
      "\n",
      "A value is trying to be set on a copy of a slice from a DataFrame.\n",
      "Try using .loc[row_indexer,col_indexer] = value instead\n",
      "\n",
      "See the caveats in the documentation: https://pandas.pydata.org/pandas-docs/stable/user_guide/indexing.html#returning-a-view-versus-a-copy\n",
      "\n",
      "A value is trying to be set on a copy of a slice from a DataFrame.\n",
      "Try using .loc[row_indexer,col_indexer] = value instead\n",
      "\n",
      "See the caveats in the documentation: https://pandas.pydata.org/pandas-docs/stable/user_guide/indexing.html#returning-a-view-versus-a-copy\n",
      "\n",
      "A value is trying to be set on a copy of a slice from a DataFrame.\n",
      "Try using .loc[row_indexer,col_indexer] = value instead\n",
      "\n",
      "See the caveats in the documentation: https://pandas.pydata.org/pandas-docs/stable/user_guide/indexing.html#returning-a-view-versus-a-copy\n",
      "\n",
      "A value is trying to be set on a copy of a slice from a DataFrame.\n",
      "Try using .loc[row_indexer,col_indexer] = value instead\n",
      "\n",
      "See the caveats in the documentation: https://pandas.pydata.org/pandas-docs/stable/user_guide/indexing.html#returning-a-view-versus-a-copy\n",
      "\n",
      "A value is trying to be set on a copy of a slice from a DataFrame.\n",
      "Try using .loc[row_indexer,col_indexer] = value instead\n",
      "\n",
      "See the caveats in the documentation: https://pandas.pydata.org/pandas-docs/stable/user_guide/indexing.html#returning-a-view-versus-a-copy\n",
      "\n",
      "A value is trying to be set on a copy of a slice from a DataFrame.\n",
      "Try using .loc[row_indexer,col_indexer] = value instead\n",
      "\n",
      "See the caveats in the documentation: https://pandas.pydata.org/pandas-docs/stable/user_guide/indexing.html#returning-a-view-versus-a-copy\n",
      "\n",
      "A value is trying to be set on a copy of a slice from a DataFrame.\n",
      "Try using .loc[row_indexer,col_indexer] = value instead\n",
      "\n",
      "See the caveats in the documentation: https://pandas.pydata.org/pandas-docs/stable/user_guide/indexing.html#returning-a-view-versus-a-copy\n",
      "\n",
      "A value is trying to be set on a copy of a slice from a DataFrame.\n",
      "Try using .loc[row_indexer,col_indexer] = value instead\n",
      "\n",
      "See the caveats in the documentation: https://pandas.pydata.org/pandas-docs/stable/user_guide/indexing.html#returning-a-view-versus-a-copy\n",
      "\n",
      "A value is trying to be set on a copy of a slice from a DataFrame.\n",
      "Try using .loc[row_indexer,col_indexer] = value instead\n",
      "\n",
      "See the caveats in the documentation: https://pandas.pydata.org/pandas-docs/stable/user_guide/indexing.html#returning-a-view-versus-a-copy\n",
      "\n",
      "A value is trying to be set on a copy of a slice from a DataFrame.\n",
      "Try using .loc[row_indexer,col_indexer] = value instead\n",
      "\n",
      "See the caveats in the documentation: https://pandas.pydata.org/pandas-docs/stable/user_guide/indexing.html#returning-a-view-versus-a-copy\n",
      "\n",
      "A value is trying to be set on a copy of a slice from a DataFrame.\n",
      "Try using .loc[row_indexer,col_indexer] = value instead\n",
      "\n",
      "See the caveats in the documentation: https://pandas.pydata.org/pandas-docs/stable/user_guide/indexing.html#returning-a-view-versus-a-copy\n",
      "\n",
      "A value is trying to be set on a copy of a slice from a DataFrame.\n",
      "Try using .loc[row_indexer,col_indexer] = value instead\n",
      "\n",
      "See the caveats in the documentation: https://pandas.pydata.org/pandas-docs/stable/user_guide/indexing.html#returning-a-view-versus-a-copy\n",
      "\n",
      "A value is trying to be set on a copy of a slice from a DataFrame.\n",
      "Try using .loc[row_indexer,col_indexer] = value instead\n",
      "\n",
      "See the caveats in the documentation: https://pandas.pydata.org/pandas-docs/stable/user_guide/indexing.html#returning-a-view-versus-a-copy\n",
      "\n",
      "A value is trying to be set on a copy of a slice from a DataFrame.\n",
      "Try using .loc[row_indexer,col_indexer] = value instead\n",
      "\n",
      "See the caveats in the documentation: https://pandas.pydata.org/pandas-docs/stable/user_guide/indexing.html#returning-a-view-versus-a-copy\n",
      "\n",
      "A value is trying to be set on a copy of a slice from a DataFrame.\n",
      "Try using .loc[row_indexer,col_indexer] = value instead\n",
      "\n",
      "See the caveats in the documentation: https://pandas.pydata.org/pandas-docs/stable/user_guide/indexing.html#returning-a-view-versus-a-copy\n",
      "\n",
      "A value is trying to be set on a copy of a slice from a DataFrame.\n",
      "Try using .loc[row_indexer,col_indexer] = value instead\n",
      "\n",
      "See the caveats in the documentation: https://pandas.pydata.org/pandas-docs/stable/user_guide/indexing.html#returning-a-view-versus-a-copy\n",
      "\n",
      "A value is trying to be set on a copy of a slice from a DataFrame.\n",
      "Try using .loc[row_indexer,col_indexer] = value instead\n",
      "\n",
      "See the caveats in the documentation: https://pandas.pydata.org/pandas-docs/stable/user_guide/indexing.html#returning-a-view-versus-a-copy\n",
      "\n",
      "A value is trying to be set on a copy of a slice from a DataFrame.\n",
      "Try using .loc[row_indexer,col_indexer] = value instead\n",
      "\n",
      "See the caveats in the documentation: https://pandas.pydata.org/pandas-docs/stable/user_guide/indexing.html#returning-a-view-versus-a-copy\n",
      "\n",
      "A value is trying to be set on a copy of a slice from a DataFrame.\n",
      "Try using .loc[row_indexer,col_indexer] = value instead\n",
      "\n",
      "See the caveats in the documentation: https://pandas.pydata.org/pandas-docs/stable/user_guide/indexing.html#returning-a-view-versus-a-copy\n",
      "\n",
      "A value is trying to be set on a copy of a slice from a DataFrame.\n",
      "Try using .loc[row_indexer,col_indexer] = value instead\n",
      "\n",
      "See the caveats in the documentation: https://pandas.pydata.org/pandas-docs/stable/user_guide/indexing.html#returning-a-view-versus-a-copy\n",
      "\n",
      "A value is trying to be set on a copy of a slice from a DataFrame.\n",
      "Try using .loc[row_indexer,col_indexer] = value instead\n",
      "\n",
      "See the caveats in the documentation: https://pandas.pydata.org/pandas-docs/stable/user_guide/indexing.html#returning-a-view-versus-a-copy\n",
      "\n",
      "A value is trying to be set on a copy of a slice from a DataFrame.\n",
      "Try using .loc[row_indexer,col_indexer] = value instead\n",
      "\n",
      "See the caveats in the documentation: https://pandas.pydata.org/pandas-docs/stable/user_guide/indexing.html#returning-a-view-versus-a-copy\n",
      "\n",
      "A value is trying to be set on a copy of a slice from a DataFrame.\n",
      "Try using .loc[row_indexer,col_indexer] = value instead\n",
      "\n",
      "See the caveats in the documentation: https://pandas.pydata.org/pandas-docs/stable/user_guide/indexing.html#returning-a-view-versus-a-copy\n",
      "\n",
      "A value is trying to be set on a copy of a slice from a DataFrame.\n",
      "Try using .loc[row_indexer,col_indexer] = value instead\n",
      "\n",
      "See the caveats in the documentation: https://pandas.pydata.org/pandas-docs/stable/user_guide/indexing.html#returning-a-view-versus-a-copy\n",
      "\n",
      "A value is trying to be set on a copy of a slice from a DataFrame.\n",
      "Try using .loc[row_indexer,col_indexer] = value instead\n",
      "\n",
      "See the caveats in the documentation: https://pandas.pydata.org/pandas-docs/stable/user_guide/indexing.html#returning-a-view-versus-a-copy\n",
      "\n",
      "A value is trying to be set on a copy of a slice from a DataFrame.\n",
      "Try using .loc[row_indexer,col_indexer] = value instead\n",
      "\n",
      "See the caveats in the documentation: https://pandas.pydata.org/pandas-docs/stable/user_guide/indexing.html#returning-a-view-versus-a-copy\n",
      "\n",
      "A value is trying to be set on a copy of a slice from a DataFrame.\n",
      "Try using .loc[row_indexer,col_indexer] = value instead\n",
      "\n",
      "See the caveats in the documentation: https://pandas.pydata.org/pandas-docs/stable/user_guide/indexing.html#returning-a-view-versus-a-copy\n",
      "\n",
      "A value is trying to be set on a copy of a slice from a DataFrame.\n",
      "Try using .loc[row_indexer,col_indexer] = value instead\n",
      "\n",
      "See the caveats in the documentation: https://pandas.pydata.org/pandas-docs/stable/user_guide/indexing.html#returning-a-view-versus-a-copy\n",
      "\n",
      "A value is trying to be set on a copy of a slice from a DataFrame.\n",
      "Try using .loc[row_indexer,col_indexer] = value instead\n",
      "\n",
      "See the caveats in the documentation: https://pandas.pydata.org/pandas-docs/stable/user_guide/indexing.html#returning-a-view-versus-a-copy\n",
      "\n",
      "A value is trying to be set on a copy of a slice from a DataFrame.\n",
      "Try using .loc[row_indexer,col_indexer] = value instead\n",
      "\n",
      "See the caveats in the documentation: https://pandas.pydata.org/pandas-docs/stable/user_guide/indexing.html#returning-a-view-versus-a-copy\n",
      "\n",
      "A value is trying to be set on a copy of a slice from a DataFrame\n",
      "\n",
      "See the caveats in the documentation: https://pandas.pydata.org/pandas-docs/stable/user_guide/indexing.html#returning-a-view-versus-a-copy\n",
      "\n",
      "A value is trying to be set on a copy of a slice from a DataFrame.\n",
      "Try using .loc[row_indexer,col_indexer] = value instead\n",
      "\n",
      "See the caveats in the documentation: https://pandas.pydata.org/pandas-docs/stable/user_guide/indexing.html#returning-a-view-versus-a-copy\n",
      "\n",
      "A value is trying to be set on a copy of a slice from a DataFrame.\n",
      "Try using .loc[row_indexer,col_indexer] = value instead\n",
      "\n",
      "See the caveats in the documentation: https://pandas.pydata.org/pandas-docs/stable/user_guide/indexing.html#returning-a-view-versus-a-copy\n",
      "\n",
      "A value is trying to be set on a copy of a slice from a DataFrame\n",
      "\n",
      "See the caveats in the documentation: https://pandas.pydata.org/pandas-docs/stable/user_guide/indexing.html#returning-a-view-versus-a-copy\n",
      "\n",
      "A value is trying to be set on a copy of a slice from a DataFrame.\n",
      "Try using .loc[row_indexer,col_indexer] = value instead\n",
      "\n",
      "See the caveats in the documentation: https://pandas.pydata.org/pandas-docs/stable/user_guide/indexing.html#returning-a-view-versus-a-copy\n",
      "\n",
      "A value is trying to be set on a copy of a slice from a DataFrame\n",
      "\n",
      "See the caveats in the documentation: https://pandas.pydata.org/pandas-docs/stable/user_guide/indexing.html#returning-a-view-versus-a-copy\n",
      "\n",
      "A value is trying to be set on a copy of a slice from a DataFrame\n",
      "\n",
      "See the caveats in the documentation: https://pandas.pydata.org/pandas-docs/stable/user_guide/indexing.html#returning-a-view-versus-a-copy\n"
     ]
    }
   ],
   "source": [
    "X_valid = feature_engineering_features(df_valid)"
   ]
  },
  {
   "cell_type": "markdown",
   "metadata": {
    "id": "4apABSEsQImP"
   },
   "source": [
    "# Modelling\n",
    "-------"
   ]
  },
  {
   "cell_type": "markdown",
   "metadata": {
    "id": "9m89SfjTQ5xG"
   },
   "source": [
    "### Logistic Regression"
   ]
  },
  {
   "cell_type": "markdown",
   "metadata": {
    "id": "GAFg2gel0DJ4"
   },
   "source": [
    "Setting Parameters for Logistic Regression"
   ]
  },
  {
   "cell_type": "code",
   "execution_count": 23,
   "metadata": {
    "id": "J7hHue5k0F7f"
   },
   "outputs": [],
   "source": [
    "param_logreg = {'C': np.logspace(-3, 3, 7), \n",
    "                     'penalty': ['l1', 'l2'],\n",
    "                     'solver': ['liblinear','sag','saga'],\n",
    "                     'max_iter': [100],\n",
    "                     'multi_class': ['ovr'], #Binomial problem\n",
    "                     'class_weight': [None],\n",
    "                     'dual' : [False],\n",
    "                     'fit_intercept': [True],\n",
    "                     'intercept_scaling': [1],\n",
    "                     'tol': [0.0001],\n",
    "                     'verbose': [0]\n",
    "                     }"
   ]
  },
  {
   "cell_type": "markdown",
   "metadata": {
    "id": "6tOAFLRcItwH"
   },
   "source": [
    "Fitting Model logistic Regression"
   ]
  },
  {
   "cell_type": "code",
   "execution_count": 24,
   "metadata": {
    "colab": {
     "base_uri": "https://localhost:8080/"
    },
    "id": "auJO3Cj6OcKD",
    "outputId": "59384766-5dee-46b9-9e1e-0fb860cec86e"
   },
   "outputs": [
    {
     "name": "stderr",
     "output_type": "stream",
     "text": [
      "Estimator fit failed. The score on this train-test partition for these parameters will be set to nan. Details: \n",
      "Traceback (most recent call last):\n",
      "  File \"E:\\anaconda3\\lib\\site-packages\\sklearn\\model_selection\\_validation.py\", line 531, in _fit_and_score\n",
      "    estimator.fit(X_train, y_train, **fit_params)\n",
      "  File \"E:\\anaconda3\\lib\\site-packages\\sklearn\\linear_model\\_logistic.py\", line 1304, in fit\n",
      "    solver = _check_solver(self.solver, self.penalty, self.dual)\n",
      "  File \"E:\\anaconda3\\lib\\site-packages\\sklearn\\linear_model\\_logistic.py\", line 442, in _check_solver\n",
      "    raise ValueError(\"Solver %s supports only 'l2' or 'none' penalties, \"\n",
      "ValueError: Solver sag supports only 'l2' or 'none' penalties, got l1 penalty.\n",
      "\n",
      "Estimator fit failed. The score on this train-test partition for these parameters will be set to nan. Details: \n",
      "Traceback (most recent call last):\n",
      "  File \"E:\\anaconda3\\lib\\site-packages\\sklearn\\model_selection\\_validation.py\", line 531, in _fit_and_score\n",
      "    estimator.fit(X_train, y_train, **fit_params)\n",
      "  File \"E:\\anaconda3\\lib\\site-packages\\sklearn\\linear_model\\_logistic.py\", line 1304, in fit\n",
      "    solver = _check_solver(self.solver, self.penalty, self.dual)\n",
      "  File \"E:\\anaconda3\\lib\\site-packages\\sklearn\\linear_model\\_logistic.py\", line 442, in _check_solver\n",
      "    raise ValueError(\"Solver %s supports only 'l2' or 'none' penalties, \"\n",
      "ValueError: Solver sag supports only 'l2' or 'none' penalties, got l1 penalty.\n",
      "\n"
     ]
    },
    {
     "name": "stdout",
     "output_type": "stream",
     "text": [
      "Wall time: 3min 16s\n"
     ]
    },
    {
     "data": {
      "text/plain": [
       "RandomizedSearchCV(cv=RepeatedStratifiedKFold(n_repeats=2, n_splits=5, random_state=1),\n",
       "                   estimator=LogisticRegression(),\n",
       "                   param_distributions={'C': array([1.e-03, 1.e-02, 1.e-01, 1.e+00, 1.e+01, 1.e+02, 1.e+03]),\n",
       "                                        'class_weight': [None], 'dual': [False],\n",
       "                                        'fit_intercept': [True],\n",
       "                                        'intercept_scaling': [1],\n",
       "                                        'max_iter': [100],\n",
       "                                        'multi_class': ['ovr'],\n",
       "                                        'penalty': ['l1', 'l2'],\n",
       "                                        'solver': ['liblinear', 'sag', 'saga'],\n",
       "                                        'tol': [0.0001], 'verbose': [0]},\n",
       "                   scoring='roc_auc')"
      ]
     },
     "execution_count": 24,
     "metadata": {},
     "output_type": "execute_result"
    }
   ],
   "source": [
    "%%time\n",
    "logreg = LogisticRegression()\n",
    "\n",
    "cv = RepeatedStratifiedKFold(n_splits=5, n_repeats=2, random_state=1)\n",
    "\n",
    "logreg_cv = RandomizedSearchCV(logreg,\n",
    "                               param_distributions = param_logreg,\n",
    "                               scoring='roc_auc',\n",
    "                               cv=cv\n",
    "                               )\n",
    "logreg_cv.fit(X_train,y_train)"
   ]
  },
  {
   "cell_type": "markdown",
   "metadata": {
    "id": "bP3Ftn5sIwSf"
   },
   "source": [
    "Show best parameter, score and estimator"
   ]
  },
  {
   "cell_type": "code",
   "execution_count": 25,
   "metadata": {
    "colab": {
     "base_uri": "https://localhost:8080/"
    },
    "id": "6k_UfrhjId12",
    "outputId": "2fa3c9fb-0f49-4678-f481-95c664dd3fd6"
   },
   "outputs": [
    {
     "name": "stdout",
     "output_type": "stream",
     "text": [
      "Tuned hyperparameters : {'verbose': 0, 'tol': 0.0001, 'solver': 'liblinear', 'penalty': 'l1', 'multi_class': 'ovr', 'max_iter': 100, 'intercept_scaling': 1, 'fit_intercept': True, 'dual': False, 'class_weight': None, 'C': 0.01}\n",
      "Best ROC_AUC score: 0.8017872621924272\n",
      "Best Estimator: LogisticRegression(C=0.01, multi_class='ovr', penalty='l1', solver='liblinear')\n"
     ]
    }
   ],
   "source": [
    "print(\"Tuned hyperparameters : {}\".format(logreg_cv.best_params_))\n",
    "print(\"Best ROC_AUC score: {}\".format(logreg_cv.best_score_))\n",
    "print(\"Best Estimator: {}\".format(logreg_cv.best_estimator_))"
   ]
  },
  {
   "cell_type": "code",
   "execution_count": 26,
   "metadata": {
    "colab": {
     "base_uri": "https://localhost:8080/",
     "height": 490
    },
    "id": "7G-6o8NzJ9vb",
    "outputId": "ddba152c-4364-4cd8-8ac9-e34b1c210227"
   },
   "outputs": [
    {
     "name": "stdout",
     "output_type": "stream",
     "text": [
      "              precision    recall  f1-score   support\n",
      "\n",
      "     Success       0.76      0.95      0.85     45215\n",
      " Not Success       0.80      0.41      0.54     22207\n",
      "\n",
      "    accuracy                           0.77     67422\n",
      "   macro avg       0.78      0.68      0.69     67422\n",
      "weighted avg       0.77      0.77      0.74     67422\n",
      "\n"
     ]
    },
    {
     "data": {
      "text/plain": [
       "<sklearn.metrics._plot.confusion_matrix.ConfusionMatrixDisplay at 0x2933afa8e20>"
      ]
     },
     "execution_count": 26,
     "metadata": {},
     "output_type": "execute_result"
    },
    {
     "data": {
      "image/png": "[encoded data removed]",
      "text/plain": [
       "<Figure size 432x288 with 2 Axes>"
      ]
     },
     "metadata": {
      "needs_background": "light"
     },
     "output_type": "display_data"
    }
   ],
   "source": [
    "report = classification_report(y_test, logreg_cv.predict(X_test), target_names=['Success', 'Not Success'])\n",
    "\n",
    "print(report)\n",
    "\n",
    "plot_confusion_matrix(logreg_cv, X_test, y_test)"
   ]
  },
  {
   "cell_type": "code",
   "execution_count": 27,
   "metadata": {
    "colab": {
     "base_uri": "https://localhost:8080/",
     "height": 351
    },
    "id": "4dKz8XoqHHuH",
    "outputId": "27b1e509-2df1-412f-e1e6-6caf530f1b53"
   },
   "outputs": [
    {
     "data": {
      "image/png": "[encoded data removed]",
      "text/plain": [
       "<Figure size 432x288 with 1 Axes>"
      ]
     },
     "metadata": {
      "needs_background": "light"
     },
     "output_type": "display_data"
    },
    {
     "name": "stdout",
     "output_type": "stream",
     "text": [
      "Wall time: 120 ms\n"
     ]
    }
   ],
   "source": [
    "%%time\n",
    "\n",
    "plot_roc_curve(logreg_cv,X_test,y_test)\n",
    "plt.show()"
   ]
  },
  {
   "cell_type": "code",
   "execution_count": 28,
   "metadata": {
    "colab": {
     "base_uri": "https://localhost:8080/"
    },
    "id": "ATdbJlL3QU51",
    "outputId": "18e752bd-2332-4a43-d0db-21924e102fc6"
   },
   "outputs": [
    {
     "name": "stdout",
     "output_type": "stream",
     "text": [
      "ROC AUC score untuk Logistic Regression:  0.8009033293301876\n"
     ]
    }
   ],
   "source": [
    "roc_auc_logreg = roc_auc_score(y_test, logreg_cv.predict_proba(X_test)[:, 1] )\n",
    "print( \"ROC AUC score untuk Logistic Regression: \", roc_auc_logreg)"
   ]
  },
  {
   "cell_type": "markdown",
   "metadata": {
    "id": "gPbfYPB_PAar"
   },
   "source": [
    "### K Nearest Neighbors"
   ]
  },
  {
   "cell_type": "markdown",
   "metadata": {
    "id": "yoYm3Ssm5ZQO"
   },
   "source": [
    "Setting parameters for kNN"
   ]
  },
  {
   "cell_type": "code",
   "execution_count": 29,
   "metadata": {
    "id": "7ZURJXyi5bZe"
   },
   "outputs": [],
   "source": [
    "param_knn = {'n_neighbors': [2], \n",
    "              'weights' : ['uniform','distance'], \n",
    "              'algorithm': ['auto'], \n",
    "              'leaf_size': [30], \n",
    "              'p':[2], \n",
    "              'metric': ['minkowski'], \n",
    "              'metric_params':[None], \n",
    "              'n_jobs': [None]\n",
    "               }"
   ]
  },
  {
   "cell_type": "code",
   "execution_count": 30,
   "metadata": {
    "id": "9y9_Jxx1MHsn"
   },
   "outputs": [
    {
     "name": "stdout",
     "output_type": "stream",
     "text": [
      "Wall time: 25min 39s\n"
     ]
    },
    {
     "data": {
      "text/plain": [
       "GridSearchCV(cv=RepeatedStratifiedKFold(n_repeats=2, n_splits=5, random_state=1),\n",
       "             estimator=KNeighborsClassifier(),\n",
       "             param_grid={'algorithm': ['auto'], 'leaf_size': [30],\n",
       "                         'metric': ['minkowski'], 'metric_params': [None],\n",
       "                         'n_jobs': [None], 'n_neighbors': [2], 'p': [2],\n",
       "                         'weights': ['uniform', 'distance']},\n",
       "             scoring='roc_auc')"
      ]
     },
     "execution_count": 30,
     "metadata": {},
     "output_type": "execute_result"
    }
   ],
   "source": [
    "%%time\n",
    "clf_knn = KNeighborsClassifier()\n",
    "\n",
    "cv = RepeatedStratifiedKFold(n_splits=5, n_repeats=2, random_state=1)\n",
    "\n",
    "knn_cv = GridSearchCV(clf_knn,\n",
    "#knn_cv = RandomizedSearchCV(clf_knn,\n",
    "                     param_grid = param_knn,                      \n",
    "                     #param_distributions = param_knn,\n",
    "                      scoring='roc_auc',\n",
    "                      cv=cv \n",
    "                      )\n",
    "knn_cv.fit(X_train,y_train)"
   ]
  },
  {
   "cell_type": "code",
   "execution_count": 31,
   "metadata": {
    "id": "0yWH5CAsMRLt"
   },
   "outputs": [
    {
     "name": "stdout",
     "output_type": "stream",
     "text": [
      "Tuned hyperparameters : {'algorithm': 'auto', 'leaf_size': 30, 'metric': 'minkowski', 'metric_params': None, 'n_jobs': None, 'n_neighbors': 2, 'p': 2, 'weights': 'uniform'}\n",
      "Best ROC_AUC score: 0.6931360383826141\n",
      "Best Estimator: KNeighborsClassifier(n_neighbors=2)\n"
     ]
    }
   ],
   "source": [
    "print(\"Tuned hyperparameters : {}\".format(knn_cv.best_params_))\n",
    "print(\"Best ROC_AUC score: {}\".format(knn_cv.best_score_))\n",
    "print(\"Best Estimator: {}\".format(knn_cv.best_estimator_))"
   ]
  },
  {
   "cell_type": "code",
   "execution_count": 32,
   "metadata": {
    "id": "gxU5dTyXMXyl"
   },
   "outputs": [
    {
     "name": "stdout",
     "output_type": "stream",
     "text": [
      "              precision    recall  f1-score   support\n",
      "\n",
      "     Success       0.73      0.91      0.81     45215\n",
      " Not Success       0.65      0.32      0.43     22207\n",
      "\n",
      "    accuracy                           0.72     67422\n",
      "   macro avg       0.69      0.62      0.62     67422\n",
      "weighted avg       0.71      0.72      0.69     67422\n",
      "\n"
     ]
    },
    {
     "data": {
      "text/plain": [
       "<sklearn.metrics._plot.confusion_matrix.ConfusionMatrixDisplay at 0x2933b9bafd0>"
      ]
     },
     "execution_count": 32,
     "metadata": {},
     "output_type": "execute_result"
    },
    {
     "data": {
      "image/png": "[encoded data removed]",
      "text/plain": [
       "<Figure size 432x288 with 2 Axes>"
      ]
     },
     "metadata": {
      "needs_background": "light"
     },
     "output_type": "display_data"
    }
   ],
   "source": [
    "report = classification_report(y_test, knn_cv.predict(X_test), target_names=['Success', 'Not Success'])\n",
    "\n",
    "print(report)\n",
    "\n",
    "plot_confusion_matrix(knn_cv, X_test, y_test)"
   ]
  },
  {
   "cell_type": "code",
   "execution_count": 33,
   "metadata": {
    "id": "IHhoCyjeMbGd"
   },
   "outputs": [
    {
     "data": {
      "image/png": "[encoded data removed]",
      "text/plain": [
       "<Figure size 432x288 with 1 Axes>"
      ]
     },
     "metadata": {
      "needs_background": "light"
     },
     "output_type": "display_data"
    },
    {
     "name": "stdout",
     "output_type": "stream",
     "text": [
      "Wall time: 54.5 s\n"
     ]
    }
   ],
   "source": [
    "%%time\n",
    "\n",
    "plot_roc_curve(knn_cv,X_test,y_test)\n",
    "plt.show()"
   ]
  },
  {
   "cell_type": "code",
   "execution_count": 34,
   "metadata": {
    "id": "G_PdX__dZAVJ"
   },
   "outputs": [
    {
     "name": "stdout",
     "output_type": "stream",
     "text": [
      "ROC AUC score untuk K Nearest Neighbor:  0.691246617003531\n"
     ]
    }
   ],
   "source": [
    "roc_auc_knn = roc_auc_score(y_test, knn_cv.predict_proba(X_test)[:, 1])\n",
    "print( \"ROC AUC score untuk K Nearest Neighbor: \", roc_auc_knn)"
   ]
  },
  {
   "cell_type": "markdown",
   "metadata": {
    "id": "ck9wnmL8PMWc"
   },
   "source": [
    "### Decision Tree"
   ]
  },
  {
   "cell_type": "markdown",
   "metadata": {
    "id": "Qg-461uLagA3"
   },
   "source": [
    "Setting parameters for Decision Tree"
   ]
  },
  {
   "cell_type": "code",
   "execution_count": 35,
   "metadata": {
    "id": "KA07KtzqMlAG"
   },
   "outputs": [],
   "source": [
    "param_decisiontree = {'criterion':['gini','entropy','log_loss'], \n",
    "                   'splitter':['best'], \n",
    "                   'max_depth':[None], \n",
    "                   'min_samples_split':[2], \n",
    "                   'min_samples_leaf':[1], \n",
    "                   'min_weight_fraction_leaf':[0.0], \n",
    "                   'max_features':[None], \n",
    "                   'random_state':[None], \n",
    "                   'max_leaf_nodes':[None], \n",
    "                   'min_impurity_decrease':[0.0], \n",
    "                   'class_weight':[None], \n",
    "                   'ccp_alpha':[0.0] \n",
    "                   }"
   ]
  },
  {
   "cell_type": "code",
   "execution_count": 36,
   "metadata": {
    "id": "IQyWuKNjMmfV"
   },
   "outputs": [
    {
     "name": "stderr",
     "output_type": "stream",
     "text": [
      "The total space of parameters 3 is smaller than n_iter=10. Running 3 iterations. For exhaustive searches, use GridSearchCV.\n",
      "Estimator fit failed. The score on this train-test partition for these parameters will be set to nan. Details: \n",
      "Traceback (most recent call last):\n",
      "  File \"E:\\anaconda3\\lib\\site-packages\\sklearn\\model_selection\\_validation.py\", line 531, in _fit_and_score\n",
      "    estimator.fit(X_train, y_train, **fit_params)\n",
      "  File \"E:\\anaconda3\\lib\\site-packages\\sklearn\\tree\\_classes.py\", line 890, in fit\n",
      "    super().fit(\n",
      "  File \"E:\\anaconda3\\lib\\site-packages\\sklearn\\tree\\_classes.py\", line 333, in fit\n",
      "    criterion = CRITERIA_CLF[self.criterion](self.n_outputs_,\n",
      "KeyError: 'log_loss'\n",
      "\n",
      "Estimator fit failed. The score on this train-test partition for these parameters will be set to nan. Details: \n",
      "Traceback (most recent call last):\n",
      "  File \"E:\\anaconda3\\lib\\site-packages\\sklearn\\model_selection\\_validation.py\", line 531, in _fit_and_score\n",
      "    estimator.fit(X_train, y_train, **fit_params)\n",
      "  File \"E:\\anaconda3\\lib\\site-packages\\sklearn\\tree\\_classes.py\", line 890, in fit\n",
      "    super().fit(\n",
      "  File \"E:\\anaconda3\\lib\\site-packages\\sklearn\\tree\\_classes.py\", line 333, in fit\n",
      "    criterion = CRITERIA_CLF[self.criterion](self.n_outputs_,\n",
      "KeyError: 'log_loss'\n",
      "\n",
      "Estimator fit failed. The score on this train-test partition for these parameters will be set to nan. Details: \n",
      "Traceback (most recent call last):\n",
      "  File \"E:\\anaconda3\\lib\\site-packages\\sklearn\\model_selection\\_validation.py\", line 531, in _fit_and_score\n",
      "    estimator.fit(X_train, y_train, **fit_params)\n",
      "  File \"E:\\anaconda3\\lib\\site-packages\\sklearn\\tree\\_classes.py\", line 890, in fit\n",
      "    super().fit(\n",
      "  File \"E:\\anaconda3\\lib\\site-packages\\sklearn\\tree\\_classes.py\", line 333, in fit\n",
      "    criterion = CRITERIA_CLF[self.criterion](self.n_outputs_,\n",
      "KeyError: 'log_loss'\n",
      "\n",
      "Estimator fit failed. The score on this train-test partition for these parameters will be set to nan. Details: \n",
      "Traceback (most recent call last):\n",
      "  File \"E:\\anaconda3\\lib\\site-packages\\sklearn\\model_selection\\_validation.py\", line 531, in _fit_and_score\n",
      "    estimator.fit(X_train, y_train, **fit_params)\n",
      "  File \"E:\\anaconda3\\lib\\site-packages\\sklearn\\tree\\_classes.py\", line 890, in fit\n",
      "    super().fit(\n",
      "  File \"E:\\anaconda3\\lib\\site-packages\\sklearn\\tree\\_classes.py\", line 333, in fit\n",
      "    criterion = CRITERIA_CLF[self.criterion](self.n_outputs_,\n",
      "KeyError: 'log_loss'\n",
      "\n",
      "Estimator fit failed. The score on this train-test partition for these parameters will be set to nan. Details: \n",
      "Traceback (most recent call last):\n",
      "  File \"E:\\anaconda3\\lib\\site-packages\\sklearn\\model_selection\\_validation.py\", line 531, in _fit_and_score\n",
      "    estimator.fit(X_train, y_train, **fit_params)\n",
      "  File \"E:\\anaconda3\\lib\\site-packages\\sklearn\\tree\\_classes.py\", line 890, in fit\n",
      "    super().fit(\n",
      "  File \"E:\\anaconda3\\lib\\site-packages\\sklearn\\tree\\_classes.py\", line 333, in fit\n",
      "    criterion = CRITERIA_CLF[self.criterion](self.n_outputs_,\n",
      "KeyError: 'log_loss'\n",
      "\n",
      "Estimator fit failed. The score on this train-test partition for these parameters will be set to nan. Details: \n",
      "Traceback (most recent call last):\n",
      "  File \"E:\\anaconda3\\lib\\site-packages\\sklearn\\model_selection\\_validation.py\", line 531, in _fit_and_score\n",
      "    estimator.fit(X_train, y_train, **fit_params)\n",
      "  File \"E:\\anaconda3\\lib\\site-packages\\sklearn\\tree\\_classes.py\", line 890, in fit\n",
      "    super().fit(\n",
      "  File \"E:\\anaconda3\\lib\\site-packages\\sklearn\\tree\\_classes.py\", line 333, in fit\n",
      "    criterion = CRITERIA_CLF[self.criterion](self.n_outputs_,\n",
      "KeyError: 'log_loss'\n",
      "\n",
      "Estimator fit failed. The score on this train-test partition for these parameters will be set to nan. Details: \n",
      "Traceback (most recent call last):\n",
      "  File \"E:\\anaconda3\\lib\\site-packages\\sklearn\\model_selection\\_validation.py\", line 531, in _fit_and_score\n",
      "    estimator.fit(X_train, y_train, **fit_params)\n",
      "  File \"E:\\anaconda3\\lib\\site-packages\\sklearn\\tree\\_classes.py\", line 890, in fit\n",
      "    super().fit(\n",
      "  File \"E:\\anaconda3\\lib\\site-packages\\sklearn\\tree\\_classes.py\", line 333, in fit\n",
      "    criterion = CRITERIA_CLF[self.criterion](self.n_outputs_,\n",
      "KeyError: 'log_loss'\n",
      "\n",
      "Estimator fit failed. The score on this train-test partition for these parameters will be set to nan. Details: \n",
      "Traceback (most recent call last):\n",
      "  File \"E:\\anaconda3\\lib\\site-packages\\sklearn\\model_selection\\_validation.py\", line 531, in _fit_and_score\n",
      "    estimator.fit(X_train, y_train, **fit_params)\n",
      "  File \"E:\\anaconda3\\lib\\site-packages\\sklearn\\tree\\_classes.py\", line 890, in fit\n",
      "    super().fit(\n",
      "  File \"E:\\anaconda3\\lib\\site-packages\\sklearn\\tree\\_classes.py\", line 333, in fit\n",
      "    criterion = CRITERIA_CLF[self.criterion](self.n_outputs_,\n",
      "KeyError: 'log_loss'\n",
      "\n",
      "Estimator fit failed. The score on this train-test partition for these parameters will be set to nan. Details: \n",
      "Traceback (most recent call last):\n",
      "  File \"E:\\anaconda3\\lib\\site-packages\\sklearn\\model_selection\\_validation.py\", line 531, in _fit_and_score\n",
      "    estimator.fit(X_train, y_train, **fit_params)\n",
      "  File \"E:\\anaconda3\\lib\\site-packages\\sklearn\\tree\\_classes.py\", line 890, in fit\n",
      "    super().fit(\n",
      "  File \"E:\\anaconda3\\lib\\site-packages\\sklearn\\tree\\_classes.py\", line 333, in fit\n",
      "    criterion = CRITERIA_CLF[self.criterion](self.n_outputs_,\n",
      "KeyError: 'log_loss'\n",
      "\n",
      "Estimator fit failed. The score on this train-test partition for these parameters will be set to nan. Details: \n",
      "Traceback (most recent call last):\n",
      "  File \"E:\\anaconda3\\lib\\site-packages\\sklearn\\model_selection\\_validation.py\", line 531, in _fit_and_score\n",
      "    estimator.fit(X_train, y_train, **fit_params)\n",
      "  File \"E:\\anaconda3\\lib\\site-packages\\sklearn\\tree\\_classes.py\", line 890, in fit\n",
      "    super().fit(\n",
      "  File \"E:\\anaconda3\\lib\\site-packages\\sklearn\\tree\\_classes.py\", line 333, in fit\n",
      "    criterion = CRITERIA_CLF[self.criterion](self.n_outputs_,\n",
      "KeyError: 'log_loss'\n",
      "\n"
     ]
    },
    {
     "name": "stdout",
     "output_type": "stream",
     "text": [
      "Wall time: 23 s\n"
     ]
    },
    {
     "data": {
      "text/plain": [
       "RandomizedSearchCV(cv=RepeatedStratifiedKFold(n_repeats=2, n_splits=5, random_state=1),\n",
       "                   estimator=DecisionTreeClassifier(),\n",
       "                   param_distributions={'ccp_alpha': [0.0],\n",
       "                                        'class_weight': [None],\n",
       "                                        'criterion': ['gini', 'entropy',\n",
       "                                                      'log_loss'],\n",
       "                                        'max_depth': [None],\n",
       "                                        'max_features': [None],\n",
       "                                        'max_leaf_nodes': [None],\n",
       "                                        'min_impurity_decrease': [0.0],\n",
       "                                        'min_samples_leaf': [1],\n",
       "                                        'min_samples_split': [2],\n",
       "                                        'min_weight_fraction_leaf': [0.0],\n",
       "                                        'random_state': [None],\n",
       "                                        'splitter': ['best']},\n",
       "                   scoring='roc_auc')"
      ]
     },
     "execution_count": 36,
     "metadata": {},
     "output_type": "execute_result"
    }
   ],
   "source": [
    "%%time\n",
    "clf_decision = DecisionTreeClassifier()\n",
    "\n",
    "cv = RepeatedStratifiedKFold(n_splits=5, n_repeats=2, random_state=1)\n",
    "\n",
    "decision_cv = RandomizedSearchCV(clf_decision,\n",
    "                               param_distributions = param_decisiontree,\n",
    "                               scoring='roc_auc',\n",
    "                               cv=cv #cross validations\n",
    "                               )\n",
    "decision_cv.fit(X_train,y_train)"
   ]
  },
  {
   "cell_type": "code",
   "execution_count": 37,
   "metadata": {
    "id": "xs2vPa_-Mn2u"
   },
   "outputs": [
    {
     "name": "stdout",
     "output_type": "stream",
     "text": [
      "Tuned hyperparameters : {'splitter': 'best', 'random_state': None, 'min_weight_fraction_leaf': 0.0, 'min_samples_split': 2, 'min_samples_leaf': 1, 'min_impurity_decrease': 0.0, 'max_leaf_nodes': None, 'max_features': None, 'max_depth': None, 'criterion': 'entropy', 'class_weight': None, 'ccp_alpha': 0.0}\n",
      "Best ROC_AUC score: 0.7506691422202676\n",
      "Best Estimator: DecisionTreeClassifier(criterion='entropy')\n"
     ]
    }
   ],
   "source": [
    "print(\"Tuned hyperparameters : {}\".format(decision_cv.best_params_))\n",
    "print(\"Best ROC_AUC score: {}\".format(decision_cv.best_score_))\n",
    "print(\"Best Estimator: {}\".format(decision_cv.best_estimator_))"
   ]
  },
  {
   "cell_type": "code",
   "execution_count": 38,
   "metadata": {
    "id": "vSUTIIaZMxLN"
   },
   "outputs": [
    {
     "name": "stdout",
     "output_type": "stream",
     "text": [
      "              precision    recall  f1-score   support\n",
      "\n",
      "     Success       0.76      0.91      0.83     45215\n",
      " Not Success       0.69      0.42      0.52     22207\n",
      "\n",
      "    accuracy                           0.75     67422\n",
      "   macro avg       0.73      0.66      0.68     67422\n",
      "weighted avg       0.74      0.75      0.73     67422\n",
      "\n"
     ]
    },
    {
     "data": {
      "text/plain": [
       "<sklearn.metrics._plot.confusion_matrix.ConfusionMatrixDisplay at 0x2933ba50d00>"
      ]
     },
     "execution_count": 38,
     "metadata": {},
     "output_type": "execute_result"
    },
    {
     "data": {
      "image/png": "[encoded data removed]",
      "text/plain": [
       "<Figure size 432x288 with 2 Axes>"
      ]
     },
     "metadata": {
      "needs_background": "light"
     },
     "output_type": "display_data"
    }
   ],
   "source": [
    "report = classification_report(y_test, decision_cv.predict(X_test), target_names=['Success', 'Not Success'])\n",
    "\n",
    "print(report)\n",
    "\n",
    "plot_confusion_matrix(decision_cv, X_test, y_test)"
   ]
  },
  {
   "cell_type": "code",
   "execution_count": 39,
   "metadata": {
    "id": "Z_3fDdtzMzwd"
   },
   "outputs": [
    {
     "data": {
      "image/png": "[encoded data removed]",
      "text/plain": [
       "<Figure size 432x288 with 1 Axes>"
      ]
     },
     "metadata": {
      "needs_background": "light"
     },
     "output_type": "display_data"
    },
    {
     "name": "stdout",
     "output_type": "stream",
     "text": [
      "Wall time: 140 ms\n"
     ]
    }
   ],
   "source": [
    "%%time\n",
    "\n",
    "plot_roc_curve(decision_cv,X_test,y_test)\n",
    "plt.show()"
   ]
  },
  {
   "cell_type": "code",
   "execution_count": 40,
   "metadata": {
    "id": "kXp4AOL-QdLF"
   },
   "outputs": [
    {
     "name": "stdout",
     "output_type": "stream",
     "text": [
      "ROC AUC score untuk Decision Tree:  0.7542224231294998\n"
     ]
    }
   ],
   "source": [
    "roc_auc_decision = roc_auc_score(y_test, decision_cv.predict_proba(X_test)[:, 1])\n",
    "print( \"ROC AUC score untuk Decision Tree: \", roc_auc_decision)"
   ]
  },
  {
   "cell_type": "code",
   "execution_count": 41,
   "metadata": {
    "id": "fqeCuUV0P5vU"
   },
   "outputs": [
    {
     "data": {
      "text/plain": [
       "{'splitter': 'best',\n",
       " 'random_state': None,\n",
       " 'min_weight_fraction_leaf': 0.0,\n",
       " 'min_samples_split': 2,\n",
       " 'min_samples_leaf': 1,\n",
       " 'min_impurity_decrease': 0.0,\n",
       " 'max_leaf_nodes': None,\n",
       " 'max_features': None,\n",
       " 'max_depth': None,\n",
       " 'criterion': 'entropy',\n",
       " 'class_weight': None,\n",
       " 'ccp_alpha': 0.0}"
      ]
     },
     "execution_count": 41,
     "metadata": {},
     "output_type": "execute_result"
    }
   ],
   "source": [
    "decision_cv.best_params_"
   ]
  },
  {
   "cell_type": "code",
   "execution_count": 42,
   "metadata": {
    "id": "8va-7iv7P7tr"
   },
   "outputs": [],
   "source": [
    "clf_decisiontree = DecisionTreeClassifier(splitter= 'best',\n",
    " random_state= None,\n",
    " min_weight_fraction_leaf= 0.0,\n",
    " min_samples_split= 2,\n",
    " min_samples_leaf= 1,\n",
    " min_impurity_decrease= 0.0,\n",
    " max_leaf_nodes= None,\n",
    " max_features= None,\n",
    " max_depth= None,\n",
    " criterion= 'gini',\n",
    " class_weight= None,\n",
    " ccp_alpha= 0.0)"
   ]
  },
  {
   "cell_type": "code",
   "execution_count": 43,
   "metadata": {
    "id": "kFBHHErSQQZb"
   },
   "outputs": [
    {
     "data": {
      "text/plain": [
       "DecisionTreeClassifier()"
      ]
     },
     "execution_count": 43,
     "metadata": {},
     "output_type": "execute_result"
    }
   ],
   "source": [
    "clf_decisiontree.fit(X_train,y_train)"
   ]
  },
  {
   "cell_type": "markdown",
   "metadata": {
    "id": "oc7PQAfcPbXj"
   },
   "source": [
    "### Random forest Tree"
   ]
  },
  {
   "cell_type": "markdown",
   "metadata": {
    "id": "DRpghHMNajjn"
   },
   "source": [
    "Setting parameters for Random Forest"
   ]
  },
  {
   "cell_type": "code",
   "execution_count": 44,
   "metadata": {
    "id": "LE-oRnKHNZGu"
   },
   "outputs": [],
   "source": [
    "param_randomforest= {'n_estimators':[100],\n",
    "                   'criterion':['gini'], \n",
    "                   'max_depth':[None], \n",
    "                   'min_samples_split':[2], \n",
    "                   'min_samples_leaf':[1], \n",
    "                   'min_weight_fraction_leaf':[0.0], \n",
    "                   'max_features':['sqrt'], \n",
    "                   'max_leaf_nodes':[None], \n",
    "                   'min_impurity_decrease':[0.0], \n",
    "                   'bootstrap':[True], \n",
    "                   'oob_score':[False], \n",
    "                   'n_jobs':[None], \n",
    "                   'random_state':[None], \n",
    "                   'verbose':[0], \n",
    "                   }"
   ]
  },
  {
   "cell_type": "code",
   "execution_count": 45,
   "metadata": {
    "id": "8fiEDyg5Na01"
   },
   "outputs": [
    {
     "name": "stderr",
     "output_type": "stream",
     "text": [
      "The total space of parameters 1 is smaller than n_iter=10. Running 1 iterations. For exhaustive searches, use GridSearchCV.\n"
     ]
    },
    {
     "name": "stdout",
     "output_type": "stream",
     "text": [
      "Wall time: 3min 48s\n"
     ]
    },
    {
     "data": {
      "text/plain": [
       "RandomizedSearchCV(cv=RepeatedStratifiedKFold(n_repeats=2, n_splits=5, random_state=1),\n",
       "                   estimator=RandomForestClassifier(),\n",
       "                   param_distributions={'bootstrap': [True],\n",
       "                                        'criterion': ['gini'],\n",
       "                                        'max_depth': [None],\n",
       "                                        'max_features': ['sqrt'],\n",
       "                                        'max_leaf_nodes': [None],\n",
       "                                        'min_impurity_decrease': [0.0],\n",
       "                                        'min_samples_leaf': [1],\n",
       "                                        'min_samples_split': [2],\n",
       "                                        'min_weight_fraction_leaf': [0.0],\n",
       "                                        'n_estimators': [100], 'n_jobs': [None],\n",
       "                                        'oob_score': [False],\n",
       "                                        'random_state': [None],\n",
       "                                        'verbose': [0]},\n",
       "                   scoring='roc_auc')"
      ]
     },
     "execution_count": 45,
     "metadata": {},
     "output_type": "execute_result"
    }
   ],
   "source": [
    "%%time\n",
    "clf_randomforest= RandomForestClassifier()\n",
    "\n",
    "cv = RepeatedStratifiedKFold(n_splits=5, n_repeats=2, random_state=1)\n",
    "\n",
    "randomforest_cv = RandomizedSearchCV(clf_randomforest,\n",
    "                                    param_distributions = param_randomforest,\n",
    "                                    scoring='roc_auc',\n",
    "                                    cv=cv #cross validations\n",
    "                                    )\n",
    "randomforest_cv.fit(X_train,y_train)"
   ]
  },
  {
   "cell_type": "code",
   "execution_count": 46,
   "metadata": {
    "id": "NQtcphUTNctt"
   },
   "outputs": [
    {
     "name": "stdout",
     "output_type": "stream",
     "text": [
      "Tuned hyperparameters : {'verbose': 0, 'random_state': None, 'oob_score': False, 'n_jobs': None, 'n_estimators': 100, 'min_weight_fraction_leaf': 0.0, 'min_samples_split': 2, 'min_samples_leaf': 1, 'min_impurity_decrease': 0.0, 'max_leaf_nodes': None, 'max_features': 'sqrt', 'max_depth': None, 'criterion': 'gini', 'bootstrap': True}\n",
      "Best ROC_AUC score: 0.788314729917013\n",
      "Best Estimator: RandomForestClassifier(max_features='sqrt')\n"
     ]
    }
   ],
   "source": [
    "print(\"Tuned hyperparameters : {}\".format(randomforest_cv.best_params_))\n",
    "print(\"Best ROC_AUC score: {}\".format(randomforest_cv.best_score_))\n",
    "print(\"Best Estimator: {}\".format(randomforest_cv.best_estimator_))"
   ]
  },
  {
   "cell_type": "code",
   "execution_count": 47,
   "metadata": {
    "id": "CmsFra5ENd_1"
   },
   "outputs": [
    {
     "name": "stdout",
     "output_type": "stream",
     "text": [
      "              precision    recall  f1-score   support\n",
      "\n",
      "     Success       0.77      0.91      0.83     45215\n",
      " Not Success       0.70      0.45      0.55     22207\n",
      "\n",
      "    accuracy                           0.76     67422\n",
      "   macro avg       0.74      0.68      0.69     67422\n",
      "weighted avg       0.75      0.76      0.74     67422\n",
      "\n"
     ]
    },
    {
     "data": {
      "text/plain": [
       "<sklearn.metrics._plot.confusion_matrix.ConfusionMatrixDisplay at 0x2933e1470a0>"
      ]
     },
     "execution_count": 47,
     "metadata": {},
     "output_type": "execute_result"
    },
    {
     "data": {
      "image/png": "[encoded data removed]",
      "text/plain": [
       "<Figure size 432x288 with 2 Axes>"
      ]
     },
     "metadata": {
      "needs_background": "light"
     },
     "output_type": "display_data"
    }
   ],
   "source": [
    "report = classification_report(y_test, randomforest_cv.predict(X_test), target_names=['Success', 'Not Success'])\n",
    "\n",
    "print(report)\n",
    "\n",
    "plot_confusion_matrix(randomforest_cv, X_test, y_test)"
   ]
  },
  {
   "cell_type": "code",
   "execution_count": 48,
   "metadata": {
    "id": "f56ZP3TINg9F"
   },
   "outputs": [
    {
     "data": {
      "image/png": "[encoded data removed]",
      "text/plain": [
       "<Figure size 432x288 with 1 Axes>"
      ]
     },
     "metadata": {
      "needs_background": "light"
     },
     "output_type": "display_data"
    },
    {
     "name": "stdout",
     "output_type": "stream",
     "text": [
      "Wall time: 1.57 s\n"
     ]
    }
   ],
   "source": [
    "%%time\n",
    "\n",
    "plot_roc_curve(randomforest_cv,X_test,y_test)\n",
    "plt.show()"
   ]
  },
  {
   "cell_type": "code",
   "execution_count": 49,
   "metadata": {
    "id": "v4Ns6EggQeyZ"
   },
   "outputs": [
    {
     "name": "stdout",
     "output_type": "stream",
     "text": [
      "ROC AUC score untuk Random Forest:  0.789996556631672\n"
     ]
    }
   ],
   "source": [
    "roc_auc_randomforest = roc_auc_score(y_test, randomforest_cv.predict_proba(X_test)[:, 1])\n",
    "print( \"ROC AUC score untuk Random Forest: \", roc_auc_randomforest)"
   ]
  },
  {
   "cell_type": "markdown",
   "metadata": {
    "id": "hBbxB6faPdYN"
   },
   "source": [
    "### Support Vector Machine"
   ]
  },
  {
   "cell_type": "markdown",
   "metadata": {
    "id": "eHqpyiuHalsJ"
   },
   "source": [
    "Setting parameters for Support Vector Machine"
   ]
  },
  {
   "cell_type": "code",
   "execution_count": 50,
   "metadata": {
    "id": "NUY_kkPPN5aN"
   },
   "outputs": [],
   "source": [
    "param_svm = {'C':[1], \n",
    "             #'C':[1,10,100], \n",
    "            #'kernel':['sigmoid','poly','rbf','linear'], \n",
    "            'kernel':['rbf'], \n",
    "            #'degree':[3], \n",
    "            #'gamma':[0.1,0.01,'scale'], \n",
    "            'gamma':['scale'], \n",
    "            'tol': [0.001],\n",
    "            'probability': [True] \n",
    "            }\n"
   ]
  },
  {
   "cell_type": "code",
   "execution_count": 51,
   "metadata": {},
   "outputs": [],
   "source": [
    "df_sample_train = df_train.sample(n=50000)\n",
    "X_train_svc =  df_sample_train.drop(['success or not'], axis=1)\n",
    "y_train_svc = df_sample_train['success or not']"
   ]
  },
  {
   "cell_type": "code",
   "execution_count": 52,
   "metadata": {
    "id": "Bw0K_XqCN7Ut"
   },
   "outputs": [
    {
     "name": "stderr",
     "output_type": "stream",
     "text": [
      "The total space of parameters 1 is smaller than n_iter=10. Running 1 iterations. For exhaustive searches, use GridSearchCV.\n"
     ]
    },
    {
     "name": "stdout",
     "output_type": "stream",
     "text": [
      "Wall time: 28min 36s\n"
     ]
    },
    {
     "data": {
      "text/plain": [
       "RandomizedSearchCV(cv=RepeatedStratifiedKFold(n_repeats=2, n_splits=2, random_state=1),\n",
       "                   estimator=SVC(),\n",
       "                   param_distributions={'C': [1], 'gamma': ['scale'],\n",
       "                                        'kernel': ['rbf'],\n",
       "                                        'probability': [True], 'tol': [0.001]},\n",
       "                   scoring='roc_auc')"
      ]
     },
     "execution_count": 52,
     "metadata": {},
     "output_type": "execute_result"
    }
   ],
   "source": [
    "%%time\n",
    "clf_svm= SVC()\n",
    "\n",
    "#cv = RepeatedStratifiedKFold(n_splits=5, n_repeats=2, random_state=1)\n",
    "cv = RepeatedStratifiedKFold(n_splits=2, n_repeats=2, random_state=1)\n",
    "\n",
    "svm_cv = RandomizedSearchCV(clf_svm,\n",
    "                            param_distributions = param_svm,\n",
    "                            scoring='roc_auc',\n",
    "                            cv=cv # cross validations\n",
    "                           )\n",
    "svm_cv.fit(X_train_svc,y_train_svc)"
   ]
  },
  {
   "cell_type": "code",
   "execution_count": 53,
   "metadata": {
    "id": "XSe9FbP9N8Y2"
   },
   "outputs": [
    {
     "name": "stdout",
     "output_type": "stream",
     "text": [
      "Tuned hyperparameters : {'tol': 0.001, 'probability': True, 'kernel': 'rbf', 'gamma': 'scale', 'C': 1}\n",
      "Best ROC_AUC score: 0.7728782401901232\n",
      "Best Estimator: SVC(C=1, probability=True)\n"
     ]
    }
   ],
   "source": [
    "print(\"Tuned hyperparameters : {}\".format(svm_cv.best_params_))\n",
    "print(\"Best ROC_AUC score: {}\".format(svm_cv.best_score_))\n",
    "print(\"Best Estimator: {}\".format(svm_cv.best_estimator_))"
   ]
  },
  {
   "cell_type": "code",
   "execution_count": 54,
   "metadata": {
    "id": "Y7FiB5p1N-cl"
   },
   "outputs": [
    {
     "name": "stdout",
     "output_type": "stream",
     "text": [
      "              precision    recall  f1-score   support\n",
      "\n",
      "     Success       0.77      0.96      0.85     45215\n",
      " Not Success       0.82      0.40      0.54     22207\n",
      "\n",
      "    accuracy                           0.77     67422\n",
      "   macro avg       0.79      0.68      0.70     67422\n",
      "weighted avg       0.78      0.77      0.75     67422\n",
      "\n"
     ]
    },
    {
     "data": {
      "text/plain": [
       "<sklearn.metrics._plot.confusion_matrix.ConfusionMatrixDisplay at 0x2933e154df0>"
      ]
     },
     "execution_count": 54,
     "metadata": {},
     "output_type": "execute_result"
    },
    {
     "data": {
      "image/png": "[encoded data removed]",
      "text/plain": [
       "<Figure size 432x288 with 2 Axes>"
      ]
     },
     "metadata": {
      "needs_background": "light"
     },
     "output_type": "display_data"
    }
   ],
   "source": [
    "report = classification_report(y_test, svm_cv.predict(X_test), target_names=['Success', 'Not Success'])\n",
    "\n",
    "print(report)\n",
    "\n",
    "plot_confusion_matrix(svm_cv, X_test, y_test)"
   ]
  },
  {
   "cell_type": "code",
   "execution_count": 55,
   "metadata": {
    "id": "cZkBOIENN-il"
   },
   "outputs": [
    {
     "data": {
      "image/png": "[encoded data removed]",
      "text/plain": [
       "<Figure size 432x288 with 1 Axes>"
      ]
     },
     "metadata": {
      "needs_background": "light"
     },
     "output_type": "display_data"
    },
    {
     "name": "stdout",
     "output_type": "stream",
     "text": [
      "Wall time: 56.3 s\n"
     ]
    }
   ],
   "source": [
    "%%time\n",
    "\n",
    "plot_roc_curve(svm_cv,X_test,y_test)\n",
    "plt.show()"
   ]
  },
  {
   "cell_type": "code",
   "execution_count": 56,
   "metadata": {
    "id": "1uuDUyXUQgrM"
   },
   "outputs": [
    {
     "name": "stdout",
     "output_type": "stream",
     "text": [
      "ROC AUC score untuk Support Vector Machine:  0.7739840757522907\n"
     ]
    }
   ],
   "source": [
    "roc_auc_svm = roc_auc_score(y_test, svm_cv.predict_proba(X_test)[:, 1])\n",
    "print( \"ROC AUC score untuk Support Vector Machine: \", roc_auc_svm)"
   ]
  },
  {
   "cell_type": "markdown",
   "metadata": {
    "id": "EJXXhOKHiANP"
   },
   "source": [
    "### XGBoost Classifier"
   ]
  },
  {
   "cell_type": "markdown",
   "metadata": {
    "id": "iOV1D4BmiCXf"
   },
   "source": [
    "Setting parameter"
   ]
  },
  {
   "cell_type": "code",
   "execution_count": 57,
   "metadata": {
    "id": "aNeWvjJ1h_w3"
   },
   "outputs": [],
   "source": [
    "fit_params={\"early_stopping_rounds\":100,\n",
    "            \"eval_metric\":'auc', \n",
    "            \"eval_set\":[(X_test,y_test)],\n",
    "            \"verbose\":True\n",
    "           }\n",
    "\n",
    "param_dist = {'n_estimators': [k for k in range(300,1000,100)],\n",
    "              'learning_rate': np.linspace(0.01,0.2,5),\n",
    "              'subsample': np.linspace(0.1,1,5),\n",
    "              'max_depth': np.arange(3,10,2),\n",
    "              'colsample_bytree': np.linspace(0.1,1,10)\n",
    "             }"
   ]
  },
  {
   "cell_type": "code",
   "execution_count": 58,
   "metadata": {
    "id": "_CwyRdl3iE_q"
   },
   "outputs": [],
   "source": [
    "model_xgb = xgb.XGBClassifier(objective = 'binary:logistic',use_label_encoder=False)"
   ]
  },
  {
   "cell_type": "code",
   "execution_count": 59,
   "metadata": {
    "id": "AaxxYotKiG06"
   },
   "outputs": [
    {
     "data": {
      "text/plain": [
       "{'n_estimators': [300, 400, 500, 600, 700, 800, 900],\n",
       " 'learning_rate': array([0.01  , 0.0575, 0.105 , 0.1525, 0.2   ]),\n",
       " 'subsample': array([0.1  , 0.325, 0.55 , 0.775, 1.   ]),\n",
       " 'max_depth': array([3, 5, 7, 9]),\n",
       " 'colsample_bytree': array([0.1, 0.2, 0.3, 0.4, 0.5, 0.6, 0.7, 0.8, 0.9, 1. ])}"
      ]
     },
     "execution_count": 59,
     "metadata": {},
     "output_type": "execute_result"
    }
   ],
   "source": [
    "param_dist"
   ]
  },
  {
   "cell_type": "code",
   "execution_count": 60,
   "metadata": {
    "id": "UI7NRWDmiN5V"
   },
   "outputs": [
    {
     "name": "stdout",
     "output_type": "stream",
     "text": [
      "Wall time: 0 ns\n"
     ]
    }
   ],
   "source": [
    "%%time\n",
    "cv = RepeatedStratifiedKFold(n_splits=5, n_repeats=2, random_state=1)\n",
    "\n",
    "\n",
    "clf_xgb = RandomizedSearchCV(model_xgb, \n",
    "                             param_distributions = param_dist,\n",
    "                             cv = cv,\n",
    "                             random_state=42,\n",
    "                             n_iter = 10,\n",
    "                             scoring = 'roc_auc', \n",
    "                             error_score = 0, \n",
    "                             verbose = 5, \n",
    "                             n_jobs = -1)"
   ]
  },
  {
   "cell_type": "code",
   "execution_count": 61,
   "metadata": {
    "id": "UhRDpW86icKk"
   },
   "outputs": [
    {
     "name": "stdout",
     "output_type": "stream",
     "text": [
      "Fitting 10 folds for each of 10 candidates, totalling 100 fits\n"
     ]
    },
    {
     "name": "stderr",
     "output_type": "stream",
     "text": [
      "[Parallel(n_jobs=-1)]: Using backend LokyBackend with 8 concurrent workers.\n",
      "[Parallel(n_jobs=-1)]: Done   2 tasks      | elapsed:  1.3min\n",
      "[Parallel(n_jobs=-1)]: Done  56 tasks      | elapsed: 11.4min\n",
      "[Parallel(n_jobs=-1)]: Done 100 out of 100 | elapsed: 25.6min finished\n",
      "`eval_metric` in `fit` method is deprecated for better compatibility with scikit-learn, use `eval_metric` in constructor or`set_params` instead.\n",
      "`early_stopping_rounds` in `fit` method is deprecated for better compatibility with scikit-learn, use `early_stopping_rounds` in constructor or`set_params` instead.\n"
     ]
    },
    {
     "name": "stdout",
     "output_type": "stream",
     "text": [
      "[0]\tvalidation_0-auc:0.75869\n",
      "[1]\tvalidation_0-auc:0.76599\n",
      "[2]\tvalidation_0-auc:0.78163\n",
      "[3]\tvalidation_0-auc:0.78169\n",
      "[4]\tvalidation_0-auc:0.78711\n",
      "[5]\tvalidation_0-auc:0.79861\n",
      "[6]\tvalidation_0-auc:0.79890\n",
      "[7]\tvalidation_0-auc:0.79884\n",
      "[8]\tvalidation_0-auc:0.79761\n",
      "[9]\tvalidation_0-auc:0.79781\n",
      "[10]\tvalidation_0-auc:0.80305\n",
      "[11]\tvalidation_0-auc:0.80371\n",
      "[12]\tvalidation_0-auc:0.80298\n",
      "[13]\tvalidation_0-auc:0.80362\n",
      "[14]\tvalidation_0-auc:0.80359\n",
      "[15]\tvalidation_0-auc:0.80422\n",
      "[16]\tvalidation_0-auc:0.80379\n",
      "[17]\tvalidation_0-auc:0.80426\n",
      "[18]\tvalidation_0-auc:0.80455\n",
      "[19]\tvalidation_0-auc:0.80507\n",
      "[20]\tvalidation_0-auc:0.80611\n",
      "[21]\tvalidation_0-auc:0.80662\n",
      "[22]\tvalidation_0-auc:0.80776\n",
      "[23]\tvalidation_0-auc:0.80746\n",
      "[24]\tvalidation_0-auc:0.80758\n",
      "[25]\tvalidation_0-auc:0.80764\n",
      "[26]\tvalidation_0-auc:0.80766\n",
      "[27]\tvalidation_0-auc:0.80785\n",
      "[28]\tvalidation_0-auc:0.80868\n",
      "[29]\tvalidation_0-auc:0.80940\n",
      "[30]\tvalidation_0-auc:0.80923\n",
      "[31]\tvalidation_0-auc:0.80938\n",
      "[32]\tvalidation_0-auc:0.80929\n",
      "[33]\tvalidation_0-auc:0.80963\n",
      "[34]\tvalidation_0-auc:0.80979\n",
      "[35]\tvalidation_0-auc:0.81002\n",
      "[36]\tvalidation_0-auc:0.81006\n",
      "[37]\tvalidation_0-auc:0.81006\n",
      "[38]\tvalidation_0-auc:0.81056\n",
      "[39]\tvalidation_0-auc:0.81082\n",
      "[40]\tvalidation_0-auc:0.81107\n",
      "[41]\tvalidation_0-auc:0.81131\n",
      "[42]\tvalidation_0-auc:0.81139\n",
      "[43]\tvalidation_0-auc:0.81147\n",
      "[44]\tvalidation_0-auc:0.81158\n",
      "[45]\tvalidation_0-auc:0.81168\n",
      "[46]\tvalidation_0-auc:0.81171\n",
      "[47]\tvalidation_0-auc:0.81175\n",
      "[48]\tvalidation_0-auc:0.81187\n",
      "[49]\tvalidation_0-auc:0.81194\n",
      "[50]\tvalidation_0-auc:0.81196\n",
      "[51]\tvalidation_0-auc:0.81199\n",
      "[52]\tvalidation_0-auc:0.81210\n",
      "[53]\tvalidation_0-auc:0.81218\n",
      "[54]\tvalidation_0-auc:0.81221\n",
      "[55]\tvalidation_0-auc:0.81230\n",
      "[56]\tvalidation_0-auc:0.81235\n",
      "[57]\tvalidation_0-auc:0.81251\n",
      "[58]\tvalidation_0-auc:0.81264\n",
      "[59]\tvalidation_0-auc:0.81265\n",
      "[60]\tvalidation_0-auc:0.81271\n",
      "[61]\tvalidation_0-auc:0.81285\n",
      "[62]\tvalidation_0-auc:0.81291\n",
      "[63]\tvalidation_0-auc:0.81293\n",
      "[64]\tvalidation_0-auc:0.81305\n",
      "[65]\tvalidation_0-auc:0.81308\n",
      "[66]\tvalidation_0-auc:0.81312\n",
      "[67]\tvalidation_0-auc:0.81312\n",
      "[68]\tvalidation_0-auc:0.81314\n",
      "[69]\tvalidation_0-auc:0.81316\n",
      "[70]\tvalidation_0-auc:0.81318\n",
      "[71]\tvalidation_0-auc:0.81320\n",
      "[72]\tvalidation_0-auc:0.81322\n",
      "[73]\tvalidation_0-auc:0.81326\n",
      "[74]\tvalidation_0-auc:0.81328\n",
      "[75]\tvalidation_0-auc:0.81330\n",
      "[76]\tvalidation_0-auc:0.81334\n",
      "[77]\tvalidation_0-auc:0.81336\n",
      "[78]\tvalidation_0-auc:0.81340\n",
      "[79]\tvalidation_0-auc:0.81339\n",
      "[80]\tvalidation_0-auc:0.81341\n",
      "[81]\tvalidation_0-auc:0.81342\n",
      "[82]\tvalidation_0-auc:0.81343\n",
      "[83]\tvalidation_0-auc:0.81344\n",
      "[84]\tvalidation_0-auc:0.81346\n",
      "[85]\tvalidation_0-auc:0.81349\n",
      "[86]\tvalidation_0-auc:0.81349\n",
      "[87]\tvalidation_0-auc:0.81349\n",
      "[88]\tvalidation_0-auc:0.81352\n",
      "[89]\tvalidation_0-auc:0.81353\n",
      "[90]\tvalidation_0-auc:0.81355\n",
      "[91]\tvalidation_0-auc:0.81356\n",
      "[92]\tvalidation_0-auc:0.81358\n",
      "[93]\tvalidation_0-auc:0.81360\n",
      "[94]\tvalidation_0-auc:0.81360\n",
      "[95]\tvalidation_0-auc:0.81359\n",
      "[96]\tvalidation_0-auc:0.81360\n",
      "[97]\tvalidation_0-auc:0.81361\n",
      "[98]\tvalidation_0-auc:0.81365\n",
      "[99]\tvalidation_0-auc:0.81366\n",
      "[100]\tvalidation_0-auc:0.81366\n",
      "[101]\tvalidation_0-auc:0.81370\n",
      "[102]\tvalidation_0-auc:0.81371\n",
      "[103]\tvalidation_0-auc:0.81368\n",
      "[104]\tvalidation_0-auc:0.81371\n",
      "[105]\tvalidation_0-auc:0.81374\n",
      "[106]\tvalidation_0-auc:0.81374\n",
      "[107]\tvalidation_0-auc:0.81375\n",
      "[108]\tvalidation_0-auc:0.81377\n",
      "[109]\tvalidation_0-auc:0.81377\n",
      "[110]\tvalidation_0-auc:0.81378\n",
      "[111]\tvalidation_0-auc:0.81382\n",
      "[112]\tvalidation_0-auc:0.81383\n",
      "[113]\tvalidation_0-auc:0.81383\n",
      "[114]\tvalidation_0-auc:0.81383\n",
      "[115]\tvalidation_0-auc:0.81384\n",
      "[116]\tvalidation_0-auc:0.81385\n",
      "[117]\tvalidation_0-auc:0.81386\n",
      "[118]\tvalidation_0-auc:0.81386\n",
      "[119]\tvalidation_0-auc:0.81387\n",
      "[120]\tvalidation_0-auc:0.81390\n",
      "[121]\tvalidation_0-auc:0.81389\n",
      "[122]\tvalidation_0-auc:0.81389\n",
      "[123]\tvalidation_0-auc:0.81390\n",
      "[124]\tvalidation_0-auc:0.81389\n",
      "[125]\tvalidation_0-auc:0.81391\n",
      "[126]\tvalidation_0-auc:0.81395\n",
      "[127]\tvalidation_0-auc:0.81399\n",
      "[128]\tvalidation_0-auc:0.81403\n",
      "[129]\tvalidation_0-auc:0.81403\n",
      "[130]\tvalidation_0-auc:0.81403\n",
      "[131]\tvalidation_0-auc:0.81403\n",
      "[132]\tvalidation_0-auc:0.81407\n",
      "[133]\tvalidation_0-auc:0.81408\n",
      "[134]\tvalidation_0-auc:0.81408\n",
      "[135]\tvalidation_0-auc:0.81409\n",
      "[136]\tvalidation_0-auc:0.81409\n",
      "[137]\tvalidation_0-auc:0.81409\n",
      "[138]\tvalidation_0-auc:0.81411\n",
      "[139]\tvalidation_0-auc:0.81411\n",
      "[140]\tvalidation_0-auc:0.81412\n",
      "[141]\tvalidation_0-auc:0.81413\n",
      "[142]\tvalidation_0-auc:0.81413\n",
      "[143]\tvalidation_0-auc:0.81413\n",
      "[144]\tvalidation_0-auc:0.81415\n",
      "[145]\tvalidation_0-auc:0.81415\n",
      "[146]\tvalidation_0-auc:0.81415\n",
      "[147]\tvalidation_0-auc:0.81415\n",
      "[148]\tvalidation_0-auc:0.81415\n",
      "[149]\tvalidation_0-auc:0.81415\n",
      "[150]\tvalidation_0-auc:0.81415\n",
      "[151]\tvalidation_0-auc:0.81415\n",
      "[152]\tvalidation_0-auc:0.81416\n",
      "[153]\tvalidation_0-auc:0.81418\n",
      "[154]\tvalidation_0-auc:0.81418\n",
      "[155]\tvalidation_0-auc:0.81420\n",
      "[156]\tvalidation_0-auc:0.81422\n",
      "[157]\tvalidation_0-auc:0.81423\n",
      "[158]\tvalidation_0-auc:0.81422\n",
      "[159]\tvalidation_0-auc:0.81422\n",
      "[160]\tvalidation_0-auc:0.81422\n",
      "[161]\tvalidation_0-auc:0.81422\n",
      "[162]\tvalidation_0-auc:0.81423\n",
      "[163]\tvalidation_0-auc:0.81424\n",
      "[164]\tvalidation_0-auc:0.81424\n",
      "[165]\tvalidation_0-auc:0.81424\n",
      "[166]\tvalidation_0-auc:0.81422\n",
      "[167]\tvalidation_0-auc:0.81422\n",
      "[168]\tvalidation_0-auc:0.81422\n",
      "[169]\tvalidation_0-auc:0.81423\n",
      "[170]\tvalidation_0-auc:0.81423\n",
      "[171]\tvalidation_0-auc:0.81422\n",
      "[172]\tvalidation_0-auc:0.81423\n",
      "[173]\tvalidation_0-auc:0.81423\n",
      "[174]\tvalidation_0-auc:0.81423\n",
      "[175]\tvalidation_0-auc:0.81424\n",
      "[176]\tvalidation_0-auc:0.81425\n",
      "[177]\tvalidation_0-auc:0.81424\n",
      "[178]\tvalidation_0-auc:0.81423\n",
      "[179]\tvalidation_0-auc:0.81425\n",
      "[180]\tvalidation_0-auc:0.81425\n",
      "[181]\tvalidation_0-auc:0.81423\n",
      "[182]\tvalidation_0-auc:0.81423\n",
      "[183]\tvalidation_0-auc:0.81423\n",
      "[184]\tvalidation_0-auc:0.81425\n",
      "[185]\tvalidation_0-auc:0.81425\n",
      "[186]\tvalidation_0-auc:0.81424\n",
      "[187]\tvalidation_0-auc:0.81425\n",
      "[188]\tvalidation_0-auc:0.81425\n",
      "[189]\tvalidation_0-auc:0.81425\n",
      "[190]\tvalidation_0-auc:0.81426\n",
      "[191]\tvalidation_0-auc:0.81427\n",
      "[192]\tvalidation_0-auc:0.81427\n",
      "[193]\tvalidation_0-auc:0.81427\n",
      "[194]\tvalidation_0-auc:0.81427\n",
      "[195]\tvalidation_0-auc:0.81426\n",
      "[196]\tvalidation_0-auc:0.81427\n",
      "[197]\tvalidation_0-auc:0.81426\n",
      "[198]\tvalidation_0-auc:0.81427\n",
      "[199]\tvalidation_0-auc:0.81427\n",
      "[200]\tvalidation_0-auc:0.81427\n",
      "[201]\tvalidation_0-auc:0.81427\n",
      "[202]\tvalidation_0-auc:0.81427\n",
      "[203]\tvalidation_0-auc:0.81428\n",
      "[204]\tvalidation_0-auc:0.81427\n",
      "[205]\tvalidation_0-auc:0.81427\n",
      "[206]\tvalidation_0-auc:0.81429\n",
      "[207]\tvalidation_0-auc:0.81430\n",
      "[208]\tvalidation_0-auc:0.81430\n",
      "[209]\tvalidation_0-auc:0.81431\n",
      "[210]\tvalidation_0-auc:0.81431\n",
      "[211]\tvalidation_0-auc:0.81432\n",
      "[212]\tvalidation_0-auc:0.81432\n",
      "[213]\tvalidation_0-auc:0.81431\n",
      "[214]\tvalidation_0-auc:0.81431\n",
      "[215]\tvalidation_0-auc:0.81430\n",
      "[216]\tvalidation_0-auc:0.81430\n",
      "[217]\tvalidation_0-auc:0.81429\n",
      "[218]\tvalidation_0-auc:0.81431\n",
      "[219]\tvalidation_0-auc:0.81432\n",
      "[220]\tvalidation_0-auc:0.81433\n",
      "[221]\tvalidation_0-auc:0.81433\n",
      "[222]\tvalidation_0-auc:0.81433\n",
      "[223]\tvalidation_0-auc:0.81433\n",
      "[224]\tvalidation_0-auc:0.81433\n",
      "[225]\tvalidation_0-auc:0.81433\n",
      "[226]\tvalidation_0-auc:0.81432\n",
      "[227]\tvalidation_0-auc:0.81432\n",
      "[228]\tvalidation_0-auc:0.81432\n",
      "[229]\tvalidation_0-auc:0.81432\n",
      "[230]\tvalidation_0-auc:0.81432\n",
      "[231]\tvalidation_0-auc:0.81433\n",
      "[232]\tvalidation_0-auc:0.81432\n",
      "[233]\tvalidation_0-auc:0.81432\n",
      "[234]\tvalidation_0-auc:0.81432\n",
      "[235]\tvalidation_0-auc:0.81433\n",
      "[236]\tvalidation_0-auc:0.81433\n",
      "[237]\tvalidation_0-auc:0.81433\n",
      "[238]\tvalidation_0-auc:0.81433\n",
      "[239]\tvalidation_0-auc:0.81433\n",
      "[240]\tvalidation_0-auc:0.81434\n",
      "[241]\tvalidation_0-auc:0.81434\n",
      "[242]\tvalidation_0-auc:0.81434\n",
      "[243]\tvalidation_0-auc:0.81435\n",
      "[244]\tvalidation_0-auc:0.81435\n",
      "[245]\tvalidation_0-auc:0.81437\n",
      "[246]\tvalidation_0-auc:0.81437\n",
      "[247]\tvalidation_0-auc:0.81438\n",
      "[248]\tvalidation_0-auc:0.81437\n",
      "[249]\tvalidation_0-auc:0.81438\n",
      "[250]\tvalidation_0-auc:0.81438\n",
      "[251]\tvalidation_0-auc:0.81439\n",
      "[252]\tvalidation_0-auc:0.81441\n",
      "[253]\tvalidation_0-auc:0.81441\n",
      "[254]\tvalidation_0-auc:0.81441\n",
      "[255]\tvalidation_0-auc:0.81441\n",
      "[256]\tvalidation_0-auc:0.81441\n",
      "[257]\tvalidation_0-auc:0.81441\n",
      "[258]\tvalidation_0-auc:0.81441\n",
      "[259]\tvalidation_0-auc:0.81441\n",
      "[260]\tvalidation_0-auc:0.81441\n",
      "[261]\tvalidation_0-auc:0.81442\n",
      "[262]\tvalidation_0-auc:0.81441\n",
      "[263]\tvalidation_0-auc:0.81441\n",
      "[264]\tvalidation_0-auc:0.81440\n",
      "[265]\tvalidation_0-auc:0.81440\n",
      "[266]\tvalidation_0-auc:0.81440\n",
      "[267]\tvalidation_0-auc:0.81440\n",
      "[268]\tvalidation_0-auc:0.81440\n",
      "[269]\tvalidation_0-auc:0.81440\n",
      "[270]\tvalidation_0-auc:0.81440\n",
      "[271]\tvalidation_0-auc:0.81440\n",
      "[272]\tvalidation_0-auc:0.81440\n",
      "[273]\tvalidation_0-auc:0.81440\n",
      "[274]\tvalidation_0-auc:0.81441\n",
      "[275]\tvalidation_0-auc:0.81440\n",
      "[276]\tvalidation_0-auc:0.81439\n",
      "[277]\tvalidation_0-auc:0.81438\n",
      "[278]\tvalidation_0-auc:0.81439\n",
      "[279]\tvalidation_0-auc:0.81439\n",
      "[280]\tvalidation_0-auc:0.81439\n",
      "[281]\tvalidation_0-auc:0.81438\n",
      "[282]\tvalidation_0-auc:0.81439\n",
      "[283]\tvalidation_0-auc:0.81439\n",
      "[284]\tvalidation_0-auc:0.81439\n",
      "[285]\tvalidation_0-auc:0.81439\n",
      "[286]\tvalidation_0-auc:0.81440\n",
      "[287]\tvalidation_0-auc:0.81440\n",
      "[288]\tvalidation_0-auc:0.81440\n",
      "[289]\tvalidation_0-auc:0.81440\n",
      "[290]\tvalidation_0-auc:0.81440\n",
      "[291]\tvalidation_0-auc:0.81439\n",
      "[292]\tvalidation_0-auc:0.81438\n",
      "[293]\tvalidation_0-auc:0.81438\n",
      "[294]\tvalidation_0-auc:0.81438\n",
      "[295]\tvalidation_0-auc:0.81438\n",
      "[296]\tvalidation_0-auc:0.81437\n",
      "[297]\tvalidation_0-auc:0.81437\n",
      "[298]\tvalidation_0-auc:0.81437\n",
      "[299]\tvalidation_0-auc:0.81436\n",
      "[300]\tvalidation_0-auc:0.81436\n",
      "[301]\tvalidation_0-auc:0.81436\n",
      "[302]\tvalidation_0-auc:0.81435\n",
      "[303]\tvalidation_0-auc:0.81436\n",
      "[304]\tvalidation_0-auc:0.81437\n",
      "[305]\tvalidation_0-auc:0.81437\n",
      "[306]\tvalidation_0-auc:0.81437\n",
      "[307]\tvalidation_0-auc:0.81438\n",
      "[308]\tvalidation_0-auc:0.81438\n",
      "[309]\tvalidation_0-auc:0.81439\n",
      "[310]\tvalidation_0-auc:0.81438\n",
      "[311]\tvalidation_0-auc:0.81439\n",
      "[312]\tvalidation_0-auc:0.81440\n",
      "[313]\tvalidation_0-auc:0.81439\n",
      "[314]\tvalidation_0-auc:0.81439\n",
      "[315]\tvalidation_0-auc:0.81440\n",
      "[316]\tvalidation_0-auc:0.81440\n",
      "[317]\tvalidation_0-auc:0.81440\n",
      "[318]\tvalidation_0-auc:0.81438\n",
      "[319]\tvalidation_0-auc:0.81438\n",
      "[320]\tvalidation_0-auc:0.81437\n",
      "[321]\tvalidation_0-auc:0.81437\n",
      "[322]\tvalidation_0-auc:0.81437\n",
      "[323]\tvalidation_0-auc:0.81437\n",
      "[324]\tvalidation_0-auc:0.81437\n",
      "[325]\tvalidation_0-auc:0.81437\n",
      "[326]\tvalidation_0-auc:0.81438\n",
      "[327]\tvalidation_0-auc:0.81438\n",
      "[328]\tvalidation_0-auc:0.81438\n",
      "[329]\tvalidation_0-auc:0.81438\n",
      "[330]\tvalidation_0-auc:0.81438\n",
      "[331]\tvalidation_0-auc:0.81438\n",
      "[332]\tvalidation_0-auc:0.81438\n",
      "[333]\tvalidation_0-auc:0.81438\n",
      "[334]\tvalidation_0-auc:0.81438\n",
      "[335]\tvalidation_0-auc:0.81438\n",
      "[336]\tvalidation_0-auc:0.81438\n",
      "[337]\tvalidation_0-auc:0.81438\n",
      "[338]\tvalidation_0-auc:0.81438\n",
      "[339]\tvalidation_0-auc:0.81438\n",
      "[340]\tvalidation_0-auc:0.81439\n",
      "[341]\tvalidation_0-auc:0.81439\n",
      "[342]\tvalidation_0-auc:0.81439\n",
      "[343]\tvalidation_0-auc:0.81439\n",
      "[344]\tvalidation_0-auc:0.81438\n",
      "[345]\tvalidation_0-auc:0.81439\n",
      "[346]\tvalidation_0-auc:0.81439\n",
      "[347]\tvalidation_0-auc:0.81439\n",
      "[348]\tvalidation_0-auc:0.81438\n",
      "[349]\tvalidation_0-auc:0.81439\n",
      "[350]\tvalidation_0-auc:0.81439\n",
      "[351]\tvalidation_0-auc:0.81438\n",
      "[352]\tvalidation_0-auc:0.81438\n",
      "[353]\tvalidation_0-auc:0.81438\n",
      "[354]\tvalidation_0-auc:0.81437\n",
      "[355]\tvalidation_0-auc:0.81437\n",
      "[356]\tvalidation_0-auc:0.81437\n",
      "[357]\tvalidation_0-auc:0.81437\n",
      "[358]\tvalidation_0-auc:0.81436\n",
      "[359]\tvalidation_0-auc:0.81436\n",
      "[360]\tvalidation_0-auc:0.81436\n"
     ]
    },
    {
     "data": {
      "text/plain": [
       "RandomizedSearchCV(cv=RepeatedStratifiedKFold(n_repeats=2, n_splits=5, random_state=1),\n",
       "                   error_score=0,\n",
       "                   estimator=XGBClassifier(base_score=None, booster=None,\n",
       "                                           callbacks=None,\n",
       "                                           colsample_bylevel=None,\n",
       "                                           colsample_bynode=None,\n",
       "                                           colsample_bytree=None,\n",
       "                                           early_stopping_rounds=None,\n",
       "                                           enable_categorical=False,\n",
       "                                           eval_metric=None, gamma=None,\n",
       "                                           gpu_id=None, grow_policy=None,\n",
       "                                           importa...\n",
       "                                           reg_alpha=None, reg_lambda=None, ...),\n",
       "                   n_jobs=-1,\n",
       "                   param_distributions={'colsample_bytree': array([0.1, 0.2, 0.3, 0.4, 0.5, 0.6, 0.7, 0.8, 0.9, 1. ]),\n",
       "                                        'learning_rate': array([0.01  , 0.0575, 0.105 , 0.1525, 0.2   ]),\n",
       "                                        'max_depth': array([3, 5, 7, 9]),\n",
       "                                        'n_estimators': [300, 400, 500, 600,\n",
       "                                                         700, 800, 900],\n",
       "                                        'subsample': array([0.1  , 0.325, 0.55 , 0.775, 1.   ])},\n",
       "                   random_state=42, scoring='roc_auc', verbose=5)"
      ]
     },
     "execution_count": 61,
     "metadata": {},
     "output_type": "execute_result"
    }
   ],
   "source": [
    "%%time\n",
    "clf_xgb.fit(X_train,y_train,**fit_params)"
   ]
  },
  {
   "cell_type": "code",
   "execution_count": 62,
   "metadata": {
    "id": "gyeheB63ignQ"
   },
   "outputs": [
    {
     "name": "stdout",
     "output_type": "stream",
     "text": [
      "Tuned hyperparameters : {'subsample': 1.0, 'n_estimators': 500, 'max_depth': 3, 'learning_rate': 0.15250000000000002, 'colsample_bytree': 0.8}\n",
      "Best ROC_AUC score: 0.8158541174920891\n",
      "Best Estimator: XGBClassifier(base_score=0.5, booster='gbtree', callbacks=None,\n",
      "              colsample_bylevel=1, colsample_bynode=1, colsample_bytree=0.8,\n",
      "              early_stopping_rounds=None, enable_categorical=False,\n",
      "              eval_metric=None, gamma=0, gpu_id=-1, grow_policy='depthwise',\n",
      "              importance_type=None, interaction_constraints='',\n",
      "              learning_rate=0.15250000000000002, max_bin=256,\n",
      "              max_cat_to_onehot=4, max_delta_step=0, max_depth=3, max_leaves=0,\n",
      "              min_child_weight=1, missing=nan, monotone_constraints='()',\n",
      "              n_estimators=500, n_jobs=0, num_parallel_tree=1, predictor='auto',\n",
      "              random_state=0, reg_alpha=0, reg_lambda=1, ...)\n"
     ]
    }
   ],
   "source": [
    "print(\"Tuned hyperparameters : {}\".format(clf_xgb.best_params_))\n",
    "print(\"Best ROC_AUC score: {}\".format(clf_xgb.best_score_))\n",
    "print(\"Best Estimator: {}\".format(clf_xgb.best_estimator_))"
   ]
  },
  {
   "cell_type": "code",
   "execution_count": 63,
   "metadata": {
    "id": "C67kAVgXi5Mx"
   },
   "outputs": [
    {
     "name": "stdout",
     "output_type": "stream",
     "text": [
      "              precision    recall  f1-score   support\n",
      "\n",
      "     Success       0.77      0.94      0.85     45215\n",
      " Not Success       0.79      0.42      0.55     22207\n",
      "\n",
      "    accuracy                           0.77     67422\n",
      "   macro avg       0.78      0.68      0.70     67422\n",
      "weighted avg       0.78      0.77      0.75     67422\n",
      "\n"
     ]
    },
    {
     "data": {
      "text/plain": [
       "<sklearn.metrics._plot.confusion_matrix.ConfusionMatrixDisplay at 0x293001ce6a0>"
      ]
     },
     "execution_count": 63,
     "metadata": {},
     "output_type": "execute_result"
    },
    {
     "data": {
      "image/png": "[encoded data removed]",
      "text/plain": [
       "<Figure size 432x288 with 2 Axes>"
      ]
     },
     "metadata": {
      "needs_background": "light"
     },
     "output_type": "display_data"
    }
   ],
   "source": [
    "report = classification_report(y_test, clf_xgb.predict(X_test), target_names=['Success', 'Not Success'])\n",
    "\n",
    "print(report)\n",
    "\n",
    "plot_confusion_matrix(clf_xgb, X_test, y_test)"
   ]
  },
  {
   "cell_type": "code",
   "execution_count": 64,
   "metadata": {
    "id": "DkAWHWZhi8d7"
   },
   "outputs": [
    {
     "data": {
      "image/png": "[encoded data removed]",
      "text/plain": [
       "<Figure size 432x288 with 1 Axes>"
      ]
     },
     "metadata": {
      "needs_background": "light"
     },
     "output_type": "display_data"
    },
    {
     "name": "stdout",
     "output_type": "stream",
     "text": [
      "Wall time: 221 ms\n"
     ]
    }
   ],
   "source": [
    "%%time\n",
    "\n",
    "plot_roc_curve(clf_xgb,X_test,y_test)\n",
    "plt.show()"
   ]
  },
  {
   "cell_type": "code",
   "execution_count": 65,
   "metadata": {
    "id": "bnJd0stAi9vf"
   },
   "outputs": [
    {
     "name": "stdout",
     "output_type": "stream",
     "text": [
      "ROC AUC score untuk Support Vector Machine:  0.8144176325197224\n"
     ]
    }
   ],
   "source": [
    "roc_auc_xgb = roc_auc_score(y_test, clf_xgb.predict_proba(X_test)[:, 1])\n",
    "print( \"ROC AUC score untuk Support Vector Machine: \", roc_auc_xgb)"
   ]
  },
  {
   "cell_type": "code",
   "execution_count": 66,
   "metadata": {
    "id": "LjpujnKWigrz"
   },
   "outputs": [
    {
     "data": {
      "image/png": "[encoded data removed]",
      "text/plain": [
       "<Figure size 720x720 with 1 Axes>"
      ]
     },
     "metadata": {
      "needs_background": "light"
     },
     "output_type": "display_data"
    }
   ],
   "source": [
    "plt.rcParams[\"figure.figsize\"] = (10,10)\n",
    "xgb.plot_importance(clf_xgb.best_estimator_,max_num_features=10)\n",
    "plt.show()"
   ]
  },
  {
   "cell_type": "code",
   "execution_count": 67,
   "metadata": {
    "id": "AriyqC1TlJGc"
   },
   "outputs": [
    {
     "name": "stderr",
     "output_type": "stream",
     "text": [
      "ntree_limit is deprecated, use `iteration_range` or model slicing instead.\n"
     ]
    },
    {
     "data": {
      "image/png": "[encoded data removed]",
      "text/plain": [
       "<Figure size 576x684 with 2 Axes>"
      ]
     },
     "metadata": {
      "needs_background": "light"
     },
     "output_type": "display_data"
    }
   ],
   "source": [
    "explainer = shap.TreeExplainer(clf_xgb.best_estimator_)\n",
    "shap_values = explainer.shap_values(X_test)\n",
    "shap.summary_plot(shap_values, X_test, class_inds='original')"
   ]
  },
  {
   "cell_type": "markdown",
   "metadata": {
    "id": "7ITX-kskJGKF"
   },
   "source": [
    "**PERBANDINGAN SEMUA ROC AUC SCORE TIAP MODEL**\n",
    "----\n"
   ]
  },
  {
   "cell_type": "code",
   "execution_count": 68,
   "metadata": {
    "id": "7YO61RKCJO9N"
   },
   "outputs": [
    {
     "data": {
      "text/html": [
       "<div>\n",
       "<style scoped>\n",
       "    .dataframe tbody tr th:only-of-type {\n",
       "        vertical-align: middle;\n",
       "    }\n",
       "\n",
       "    .dataframe tbody tr th {\n",
       "        vertical-align: top;\n",
       "    }\n",
       "\n",
       "    .dataframe thead th {\n",
       "        text-align: right;\n",
       "    }\n",
       "</style>\n",
       "<table border=\"1\" class=\"dataframe\">\n",
       "  <thead>\n",
       "    <tr style=\"text-align: right;\">\n",
       "      <th></th>\n",
       "      <th>Logistic Regression</th>\n",
       "      <th>K Nearest Neighbor</th>\n",
       "      <th>Decision Tree</th>\n",
       "      <th>Random Forest</th>\n",
       "      <th>Support Vector Machine</th>\n",
       "      <th>XGBoost Classifier</th>\n",
       "    </tr>\n",
       "  </thead>\n",
       "  <tbody>\n",
       "    <tr>\n",
       "      <th>ROC AUC SCORE</th>\n",
       "      <td>0.800903</td>\n",
       "      <td>0.691247</td>\n",
       "      <td>0.754222</td>\n",
       "      <td>0.789997</td>\n",
       "      <td>0.773984</td>\n",
       "      <td>0.814418</td>\n",
       "    </tr>\n",
       "  </tbody>\n",
       "</table>\n",
       "</div>"
      ],
      "text/plain": [
       "               Logistic Regression  K Nearest Neighbor  Decision Tree  \\\n",
       "ROC AUC SCORE             0.800903            0.691247       0.754222   \n",
       "\n",
       "               Random Forest  Support Vector Machine  XGBoost Classifier  \n",
       "ROC AUC SCORE       0.789997                0.773984            0.814418  "
      ]
     },
     "execution_count": 68,
     "metadata": {},
     "output_type": "execute_result"
    }
   ],
   "source": [
    "Perbandingan_ROC_AUC = pd.DataFrame ({'Logistic Regression': [roc_auc_logreg],\n",
    "                            'K Nearest Neighbor':[roc_auc_knn],\n",
    "                            'Decision Tree': [roc_auc_decision],\n",
    "                            'Random Forest': [roc_auc_randomforest],\n",
    "                            'Support Vector Machine': [roc_auc_svm],\n",
    "                            'XGBoost Classifier' : [roc_auc_xgb]\n",
    "                            }, index=['ROC AUC SCORE'])\n",
    "\n",
    "Perbandingan_ROC_AUC"
   ]
  },
  {
   "cell_type": "markdown",
   "metadata": {
    "id": "dI5xispHKbFm"
   },
   "source": [
    "Maka model yang akan digunakan adalah **XGBoost Classifier** karena mempunyai nilai ROC AUC Score yang paling tinggi"
   ]
  },
  {
   "cell_type": "markdown",
   "metadata": {
    "id": "peBwcjwkPv41"
   },
   "source": [
    "\n",
    "----------------------------------------------\n",
    "\n",
    "\n",
    "\n",
    "\n",
    "\n",
    "\n",
    "\n",
    "\n",
    "\n",
    "\n",
    "\n",
    "\n"
   ]
  },
  {
   "cell_type": "markdown",
   "metadata": {
    "id": "i_tPDWhBb8sJ"
   },
   "source": [
    "## Testing to Validation Data"
   ]
  },
  {
   "cell_type": "code",
   "execution_count": 69,
   "metadata": {},
   "outputs": [
    {
     "data": {
      "text/plain": [
       "Patient Age at Treatment                             int64\n",
       "Total Number of Previous IVF cycles                  int64\n",
       "Total Number of Previous DI cycles                   int64\n",
       "Total number of IVF pregnancies                      int64\n",
       "Total number of DI pregnancies                       int64\n",
       "Main Reason for Producing Embroys Storing Eggs     float64\n",
       "Donated embryo                                     float64\n",
       "Patient acting as Surrogate                        float64\n",
       "Type of treatment - IVF or DI                        int64\n",
       "Specific treatment type                            float64\n",
       "PGD                                                float64\n",
       "Elective Single Embryo Transfer                    float64\n",
       "Egg Source                                         float64\n",
       "Sperm From                                           int64\n",
       "Fresh Cycle                                        float64\n",
       "Frozen Cycle                                       float64\n",
       "Eggs Thawed                                       category\n",
       "Fresh Eggs Collected                                 int64\n",
       "Fresh Eggs Stored                                    int64\n",
       "Eggs Mixed With Partner Sperm                     category\n",
       "Eggs Mixed With Donor sperm                       category\n",
       "Total Embryos Created                             category\n",
       "Eggs Micro-injected                               category\n",
       "Total Embryos Thawed                              category\n",
       "Embryos Transfered                                 float64\n",
       "Embryos Transfered from Eggs Micro-injected        float64\n",
       "Embryos Stored For Use By Patient                 category\n",
       "Type of Infertility                                  int32\n",
       "Cause of Infertility                                 int32\n",
       "dtype: object"
      ]
     },
     "execution_count": 69,
     "metadata": {},
     "output_type": "execute_result"
    }
   ],
   "source": [
    "X_valid.dtypes"
   ]
  },
  {
   "cell_type": "markdown",
   "metadata": {},
   "source": [
    "Transform some categorical data to float as it is already in numerical form (e.g. 0, 1 ,2) so it can fit to xgboost classifier"
   ]
  },
  {
   "cell_type": "code",
   "execution_count": 70,
   "metadata": {},
   "outputs": [],
   "source": [
    "X_valid_float = X_valid.astype(float)"
   ]
  },
  {
   "cell_type": "code",
   "execution_count": 71,
   "metadata": {},
   "outputs": [
    {
     "data": {
      "text/plain": [
       "Patient Age at Treatment                          float64\n",
       "Total Number of Previous IVF cycles               float64\n",
       "Total Number of Previous DI cycles                float64\n",
       "Total number of IVF pregnancies                   float64\n",
       "Total number of DI pregnancies                    float64\n",
       "Main Reason for Producing Embroys Storing Eggs    float64\n",
       "Donated embryo                                    float64\n",
       "Patient acting as Surrogate                       float64\n",
       "Type of treatment - IVF or DI                     float64\n",
       "Specific treatment type                           float64\n",
       "PGD                                               float64\n",
       "Elective Single Embryo Transfer                   float64\n",
       "Egg Source                                        float64\n",
       "Sperm From                                        float64\n",
       "Fresh Cycle                                       float64\n",
       "Frozen Cycle                                      float64\n",
       "Eggs Thawed                                       float64\n",
       "Fresh Eggs Collected                              float64\n",
       "Fresh Eggs Stored                                 float64\n",
       "Eggs Mixed With Partner Sperm                     float64\n",
       "Eggs Mixed With Donor sperm                       float64\n",
       "Total Embryos Created                             float64\n",
       "Eggs Micro-injected                               float64\n",
       "Total Embryos Thawed                              float64\n",
       "Embryos Transfered                                float64\n",
       "Embryos Transfered from Eggs Micro-injected       float64\n",
       "Embryos Stored For Use By Patient                 float64\n",
       "Type of Infertility                               float64\n",
       "Cause of Infertility                              float64\n",
       "dtype: object"
      ]
     },
     "execution_count": 71,
     "metadata": {},
     "output_type": "execute_result"
    }
   ],
   "source": [
    "X_valid_float.dtypes"
   ]
  },
  {
   "cell_type": "code",
   "execution_count": 72,
   "metadata": {
    "id": "6h91dLVUb8NQ"
   },
   "outputs": [
    {
     "name": "stdout",
     "output_type": "stream",
     "text": [
      "              precision    recall  f1-score   support\n",
      "\n",
      "     Success       0.77      0.95      0.85    105841\n",
      " Not Success       0.81      0.43      0.56     52678\n",
      "\n",
      "    accuracy                           0.78    158519\n",
      "   macro avg       0.79      0.69      0.70    158519\n",
      "weighted avg       0.78      0.78      0.75    158519\n",
      "\n"
     ]
    },
    {
     "data": {
      "text/plain": [
       "<sklearn.metrics._plot.confusion_matrix.ConfusionMatrixDisplay at 0x29300c5bf40>"
      ]
     },
     "execution_count": 72,
     "metadata": {},
     "output_type": "execute_result"
    },
    {
     "data": {
      "image/png": "[encoded data removed]",
      "text/plain": [
       "<Figure size 720x720 with 2 Axes>"
      ]
     },
     "metadata": {
      "needs_background": "light"
     },
     "output_type": "display_data"
    }
   ],
   "source": [
    "#Testing \n",
    "report = classification_report(y_valid, clf_xgb.predict(X_valid_float), target_names=['Success', 'Not Success'])\n",
    "\n",
    "print(report)\n",
    "\n",
    "plot_confusion_matrix(clf_xgb, X_valid_float, y_valid)"
   ]
  },
  {
   "cell_type": "code",
   "execution_count": 73,
   "metadata": {
    "id": "u0jFvMhDEANw"
   },
   "outputs": [
    {
     "data": {
      "image/png": "[encoded data removed]",
      "text/plain": [
       "<Figure size 720x720 with 1 Axes>"
      ]
     },
     "metadata": {
      "needs_background": "light"
     },
     "output_type": "display_data"
    },
    {
     "name": "stdout",
     "output_type": "stream",
     "text": [
      "ROC AUC score untuk XGBoost Classifier pada data validation  0.8328283385753202\n",
      "Wall time: 418 ms\n"
     ]
    }
   ],
   "source": [
    "%%time\n",
    "\n",
    "plot_roc_curve(clf_xgb,X_valid_float,y_valid)\n",
    "plt.show()\n",
    "\n",
    "roc_auc_xgboost_valid = roc_auc_score(y_valid, clf_xgb.predict_proba(X_valid_float)[:, 1] )\n",
    "print( \"ROC AUC score untuk XGBoost Classifier pada data validation \", roc_auc_xgboost_valid)"
   ]
  },
  {
   "cell_type": "markdown",
   "metadata": {
    "id": "J8K0U13ePYwe"
   },
   "source": [
    "## Saving All Models"
   ]
  },
  {
   "cell_type": "code",
   "execution_count": 74,
   "metadata": {
    "id": "b2VhtTUOOLjO"
   },
   "outputs": [],
   "source": [
    "import pickle\n",
    "modellist= [logreg_cv, knn_cv, decision_cv, randomforest_cv, svm_cv, clf_xgb]"
   ]
  },
  {
   "cell_type": "code",
   "execution_count": 75,
   "metadata": {
    "id": "vQzQ4iWbWVho"
   },
   "outputs": [],
   "source": [
    "#pickle.dump(logreg_cv, open(\"/content/drive/My Drive/DATA SCIENCE/Project ML & Deployment/ModelSave/logreg_cv.pkl\", 'wb'))\n",
    "#pickle.dump(knn_cv, open(\"/content/drive/My Drive/DATA SCIENCE/Project ML & Deployment/ModelSave/knn_cv.pkl\", 'wb'))\n",
    "#pickle.dump(decision_cv, open(\"/content/drive/My Drive/DATA SCIENCE/Project ML & Deployment/ModelSave/decision_cv.pkl\", 'wb'))\n",
    "#pickle.dump(randomforest_cv, open(\"/content/drive/My Drive/DATA SCIENCE/Project ML & Deployment/ModelSave/randomforest_cv.pkl\", 'wb'))\n",
    "#pickle.dump(svm_cv, open(\"/content/drive/My Drive/DATA SCIENCE/Project ML & Deployment/ModelSave/svm_cv.pkl\", 'wb'))\n",
    "#pickle.dump(clf_xgb, open(\"/content/drive/My Drive/DATA SCIENCE/Project ML & Deployment/ModelSave/clf_xgb.pkl\", 'wb'))"
   ]
  },
  {
   "cell_type": "code",
   "execution_count": 76,
   "metadata": {},
   "outputs": [],
   "source": [
    "pickle.dump(logreg_cv, open(\"F:/DATA SCIENCE/Project ML & Deployment/Modelling/ModelSave/logreg_cv.pkl\", 'wb'))\n",
    "pickle.dump(knn_cv, open(\"F:/DATA SCIENCE/Project ML & Deployment/Modelling/ModelSave/knn_cv.pkl\", 'wb'))\n",
    "pickle.dump(decision_cv, open(\"F:/DATA SCIENCE/Project ML & Deployment/Modelling/ModelSave/decision_cv.pkl\", 'wb'))\n",
    "pickle.dump(randomforest_cv, open(\"F:/DATA SCIENCE/Project ML & Deployment/Modelling/ModelSave/randomforest_cv.pkl\", 'wb'))\n",
    "pickle.dump(svm_cv, open(\"F:/DATA SCIENCE/Project ML & Deployment/Modelling/ModelSave/svm_cv.pkl\", 'wb'))\n",
    "pickle.dump(clf_xgb, open(\"F:/DATA SCIENCE/Project ML & Deployment/Modelling/ModelSave/clf_xgb.pkl\", 'wb'))"
   ]
  },
  {
   "cell_type": "code",
   "execution_count": 77,
   "metadata": {
    "id": "PTbRPLbuWXkG"
   },
   "outputs": [],
   "source": [
    "#Testing load model\n",
    "#loaded_model = pickle.load(open(\"/content/drive/My Drive/DATA SCIENCE/Project ML & Deployment/ModelSave/knn_cv.pkl\", 'rb'))\n",
    "#result = loaded_model.score(X_test, y_test)\n",
    "#print(result)\n",
    "#print(roc_auc_knn)"
   ]
  },
  {
   "cell_type": "code",
   "execution_count": 78,
   "metadata": {},
   "outputs": [
    {
     "name": "stdout",
     "output_type": "stream",
     "text": [
      "0.8144176325197224\n",
      "0.8144176325197224\n",
      "Model is saved and can be recalled\n"
     ]
    }
   ],
   "source": [
    "#Testing load model\n",
    "loaded_model = pickle.load(open(\"F:/DATA SCIENCE/Project ML & Deployment/Modelling/ModelSave/clf_xgb.pkl\", 'rb'))\n",
    "result = loaded_model.score(X_test, y_test)\n",
    "print(result)\n",
    "print(roc_auc_xgb)\n",
    "\n",
    "if result == roc_auc_xgb:\n",
    "    print(\"Model is saved and can be recalled\")\n",
    "else:\n",
    "    print(\"Model is not saved correctly\")"
   ]
  },
  {
   "cell_type": "markdown",
   "metadata": {
    "id": "E5_QlHqzUDRw"
   },
   "source": [
    "# Serving model"
   ]
  },
  {
   "cell_type": "code",
   "execution_count": 79,
   "metadata": {
    "id": "NnPtqpfoX11G"
   },
   "outputs": [
    {
     "data": {
      "text/plain": [
       "['Patient Age at Treatment',\n",
       " 'Total Number of Previous IVF cycles',\n",
       " 'Total Number of Previous DI cycles',\n",
       " 'Total number of IVF pregnancies',\n",
       " 'Total number of DI pregnancies',\n",
       " 'Main Reason for Producing Embroys Storing Eggs',\n",
       " 'Donated embryo',\n",
       " 'Patient acting as Surrogate',\n",
       " 'Type of treatment - IVF or DI',\n",
       " 'Specific treatment type',\n",
       " 'PGD',\n",
       " 'Elective Single Embryo Transfer',\n",
       " 'Egg Source',\n",
       " 'Sperm From',\n",
       " 'Fresh Cycle',\n",
       " 'Frozen Cycle',\n",
       " 'Eggs Thawed',\n",
       " 'Fresh Eggs Collected',\n",
       " 'Fresh Eggs Stored',\n",
       " 'Eggs Mixed With Partner Sperm',\n",
       " 'Eggs Mixed With Donor sperm',\n",
       " 'Total Embryos Created',\n",
       " 'Eggs Micro-injected',\n",
       " 'Total Embryos Thawed',\n",
       " 'Embryos Transfered',\n",
       " 'Embryos Transfered from Eggs Micro-injected',\n",
       " 'Embryos Stored For Use By Patient',\n",
       " 'Type of Infertility',\n",
       " 'Cause of Infertility']"
      ]
     },
     "execution_count": 79,
     "metadata": {},
     "output_type": "execute_result"
    }
   ],
   "source": [
    "features= X_train.columns.to_list()\n",
    "features"
   ]
  },
  {
   "cell_type": "code",
   "execution_count": 80,
   "metadata": {
    "colab": {
     "background_save": true
    },
    "id": "ECr43lvRUEEn"
   },
   "outputs": [
    {
     "name": "stdout",
     "output_type": "stream",
     "text": [
      "Patient Age at Treatment\n",
      "Input age label, 0 for 18-34, 1 for 35-37, 2 for 38-39, 3 for 40-42, 4 for 43-44, 5 for 45-50, and 6 for above 50 \n"
     ]
    },
    {
     "name": "stdin",
     "output_type": "stream",
     "text": [
      "Enter your value:  0\n"
     ]
    },
    {
     "name": "stdout",
     "output_type": "stream",
     "text": [
      " \n",
      "Total Number of Previous IVF cycles\n",
      "Input 0 to 5, input 6 for above value of 5\n"
     ]
    },
    {
     "name": "stdin",
     "output_type": "stream",
     "text": [
      "Enter your value:  1\n"
     ]
    },
    {
     "name": "stdout",
     "output_type": "stream",
     "text": [
      " \n",
      "Total Number of Previous DI cycles\n",
      "Input 0 to 5, input 6 for above value of 5\n"
     ]
    },
    {
     "name": "stdin",
     "output_type": "stream",
     "text": [
      "Enter your value:  2\n"
     ]
    },
    {
     "name": "stdout",
     "output_type": "stream",
     "text": [
      " \n",
      "Total number of IVF pregnancies\n",
      "Input Total number (0 to 5)\n"
     ]
    },
    {
     "name": "stdin",
     "output_type": "stream",
     "text": [
      "Enter your value:  2\n"
     ]
    },
    {
     "name": "stdout",
     "output_type": "stream",
     "text": [
      " \n",
      "Total number of DI pregnancies\n",
      "Input Total number (0 to 5)\n"
     ]
    },
    {
     "name": "stdin",
     "output_type": "stream",
     "text": [
      "Enter your value:  0\n"
     ]
    },
    {
     "name": "stdout",
     "output_type": "stream",
     "text": [
      " \n",
      "Main Reason for Producing Embroys Storing Eggs\n",
      "Input 'Treatment Now ':0,'For Donation ':1,'Treatment Now ,For Donation ':2,'For Storing Embryos ':3,'For Storing Eggs ':4\n"
     ]
    },
    {
     "name": "stdin",
     "output_type": "stream",
     "text": [
      "Enter your value:  0\n"
     ]
    },
    {
     "name": "stdout",
     "output_type": "stream",
     "text": [
      " \n",
      "Donated embryo\n",
      "Input(0 no or 1 yes)\n"
     ]
    },
    {
     "name": "stdin",
     "output_type": "stream",
     "text": [
      "Enter your value:  0\n"
     ]
    },
    {
     "name": "stdout",
     "output_type": "stream",
     "text": [
      " \n",
      "Patient acting as Surrogate\n",
      "Input(0 no or 1 yes)\n"
     ]
    },
    {
     "name": "stdin",
     "output_type": "stream",
     "text": [
      "Enter your value:  0\n"
     ]
    },
    {
     "name": "stdout",
     "output_type": "stream",
     "text": [
      " \n",
      "Type of treatment - IVF or DI\n",
      "Input(1 for IVF or 2 for DI)\n"
     ]
    },
    {
     "name": "stdin",
     "output_type": "stream",
     "text": [
      "Enter your value:  1\n"
     ]
    },
    {
     "name": "stdout",
     "output_type": "stream",
     "text": [
      " \n",
      "Specific treatment type\n",
      "Input ('ICI':1, 'IVF':2, 'Unknown':3, 'IUI':4)\n"
     ]
    },
    {
     "name": "stdin",
     "output_type": "stream",
     "text": [
      "Enter your value:  2\n"
     ]
    },
    {
     "name": "stdout",
     "output_type": "stream",
     "text": [
      " \n",
      "PGD\n",
      "Input(0 no or 1 yes)\n"
     ]
    },
    {
     "name": "stdin",
     "output_type": "stream",
     "text": [
      "Enter your value:  1\n"
     ]
    },
    {
     "name": "stdout",
     "output_type": "stream",
     "text": [
      " \n",
      "Elective Single Embryo Transfer\n",
      "Input(0 no or 1 yes)\n"
     ]
    },
    {
     "name": "stdin",
     "output_type": "stream",
     "text": [
      "Enter your value:  1\n"
     ]
    },
    {
     "name": "stdout",
     "output_type": "stream",
     "text": [
      " \n",
      "Egg Source\n",
      "Input(0 for Patient or 1 for Donor)\n"
     ]
    },
    {
     "name": "stdin",
     "output_type": "stream",
     "text": [
      "Enter your value:  0\n"
     ]
    },
    {
     "name": "stdout",
     "output_type": "stream",
     "text": [
      " \n",
      "Sperm From\n",
      "Input(0 for Partner, 1 for Donor, 2 for not assigned, and 3 for Partner & Donor)\n"
     ]
    },
    {
     "name": "stdin",
     "output_type": "stream",
     "text": [
      "Enter your value:  0\n"
     ]
    },
    {
     "name": "stdout",
     "output_type": "stream",
     "text": [
      " \n",
      "Fresh Cycle\n",
      "Input(0 no or 1 yes)\n"
     ]
    },
    {
     "name": "stdin",
     "output_type": "stream",
     "text": [
      "Enter your value:  1\n"
     ]
    },
    {
     "name": "stdout",
     "output_type": "stream",
     "text": [
      " \n",
      "Frozen Cycle\n",
      "Input(0 no or 1 yes)\n"
     ]
    },
    {
     "name": "stdin",
     "output_type": "stream",
     "text": [
      "Enter your value:  0\n"
     ]
    },
    {
     "name": "stdout",
     "output_type": "stream",
     "text": [
      " \n",
      "Eggs Thawed\n",
      "Input(0 no or 1 if equal or more than 1)\n"
     ]
    },
    {
     "name": "stdin",
     "output_type": "stream",
     "text": [
      "Enter your value:  0\n"
     ]
    },
    {
     "name": "stdout",
     "output_type": "stream",
     "text": [
      " \n",
      "Fresh Eggs Collected\n",
      "Input (0 for '0', 1 for '10-20', 2 for '1-10', 3 for '20-50', 4 for '>50')\n"
     ]
    },
    {
     "name": "stdin",
     "output_type": "stream",
     "text": [
      "Enter your value:  1\n"
     ]
    },
    {
     "name": "stdout",
     "output_type": "stream",
     "text": [
      " \n",
      "Fresh Eggs Stored\n",
      "Input(0 for '0', 1 for '1-50' and 2 for >50)\n"
     ]
    },
    {
     "name": "stdin",
     "output_type": "stream",
     "text": [
      "Enter your value:  1\n"
     ]
    },
    {
     "name": "stdout",
     "output_type": "stream",
     "text": [
      " \n",
      "Eggs Mixed With Partner Sperm\n",
      "Input (0 for '0', 1 for '1-10', 2 for '10-20', 3 for '20-50', 4 for '>50')\n"
     ]
    },
    {
     "name": "stdin",
     "output_type": "stream",
     "text": [
      "Enter your value:  1\n"
     ]
    },
    {
     "name": "stdout",
     "output_type": "stream",
     "text": [
      " \n",
      "Eggs Mixed With Donor sperm\n",
      "Input(0 no or 1 if equal or more than 1)\n"
     ]
    },
    {
     "name": "stdin",
     "output_type": "stream",
     "text": [
      "Enter your value:  0\n"
     ]
    },
    {
     "name": "stdout",
     "output_type": "stream",
     "text": [
      " \n",
      "Total Embryos Created\n",
      "Input (0 for '0', 1 for '1-5', 2 for '5-10', 3 for '10-20', 4 for '>20')\n"
     ]
    },
    {
     "name": "stdin",
     "output_type": "stream",
     "text": [
      "Enter your value:  1\n"
     ]
    },
    {
     "name": "stdout",
     "output_type": "stream",
     "text": [
      " \n",
      "Eggs Micro-injected\n",
      "Input (0 for '0', 1 for '1-10', 2 for '10-20', 3 for '20-50', 4 for '>50')\n"
     ]
    },
    {
     "name": "stdin",
     "output_type": "stream",
     "text": [
      "Enter your value:  0\n"
     ]
    },
    {
     "name": "stdout",
     "output_type": "stream",
     "text": [
      " \n",
      "Total Embryos Thawed\n",
      "Input(0 no, 1 for 1-10 , 2 for >10)\n"
     ]
    },
    {
     "name": "stdin",
     "output_type": "stream",
     "text": [
      "Enter your value:  1\n"
     ]
    },
    {
     "name": "stdout",
     "output_type": "stream",
     "text": [
      " \n",
      "Embryos Transfered\n",
      "Input(0, 1, 2 or 3)\n"
     ]
    },
    {
     "name": "stdin",
     "output_type": "stream",
     "text": [
      "Enter your value:  0\n"
     ]
    },
    {
     "name": "stdout",
     "output_type": "stream",
     "text": [
      " \n",
      "Embryos Transfered from Eggs Micro-injected\n",
      "Input(0, 1, 2 or 3)\n"
     ]
    },
    {
     "name": "stdin",
     "output_type": "stream",
     "text": [
      "Enter your value:  0\n"
     ]
    },
    {
     "name": "stdout",
     "output_type": "stream",
     "text": [
      " \n",
      "Embryos Stored For Use By Patient\n",
      "Input (0 for '0', 1 for '1-10', 2 for '10-50', 3 for '>50')\n"
     ]
    },
    {
     "name": "stdin",
     "output_type": "stream",
     "text": [
      "Enter your value:  1\n"
     ]
    },
    {
     "name": "stdout",
     "output_type": "stream",
     "text": [
      " \n",
      "Type of Infertility\n",
      "Input for Type of Infertility - Female Primary: 1, Type of Infertility - Female Secondary: 2, Type of Infertility - Male Primary: 3\n",
      "Type of Infertility - Male Secondary:4,Type of Infertility -Couple Primary:5, Type of Infertility -Couple Secondary :6\n"
     ]
    },
    {
     "name": "stdin",
     "output_type": "stream",
     "text": [
      "Enter your value:  3\n"
     ]
    },
    {
     "name": "stdout",
     "output_type": "stream",
     "text": [
      " \n",
      "Cause of Infertility\n",
      "'Cause  of Infertility - Tubal disease:1','Cause of Infertility - Ovulatory Disorder:2', 'Cause of Infertility - Male Factor:3'\n",
      "'Cause of Infertility - Patient Unexplained:4','Cause of Infertility - Endometriosis :5','Cause of Infertility - Cervical factors :6'\n",
      "'Cause of Infertility - Female Factors :7','Cause of Infertility - Partner Sperm Concentration:8','Cause of Infertility -  Partner Sperm Morphology :9'\n",
      "'Causes of Infertility - Partner Sperm Motility :10','Cause of Infertility -  Partner Sperm Immunological factors :11'\n"
     ]
    },
    {
     "name": "stdin",
     "output_type": "stream",
     "text": [
      "Enter your value:  4\n"
     ]
    },
    {
     "name": "stdout",
     "output_type": "stream",
     "text": [
      " \n"
     ]
    }
   ],
   "source": [
    "input_data = pd.DataFrame()\n",
    "for i in features:\n",
    "  print(i)\n",
    "\n",
    "  if i =='Total number of IVF pregnancies':\n",
    "    print(\"Input Total number (0 to 5)\")\n",
    "  if i =='Total number of DI pregnancies':\n",
    "    print(\"Input Total number (0 to 5)\")\n",
    "  if i =='Donated embryo':\n",
    "    print(\"Input(0 no or 1 yes)\")\n",
    "  if i =='Patient acting as Surrogate':\n",
    "    print(\"Input(0 no or 1 yes)\")\n",
    "  if i =='PGD':\n",
    "    print(\"Input(0 no or 1 yes)\")\n",
    "  if i =='Elective Single Embryo Transfer':\n",
    "    print(\"Input(0 no or 1 yes)\")\n",
    "  if i =='Fresh Cycle':\n",
    "    print(\"Input(0 no or 1 yes)\")\n",
    "  if i =='Frozen Cycle':\n",
    "    print(\"Input(0 no or 1 yes)\")\n",
    "  if i =='Eggs Thawed':\n",
    "    print(\"Input(0 no or 1 if equal or more than 1)\")\n",
    "  if i =='Eggs Mixed With Donor sperm':\n",
    "    print(\"Input(0 no or 1 if equal or more than 1)\")\n",
    "  if i =='Total Embryos Thawed':\n",
    "    print(\"Input(0 no, 1 for 1-10 , 2 for >10)\")  \n",
    "  if i =='Embryos Transfered':\n",
    "    print(\"Input(0, 1, 2 or 3)\")\n",
    "  if i =='Embryos Transfered from Eggs Micro-injected':\n",
    "    print(\"Input(0, 1, 2 or 3)\")\n",
    " # if i =='Number of foetal sacs with fetal pulsation':\n",
    " #   print(\"Input(0, 1, 2, or 3 for value above 2 )\")\n",
    "  if i =='Type of Infertility':\n",
    "    print(\"Input for Type of Infertility - Female Primary: 1, Type of Infertility - Female Secondary: 2, Type of Infertility - Male Primary: 3\")\n",
    "    print(\"Type of Infertility - Male Secondary:4,Type of Infertility -Couple Primary:5, Type of Infertility -Couple Secondary :6\")\n",
    "  if i =='Cause of Infertility':\n",
    "    print(\"'Cause  of Infertility - Tubal disease:1','Cause of Infertility - Ovulatory Disorder:2', 'Cause of Infertility - Male Factor:3'\")\n",
    "    print(\"'Cause of Infertility - Patient Unexplained:4','Cause of Infertility - Endometriosis :5','Cause of Infertility - Cervical factors :6'\")\n",
    "    print(\"'Cause of Infertility - Female Factors :7','Cause of Infertility - Partner Sperm Concentration:8','Cause of Infertility -  Partner Sperm Morphology :9'\")\n",
    "    print(\"'Causes of Infertility - Partner Sperm Motility :10','Cause of Infertility -  Partner Sperm Immunological factors :11'\")\n",
    "  if i =='Patient Age at Treatment':\n",
    "    print(\"Input age label, 0 for 18-34, 1 for 35-37, 2 for 38-39, 3 for 40-42, 4 for 43-44, 5 for 45-50, and 6 for above 50 \")\n",
    "  if i =='Total Number of Previous IVF cycles':\n",
    "    print(\"Input 0 to 5, input 6 for above value of 5\")\n",
    "  if i =='Total Number of Previous DI cycles':\n",
    "    print(\"Input 0 to 5, input 6 for above value of 5\")\n",
    "  if i =='Main Reason for Producing Embroys Storing Eggs':\n",
    "    print(\"Input 'Treatment Now ':0,'For Donation ':1,'Treatment Now ,For Donation ':2,'For Storing Embryos ':3,'For Storing Eggs ':4\")\n",
    "  if i =='Type of treatment - IVF or DI':\n",
    "    print(\"Input(1 for IVF or 2 for DI)\")\n",
    "  if i =='Specific treatment type':\n",
    "    print(\"Input ('ICI':1, 'IVF':2, 'Unknown':3, 'IUI':4)\")\n",
    "  if i =='Egg Source':\n",
    "    print(\"Input(0 for Patient or 1 for Donor)\")\n",
    "  if i =='Sperm From':\n",
    "    print(\"Input(0 for Partner, 1 for Donor, 2 for not assigned, and 3 for Partner & Donor)\")\n",
    "  if i =='Fresh Eggs Collected':\n",
    "    print(\"Input (0 for '0', 1 for '10-20', 2 for '1-10', 3 for '20-50', 4 for '>50')\")      \n",
    "  if i =='Fresh Eggs Stored':\n",
    "    print(\"Input(0 for '0', 1 for '1-50' and 2 for >50)\")\n",
    "  if i =='Eggs Mixed With Partner Sperm':\n",
    "    print(\"Input (0 for '0', 1 for '1-10', 2 for '10-20', 3 for '20-50', 4 for '>50')\") \n",
    "  if i =='Total Embryos Created':\n",
    "    print(\"Input (0 for '0', 1 for '1-5', 2 for '5-10', 3 for '10-20', 4 for '>20')\") \n",
    "  if i =='Eggs Micro-injected':\n",
    "    print(\"Input (0 for '0', 1 for '1-10', 2 for '10-20', 3 for '20-50', 4 for '>50')\") \n",
    "  if i =='Embryos Stored For Use By Patient':\n",
    "    print(\"Input (0 for '0', 1 for '1-10', 2 for '10-50', 3 for '>50')\") \n",
    " # if i =='Early Outcome':\n",
    " #   print(\"Input('Intrauterine Fetal Pulsation Seen ': 1, 'None ':0, 'Biochemical Pregnancy Only ': 2, 'Misscarriage ': 3 ,'Ectopic ':4 )\") \n",
    "\n",
    "  number = float(input(\"Enter your value: \"))\n",
    "  \n",
    "  if number < 0 :\n",
    "    print(\"Please input non-negative value \")\n",
    "    break\n",
    "  else:\n",
    "    pass\n",
    "  x=' '\n",
    "  print(x)\n",
    "  column_name = i\n",
    "  #input_data.insert(loc=0, column= i, value=[number])\n",
    "  input_data.loc[0, column_name] = number"
   ]
  },
  {
   "cell_type": "code",
   "execution_count": 81,
   "metadata": {
    "id": "F_ZGfE_1eL4l"
   },
   "outputs": [
    {
     "data": {
      "text/html": [
       "<div>\n",
       "<style scoped>\n",
       "    .dataframe tbody tr th:only-of-type {\n",
       "        vertical-align: middle;\n",
       "    }\n",
       "\n",
       "    .dataframe tbody tr th {\n",
       "        vertical-align: top;\n",
       "    }\n",
       "\n",
       "    .dataframe thead th {\n",
       "        text-align: right;\n",
       "    }\n",
       "</style>\n",
       "<table border=\"1\" class=\"dataframe\">\n",
       "  <thead>\n",
       "    <tr style=\"text-align: right;\">\n",
       "      <th></th>\n",
       "      <th>Patient Age at Treatment</th>\n",
       "      <th>Total Number of Previous IVF cycles</th>\n",
       "      <th>Total Number of Previous DI cycles</th>\n",
       "      <th>Total number of IVF pregnancies</th>\n",
       "      <th>Total number of DI pregnancies</th>\n",
       "      <th>Main Reason for Producing Embroys Storing Eggs</th>\n",
       "      <th>Donated embryo</th>\n",
       "      <th>Patient acting as Surrogate</th>\n",
       "      <th>Type of treatment - IVF or DI</th>\n",
       "      <th>Specific treatment type</th>\n",
       "      <th>...</th>\n",
       "      <th>Eggs Mixed With Partner Sperm</th>\n",
       "      <th>Eggs Mixed With Donor sperm</th>\n",
       "      <th>Total Embryos Created</th>\n",
       "      <th>Eggs Micro-injected</th>\n",
       "      <th>Total Embryos Thawed</th>\n",
       "      <th>Embryos Transfered</th>\n",
       "      <th>Embryos Transfered from Eggs Micro-injected</th>\n",
       "      <th>Embryos Stored For Use By Patient</th>\n",
       "      <th>Type of Infertility</th>\n",
       "      <th>Cause of Infertility</th>\n",
       "    </tr>\n",
       "  </thead>\n",
       "  <tbody>\n",
       "    <tr>\n",
       "      <th>0</th>\n",
       "      <td>0.0</td>\n",
       "      <td>1.0</td>\n",
       "      <td>2.0</td>\n",
       "      <td>2.0</td>\n",
       "      <td>0.0</td>\n",
       "      <td>0.0</td>\n",
       "      <td>0.0</td>\n",
       "      <td>0.0</td>\n",
       "      <td>1.0</td>\n",
       "      <td>2.0</td>\n",
       "      <td>...</td>\n",
       "      <td>1.0</td>\n",
       "      <td>0.0</td>\n",
       "      <td>1.0</td>\n",
       "      <td>0.0</td>\n",
       "      <td>1.0</td>\n",
       "      <td>0.0</td>\n",
       "      <td>0.0</td>\n",
       "      <td>1.0</td>\n",
       "      <td>3.0</td>\n",
       "      <td>4.0</td>\n",
       "    </tr>\n",
       "  </tbody>\n",
       "</table>\n",
       "<p>1 rows × 29 columns</p>\n",
       "</div>"
      ],
      "text/plain": [
       "   Patient Age at Treatment  Total Number of Previous IVF cycles  \\\n",
       "0                       0.0                                  1.0   \n",
       "\n",
       "   Total Number of Previous DI cycles  Total number of IVF pregnancies  \\\n",
       "0                                 2.0                              2.0   \n",
       "\n",
       "   Total number of DI pregnancies  \\\n",
       "0                             0.0   \n",
       "\n",
       "   Main Reason for Producing Embroys Storing Eggs  Donated embryo  \\\n",
       "0                                             0.0             0.0   \n",
       "\n",
       "   Patient acting as Surrogate  Type of treatment - IVF or DI  \\\n",
       "0                          0.0                            1.0   \n",
       "\n",
       "   Specific treatment type  ...  Eggs Mixed With Partner Sperm  \\\n",
       "0                      2.0  ...                            1.0   \n",
       "\n",
       "   Eggs Mixed With Donor sperm  Total Embryos Created  Eggs Micro-injected  \\\n",
       "0                          0.0                    1.0                  0.0   \n",
       "\n",
       "   Total Embryos Thawed  Embryos Transfered  \\\n",
       "0                   1.0                 0.0   \n",
       "\n",
       "   Embryos Transfered from Eggs Micro-injected  \\\n",
       "0                                          0.0   \n",
       "\n",
       "   Embryos Stored For Use By Patient  Type of Infertility  \\\n",
       "0                                1.0                  3.0   \n",
       "\n",
       "   Cause of Infertility  \n",
       "0                   4.0  \n",
       "\n",
       "[1 rows x 29 columns]"
      ]
     },
     "execution_count": 81,
     "metadata": {},
     "output_type": "execute_result"
    }
   ],
   "source": [
    "input_data"
   ]
  },
  {
   "cell_type": "code",
   "execution_count": 82,
   "metadata": {
    "id": "_Me3hIJD2XMB"
   },
   "outputs": [],
   "source": [
    "input_data = input_data.transpose().reindex(features).transpose()"
   ]
  },
  {
   "cell_type": "code",
   "execution_count": 83,
   "metadata": {
    "id": "4po9ErBVfI4S"
   },
   "outputs": [
    {
     "data": {
      "text/plain": [
       "Index(['Patient Age at Treatment', 'Total Number of Previous IVF cycles',\n",
       "       'Total Number of Previous DI cycles', 'Total number of IVF pregnancies',\n",
       "       'Total number of DI pregnancies',\n",
       "       'Main Reason for Producing Embroys Storing Eggs', 'Donated embryo',\n",
       "       'Patient acting as Surrogate', 'Type of treatment - IVF or DI',\n",
       "       'Specific treatment type', 'PGD', 'Elective Single Embryo Transfer',\n",
       "       'Egg Source', 'Sperm From', 'Fresh Cycle', 'Frozen Cycle',\n",
       "       'Eggs Thawed', 'Fresh Eggs Collected', 'Fresh Eggs Stored',\n",
       "       'Eggs Mixed With Partner Sperm', 'Eggs Mixed With Donor sperm',\n",
       "       'Total Embryos Created', 'Eggs Micro-injected', 'Total Embryos Thawed',\n",
       "       'Embryos Transfered', 'Embryos Transfered from Eggs Micro-injected',\n",
       "       'Embryos Stored For Use By Patient', 'Type of Infertility',\n",
       "       'Cause of Infertility'],\n",
       "      dtype='object')"
      ]
     },
     "execution_count": 83,
     "metadata": {},
     "output_type": "execute_result"
    }
   ],
   "source": [
    "input_data.columns"
   ]
  },
  {
   "cell_type": "markdown",
   "metadata": {
    "id": "2QkXdfLY57w2"
   },
   "source": [
    "### Prediction"
   ]
  },
  {
   "cell_type": "code",
   "execution_count": 84,
   "metadata": {
    "id": "OkuVojSgXyO1"
   },
   "outputs": [
    {
     "name": "stdout",
     "output_type": "stream",
     "text": [
      "Hasil prediksi berdasarkan kondisi anda: Berhasil\n"
     ]
    }
   ],
   "source": [
    "#Prediction:\n",
    "result_prediction= clf_xgb.predict(input_data)\n",
    "if result_prediction == 1: \n",
    "  print(\"Hasil prediksi berdasarkan kondisi anda: Berhasil\" )\n",
    "else:\n",
    "  print(\"Hasil prediksi berdasarkan kondisi anda: Tidak Berhasil\")\n"
   ]
  }
 ],
 "metadata": {
  "colab": {
   "collapsed_sections": [],
   "provenance": [],
   "toc_visible": true
  },
  "kernelspec": {
   "display_name": "Python 3",
   "language": "python",
   "name": "python3"
  },
  "language_info": {
   "codemirror_mode": {
    "name": "ipython",
    "version": 3
   },
   "file_extension": ".py",
   "mimetype": "text/x-python",
   "name": "python",
   "nbconvert_exporter": "python",
   "pygments_lexer": "ipython3",
   "version": "3.8.5"
  }
 },
 "nbformat": 4,
 "nbformat_minor": 4
}
